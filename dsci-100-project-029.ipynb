{
 "cells": [
  {
   "cell_type": "markdown",
   "id": "567191bc-a2d9-4c2b-a879-66937a140424",
   "metadata": {},
   "source": [
    "# Group Proposal #"
   ]
  },
  {
   "cell_type": "markdown",
   "id": "cd706ed8-54ce-44e6-bfca-2116196d87a0",
   "metadata": {
    "tags": []
   },
   "source": [
    "**[Github Repo](https://github.com/AnishkaFP/dsci-100-2023w1-group-029)**"
   ]
  },
  {
   "cell_type": "markdown",
   "id": "b82eef54-bb39-44a1-ad1d-30f36de0a6bc",
   "metadata": {},
   "source": [
    "## Predicting Thalassemia (Heart Disease) #"
   ]
  },
  {
   "cell_type": "markdown",
   "id": "472642a4-fc28-49b7-ac18-d4864aa94a9e",
   "metadata": {},
   "source": [
    "## Introduction ## \n",
    "The topic aims to show the presence of heart disease in individuals, depending on various factors. The study specifically focuses on the Thalassemia heart disease, which is a blood disorder that causes your body to have too little hemoglobin, which is what enables red blood cells to carry oxygen. Based on the 12 factors we see outlined and described below, the study will show if the patient developed Thalassemia."
   ]
  },
  {
   "cell_type": "markdown",
   "id": "15cd6a87-9452-4281-b223-d7c19db64393",
   "metadata": {},
   "source": [
    "## Goal: ##\n",
    "Our project will seek to predict heart disease in patients based on their performance in a series of easily accessible metrics with the intent of identifying patients that are likely to be affected early for further testing. \n",
    "\n",
    "To do so, we will make use of a [simplified version](https://www.kaggle.com/datasets/johnsmith88/heart-disease-dataset) of a [dataset by UC Irvine](https://archive.ics.uci.edu/dataset/45/heart+disease).\n"
   ]
  },
  {
   "cell_type": "markdown",
   "id": "a53fce0a-b753-4803-8183-9c3f6e00da6d",
   "metadata": {},
   "source": [
    "**Our data set includes the following measures:**\n",
    "| Variable                           | Coding   | Description                                                 | Type          |\n",
    "|------------------------------------|----------|-------------------------------------------------------------|---------------|\n",
    "| Age                                | age      | Age of the patient                                         | Integer       |\n",
    "| Sex                                | sex      | Sex of the patient                                         | Categorical, 0-1 |\n",
    "| Chest pain type                    | cp       | Level of patient pain                                      | Categorical, 0 - 3 |\n",
    "| Resting blood pressure (mmHg)      | trestbps | Blood pressure of the patient at rest                       | Integer       |\n",
    "| Serum cholesterol in mg/dl         | chol     | Cholesterol level in the patient                            | Integer       |\n",
    "| Fasting blood sugar > 120 mg/dl    | fbs      | Is the blood sugar level of the patient above 120 mg/dl?   | Categorical, 0-1 |\n",
    "| Resting electrocardiographic results | restecg  | Result of the electrocardiogram of the patient              | Categorical, 0-2 |\n",
    "| Maximum heart rate achieved (bpm)  | thalach  | Heart rate achieved during exercise                          | Integer       |\n",
    "| Exercise induced angina             | exang    | Did the patient suffer from angina due to exercise?         | Categorical, 0-1 |\n",
    "| ST depression                      | oldpeak  | ST depression induced by exercise relative to rest on the electrocardiogram | Numeric |\n",
    "| ST Slope                           | slope    | The slope of the peak exercise ST segment                   | Categorical, 1-3 |\n",
    "| Major vessels                      | ca       | Number of major vessels colored by fluoroscopy              | Integer       |\n",
    "| Thalassemia                        | thal     | Whether the patient is affected by Thalassemia              | Categorical, 0-2 |\n"
   ]
  },
  {
   "cell_type": "markdown",
   "id": "e110ba40-af8c-4b42-9270-7690ad222c36",
   "metadata": {},
   "source": [
    "## Preliminary Exploratory Data Analysis ##"
   ]
  },
  {
   "cell_type": "markdown",
   "id": "e9955512-9713-42fe-9fe6-b10ebeb761b5",
   "metadata": {},
   "source": [
    "**Load R Library**"
   ]
  },
  {
   "cell_type": "code",
   "execution_count": 2,
   "id": "61bf7cd5-00c3-4cd8-960c-a5bf52b743b7",
   "metadata": {
    "tags": []
   },
   "outputs": [
    {
     "name": "stderr",
     "output_type": "stream",
     "text": [
      "Warning message:\n",
      "“unable to access index for repository https://cran.r-project.org/src/contrib:\n",
      "  cannot open URL 'https://cran.r-project.org/src/contrib/PACKAGES'”\n",
      "Warning message:\n",
      "“package ‘skimr’ is not available for this version of R\n",
      "\n",
      "A version of this package for your version of R might be available elsewhere,\n",
      "see the ideas at\n",
      "https://cran.r-project.org/doc/manuals/r-patched/R-admin.html#Installing-packages”\n"
     ]
    }
   ],
   "source": [
    "install.packages(\"skimr\")"
   ]
  },
  {
   "cell_type": "code",
   "execution_count": 1,
   "id": "25ef5f8e-84b7-44a1-9f3b-cf523b28cc56",
   "metadata": {
    "tags": []
   },
   "outputs": [
    {
     "name": "stderr",
     "output_type": "stream",
     "text": [
      "── \u001b[1mAttaching packages\u001b[22m ─────────────────────────────────────── tidyverse 1.3.2 ──\n",
      "\u001b[32m✔\u001b[39m \u001b[34mggplot2\u001b[39m 3.4.2     \u001b[32m✔\u001b[39m \u001b[34mpurrr  \u001b[39m 1.0.1\n",
      "\u001b[32m✔\u001b[39m \u001b[34mtibble \u001b[39m 3.2.1     \u001b[32m✔\u001b[39m \u001b[34mdplyr  \u001b[39m 1.1.1\n",
      "\u001b[32m✔\u001b[39m \u001b[34mtidyr  \u001b[39m 1.3.0     \u001b[32m✔\u001b[39m \u001b[34mstringr\u001b[39m 1.5.0\n",
      "\u001b[32m✔\u001b[39m \u001b[34mreadr  \u001b[39m 2.1.3     \u001b[32m✔\u001b[39m \u001b[34mforcats\u001b[39m 0.5.2\n",
      "── \u001b[1mConflicts\u001b[22m ────────────────────────────────────────── tidyverse_conflicts() ──\n",
      "\u001b[31m✖\u001b[39m \u001b[34mdplyr\u001b[39m::\u001b[32mfilter()\u001b[39m masks \u001b[34mstats\u001b[39m::filter()\n",
      "\u001b[31m✖\u001b[39m \u001b[34mdplyr\u001b[39m::\u001b[32mlag()\u001b[39m    masks \u001b[34mstats\u001b[39m::lag()\n"
     ]
    },
    {
     "ename": "ERROR",
     "evalue": "Error in library(skimr): there is no package called ‘skimr’\n",
     "output_type": "error",
     "traceback": [
      "Error in library(skimr): there is no package called ‘skimr’\nTraceback:\n",
      "1. library(skimr)"
     ]
    }
   ],
   "source": [
    "# load library\n",
    "library(tidyverse)\n",
    "library(dplyr)\n",
    "library(skimr) # install skim package"
   ]
  },
  {
   "cell_type": "code",
   "execution_count": 18,
   "id": "b7c7d268-0c1d-4e44-9650-b96bd5007cc7",
   "metadata": {
    "tags": []
   },
   "outputs": [
    {
     "name": "stderr",
     "output_type": "stream",
     "text": [
      "\u001b[1mRows: \u001b[22m\u001b[34m1025\u001b[39m \u001b[1mColumns: \u001b[22m\u001b[34m14\u001b[39m\n",
      "\u001b[36m──\u001b[39m \u001b[1mColumn specification\u001b[22m \u001b[36m────────────────────────────────────────────────────────\u001b[39m\n",
      "\u001b[1mDelimiter:\u001b[22m \",\"\n",
      "\u001b[32mdbl\u001b[39m (14): age, sex, cp, trestbps, chol, fbs, restecg, thalach, exang, oldpea...\n",
      "\n",
      "\u001b[36mℹ\u001b[39m Use `spec()` to retrieve the full column specification for this data.\n",
      "\u001b[36mℹ\u001b[39m Specify the column types or set `show_col_types = FALSE` to quiet this message.\n"
     ]
    },
    {
     "ename": "ERROR",
     "evalue": "\u001b[1m\u001b[33mError\u001b[39m in `mutate()`:\u001b[22m\n\u001b[1m\u001b[22m\u001b[36mℹ\u001b[39m In argument: `per = 100 * count/sum(count)`.\n\u001b[36mℹ\u001b[39m In group 1: `target = 0`.\n\u001b[1mCaused by error in `100 * count`:\u001b[22m\n\u001b[33m!\u001b[39m non-numeric argument to binary operator\n",
     "output_type": "error",
     "traceback": [
      "\u001b[1m\u001b[33mError\u001b[39m in `mutate()`:\u001b[22m\n\u001b[1m\u001b[22m\u001b[36mℹ\u001b[39m In argument: `per = 100 * count/sum(count)`.\n\u001b[36mℹ\u001b[39m In group 1: `target = 0`.\n\u001b[1mCaused by error in `100 * count`:\u001b[22m\n\u001b[33m!\u001b[39m non-numeric argument to binary operator\nTraceback:\n",
      "1. ungroup(mutate(group_by(select(heart_data, age, trestbps, chol, \n .     thalach, oldpeak, target), target), per = 100 * count/sum(count)))",
      "2. mutate(group_by(select(heart_data, age, trestbps, chol, thalach, \n .     oldpeak, target), target), per = 100 * count/sum(count))",
      "3. mutate.data.frame(group_by(select(heart_data, age, trestbps, \n .     chol, thalach, oldpeak, target), target), per = 100 * count/sum(count))",
      "4. mutate_cols(.data, dplyr_quosures(...), by)",
      "5. withCallingHandlers(for (i in seq_along(dots)) {\n .     poke_error_context(dots, i, mask = mask)\n .     context_poke(\"column\", old_current_column)\n .     new_columns <- mutate_col(dots[[i]], data, mask, new_columns)\n . }, error = dplyr_error_handler(dots = dots, mask = mask, bullets = mutate_bullets, \n .     error_call = error_call, error_class = \"dplyr:::mutate_error\"), \n .     warning = dplyr_warning_handler(state = warnings_state, mask = mask, \n .         error_call = error_call))",
      "6. mutate_col(dots[[i]], data, mask, new_columns)",
      "7. mask$eval_all_mutate(quo)",
      "8. eval()",
      "9. .handleSimpleError(function (cnd) \n . {\n .     local_error_context(dots, i = frame[[i_sym]], mask = mask)\n .     if (inherits(cnd, \"dplyr:::internal_error\")) {\n .         parent <- error_cnd(message = bullets(cnd))\n .     }\n .     else {\n .         parent <- cnd\n .     }\n .     message <- c(cnd_bullet_header(action), i = if (has_active_group_context(mask)) cnd_bullet_cur_group_label())\n .     abort(message, class = error_class, parent = parent, call = error_call)\n . }, \"non-numeric argument to binary operator\", base::quote(100 * \n .     count))",
      "10. h(simpleError(msg, call))",
      "11. abort(message, class = error_class, parent = parent, call = error_call)",
      "12. signal_abort(cnd, .file)"
     ]
    }
   ],
   "source": [
    "# read data\n",
    "heart_data <- read_csv(\"heart.csv\")\n",
    "# keep numerical data for knn model analysis\n",
    "heart_data <- heart_data |>\n",
    "              select(age,trestbps,chol,thalach,oldpeak,target) |>\n",
    "              group_by(target) |>\n",
    "              mutate(per =  100 *count/sum(count)) |>\n",
    "              ungroup()\n",
    "\n",
    "# \n",
    "heart_data\n",
    "\n"
   ]
  },
  {
   "cell_type": "code",
   "execution_count": null,
   "id": "b76a3154-c9a9-44cd-921b-1c8c8815b702",
   "metadata": {},
   "outputs": [],
   "source": []
  },
  {
   "cell_type": "code",
   "execution_count": null,
   "id": "c877e0dc-10d6-4b28-967b-4269e80dd1de",
   "metadata": {},
   "outputs": [],
   "source": []
  },
  {
   "cell_type": "code",
   "execution_count": null,
   "id": "15460afd-5a06-4822-b9a6-16f94157607e",
   "metadata": {},
   "outputs": [],
   "source": []
  },
  {
   "cell_type": "code",
   "execution_count": null,
   "id": "05d8fcbe-5c0c-455a-9903-47a1990e10a3",
   "metadata": {},
   "outputs": [],
   "source": []
  }
 ],
 "metadata": {
  "kernelspec": {
   "display_name": "R",
   "language": "R",
   "name": "ir"
  },
  "language_info": {
   "codemirror_mode": "r",
   "file_extension": ".r",
   "mimetype": "text/x-r-source",
   "name": "R",
   "pygments_lexer": "r",
   "version": "4.2.2"
  }
 },
 "nbformat": 4,
 "nbformat_minor": 5
}
