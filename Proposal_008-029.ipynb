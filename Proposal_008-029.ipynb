{
 "cells": [
  {
   "cell_type": "markdown",
   "id": "567191bc-a2d9-4c2b-a879-66937a140424",
   "metadata": {},
   "source": [
    "# Group Proposal #"
   ]
  },
  {
   "cell_type": "markdown",
   "id": "cd706ed8-54ce-44e6-bfca-2116196d87a0",
   "metadata": {
    "tags": []
   },
   "source": [
    "**[Github Repo](https://github.com/AnishkaFP/dsci-100-2023w1-group-029)**"
   ]
  },
  {
   "cell_type": "markdown",
   "id": "b82eef54-bb39-44a1-ad1d-30f36de0a6bc",
   "metadata": {},
   "source": [
    "## Predicting Thalassemia (Heart Disease) #"
   ]
  },
  {
   "cell_type": "markdown",
   "id": "472642a4-fc28-49b7-ac18-d4864aa94a9e",
   "metadata": {},
   "source": [
    "## Introduction ## \n",
    "The topic aims to show the presence of heart disease in individuals, depending on various factors. The study specifically focuses on the Thalassemia heart disease, which is a blood disorder that causes your body to have too little hemoglobin, which is what enables red blood cells to carry oxygen. Based on the 12 factors we see outlined and described below, the study will show if the patient developed Thalassemia."
   ]
  },
  {
   "cell_type": "markdown",
   "id": "15cd6a87-9452-4281-b223-d7c19db64393",
   "metadata": {},
   "source": [
    "## Goal: ##\n",
    "Our project will seek to predict heart disease in patients based on their performance in a series of easily accessible metrics with the intent of identifying patients that are likely to be affected early for further testing. \n",
    "\n",
    "To do so, we will make use of a [simplified version](https://www.kaggle.com/datasets/johnsmith88/heart-disease-dataset) of a [dataset by UC Irvine](https://archive.ics.uci.edu/dataset/45/heart+disease).\n"
   ]
  },
  {
   "cell_type": "markdown",
   "id": "a53fce0a-b753-4803-8183-9c3f6e00da6d",
   "metadata": {},
   "source": [
    "| Variable                           | Coding   | Description                                                 | Type          |\n",
    "|------------------------------------|----------|-------------------------------------------------------------|---------------|\n",
    "| Age                                | age      | Age of the patient                                         | Integer       |\n",
    "| Sex                                | sex      | Sex of the patient                                         | Categorical, 0-1 |\n",
    "| Chest pain type                    | cp       | Level of patient pain                                      | Categorical, 0 - 3 |\n",
    "| Resting blood pressure (mmHg)      | trestbps | Blood pressure of the patient at rest                       | Integer       |\n",
    "| Serum cholesterol in mg/dl         | chol     | Cholesterol level in the patient                            | Integer       |\n",
    "| Fasting blood sugar > 120 mg/dl    | fbs      | Is the blood sugar level of the patient above 120 mg/dl?   | Categorical, 0-1 |\n",
    "| Resting electrocardiographic results | restecg  | Result of the electrocardiogram of the patient              | Categorical, 0-2 |\n",
    "| Maximum heart rate achieved (bpm)  | thalach  | Heart rate achieved during exercise                          | Integer       |\n",
    "| Exercise induced angina             | exang    | Did the patient suffer from angina due to exercise?         | Categorical, 0-1 |\n",
    "| ST depression                      | oldpeak  | ST depression induced by exercise relative to rest on the electrocardiogram | Numeric |\n",
    "| ST Slope                           | slope    | The slope of the peak exercise ST segment                   | Categorical, 1-3 |\n",
    "| Major vessels                      | ca       | Number of major vessels colored by fluoroscopy              | Integer       |\n",
    "| Thalassemia                        | thal     | Whether the patient is affected by Thalassemia              | Categorical, 0-2 |\n",
    "| Target                             | target   | Presence of heart disease in the patient                    | Categorical, 0-1 |\n"
   ]
  },
  {
   "cell_type": "markdown",
   "id": "e110ba40-af8c-4b42-9270-7690ad222c36",
   "metadata": {},
   "source": [
    "## Preliminary Exploratory Data Analysis ##"
   ]
  },
  {
   "cell_type": "markdown",
   "id": "e9955512-9713-42fe-9fe6-b10ebeb761b5",
   "metadata": {},
   "source": [
    "**Load R Library**"
   ]
  },
  {
   "cell_type": "code",
   "execution_count": 1,
   "id": "25ef5f8e-84b7-44a1-9f3b-cf523b28cc56",
   "metadata": {
    "tags": []
   },
   "outputs": [
    {
     "name": "stderr",
     "output_type": "stream",
     "text": [
      "── \u001b[1mAttaching packages\u001b[22m ─────────────────────────────────────── tidyverse 1.3.2 ──\n",
      "\u001b[32m✔\u001b[39m \u001b[34mggplot2\u001b[39m 3.4.2     \u001b[32m✔\u001b[39m \u001b[34mpurrr  \u001b[39m 1.0.1\n",
      "\u001b[32m✔\u001b[39m \u001b[34mtibble \u001b[39m 3.2.1     \u001b[32m✔\u001b[39m \u001b[34mdplyr  \u001b[39m 1.1.1\n",
      "\u001b[32m✔\u001b[39m \u001b[34mtidyr  \u001b[39m 1.3.0     \u001b[32m✔\u001b[39m \u001b[34mstringr\u001b[39m 1.5.0\n",
      "\u001b[32m✔\u001b[39m \u001b[34mreadr  \u001b[39m 2.1.3     \u001b[32m✔\u001b[39m \u001b[34mforcats\u001b[39m 0.5.2\n",
      "── \u001b[1mConflicts\u001b[22m ────────────────────────────────────────── tidyverse_conflicts() ──\n",
      "\u001b[31m✖\u001b[39m \u001b[34mdplyr\u001b[39m::\u001b[32mfilter()\u001b[39m masks \u001b[34mstats\u001b[39m::filter()\n",
      "\u001b[31m✖\u001b[39m \u001b[34mdplyr\u001b[39m::\u001b[32mlag()\u001b[39m    masks \u001b[34mstats\u001b[39m::lag()\n"
     ]
    }
   ],
   "source": [
    "# load librares\n",
    "library(tidyverse)\n",
    "library(dplyr)"
   ]
  },
  {
   "cell_type": "markdown",
   "id": "8fe82b61-7343-4508-8307-c6c67a20e268",
   "metadata": {},
   "source": [
    "**Read Data Set**"
   ]
  },
  {
   "cell_type": "code",
   "execution_count": 2,
   "id": "b7c7d268-0c1d-4e44-9650-b96bd5007cc7",
   "metadata": {
    "tags": []
   },
   "outputs": [
    {
     "name": "stderr",
     "output_type": "stream",
     "text": [
      "\u001b[1mRows: \u001b[22m\u001b[34m1025\u001b[39m \u001b[1mColumns: \u001b[22m\u001b[34m14\u001b[39m\n",
      "\u001b[36m──\u001b[39m \u001b[1mColumn specification\u001b[22m \u001b[36m────────────────────────────────────────────────────────\u001b[39m\n",
      "\u001b[1mDelimiter:\u001b[22m \",\"\n",
      "\u001b[32mdbl\u001b[39m (14): age, sex, cp, trestbps, chol, fbs, restecg, thalach, exang, oldpea...\n",
      "\n",
      "\u001b[36mℹ\u001b[39m Use `spec()` to retrieve the full column specification for this data.\n",
      "\u001b[36mℹ\u001b[39m Specify the column types or set `show_col_types = FALSE` to quiet this message.\n"
     ]
    },
    {
     "data": {
      "text/html": [
       "<table class=\"dataframe\">\n",
       "<caption>A tibble: 6 × 14</caption>\n",
       "<thead>\n",
       "\t<tr><th scope=col>age</th><th scope=col>sex</th><th scope=col>cp</th><th scope=col>trestbps</th><th scope=col>chol</th><th scope=col>fbs</th><th scope=col>restecg</th><th scope=col>thalach</th><th scope=col>exang</th><th scope=col>oldpeak</th><th scope=col>slope</th><th scope=col>ca</th><th scope=col>thal</th><th scope=col>target</th></tr>\n",
       "\t<tr><th scope=col>&lt;dbl&gt;</th><th scope=col>&lt;dbl&gt;</th><th scope=col>&lt;dbl&gt;</th><th scope=col>&lt;dbl&gt;</th><th scope=col>&lt;dbl&gt;</th><th scope=col>&lt;dbl&gt;</th><th scope=col>&lt;dbl&gt;</th><th scope=col>&lt;dbl&gt;</th><th scope=col>&lt;dbl&gt;</th><th scope=col>&lt;dbl&gt;</th><th scope=col>&lt;dbl&gt;</th><th scope=col>&lt;dbl&gt;</th><th scope=col>&lt;dbl&gt;</th><th scope=col>&lt;dbl&gt;</th></tr>\n",
       "</thead>\n",
       "<tbody>\n",
       "\t<tr><td>52</td><td>1</td><td>0</td><td>125</td><td>212</td><td>0</td><td>1</td><td>168</td><td>0</td><td>1.0</td><td>2</td><td>2</td><td>3</td><td>0</td></tr>\n",
       "\t<tr><td>53</td><td>1</td><td>0</td><td>140</td><td>203</td><td>1</td><td>0</td><td>155</td><td>1</td><td>3.1</td><td>0</td><td>0</td><td>3</td><td>0</td></tr>\n",
       "\t<tr><td>70</td><td>1</td><td>0</td><td>145</td><td>174</td><td>0</td><td>1</td><td>125</td><td>1</td><td>2.6</td><td>0</td><td>0</td><td>3</td><td>0</td></tr>\n",
       "\t<tr><td>61</td><td>1</td><td>0</td><td>148</td><td>203</td><td>0</td><td>1</td><td>161</td><td>0</td><td>0.0</td><td>2</td><td>1</td><td>3</td><td>0</td></tr>\n",
       "\t<tr><td>62</td><td>0</td><td>0</td><td>138</td><td>294</td><td>1</td><td>1</td><td>106</td><td>0</td><td>1.9</td><td>1</td><td>3</td><td>2</td><td>0</td></tr>\n",
       "\t<tr><td>58</td><td>0</td><td>0</td><td>100</td><td>248</td><td>0</td><td>0</td><td>122</td><td>0</td><td>1.0</td><td>1</td><td>0</td><td>2</td><td>1</td></tr>\n",
       "</tbody>\n",
       "</table>\n"
      ],
      "text/latex": [
       "A tibble: 6 × 14\n",
       "\\begin{tabular}{llllllllllllll}\n",
       " age & sex & cp & trestbps & chol & fbs & restecg & thalach & exang & oldpeak & slope & ca & thal & target\\\\\n",
       " <dbl> & <dbl> & <dbl> & <dbl> & <dbl> & <dbl> & <dbl> & <dbl> & <dbl> & <dbl> & <dbl> & <dbl> & <dbl> & <dbl>\\\\\n",
       "\\hline\n",
       "\t 52 & 1 & 0 & 125 & 212 & 0 & 1 & 168 & 0 & 1.0 & 2 & 2 & 3 & 0\\\\\n",
       "\t 53 & 1 & 0 & 140 & 203 & 1 & 0 & 155 & 1 & 3.1 & 0 & 0 & 3 & 0\\\\\n",
       "\t 70 & 1 & 0 & 145 & 174 & 0 & 1 & 125 & 1 & 2.6 & 0 & 0 & 3 & 0\\\\\n",
       "\t 61 & 1 & 0 & 148 & 203 & 0 & 1 & 161 & 0 & 0.0 & 2 & 1 & 3 & 0\\\\\n",
       "\t 62 & 0 & 0 & 138 & 294 & 1 & 1 & 106 & 0 & 1.9 & 1 & 3 & 2 & 0\\\\\n",
       "\t 58 & 0 & 0 & 100 & 248 & 0 & 0 & 122 & 0 & 1.0 & 1 & 0 & 2 & 1\\\\\n",
       "\\end{tabular}\n"
      ],
      "text/markdown": [
       "\n",
       "A tibble: 6 × 14\n",
       "\n",
       "| age &lt;dbl&gt; | sex &lt;dbl&gt; | cp &lt;dbl&gt; | trestbps &lt;dbl&gt; | chol &lt;dbl&gt; | fbs &lt;dbl&gt; | restecg &lt;dbl&gt; | thalach &lt;dbl&gt; | exang &lt;dbl&gt; | oldpeak &lt;dbl&gt; | slope &lt;dbl&gt; | ca &lt;dbl&gt; | thal &lt;dbl&gt; | target &lt;dbl&gt; |\n",
       "|---|---|---|---|---|---|---|---|---|---|---|---|---|---|\n",
       "| 52 | 1 | 0 | 125 | 212 | 0 | 1 | 168 | 0 | 1.0 | 2 | 2 | 3 | 0 |\n",
       "| 53 | 1 | 0 | 140 | 203 | 1 | 0 | 155 | 1 | 3.1 | 0 | 0 | 3 | 0 |\n",
       "| 70 | 1 | 0 | 145 | 174 | 0 | 1 | 125 | 1 | 2.6 | 0 | 0 | 3 | 0 |\n",
       "| 61 | 1 | 0 | 148 | 203 | 0 | 1 | 161 | 0 | 0.0 | 2 | 1 | 3 | 0 |\n",
       "| 62 | 0 | 0 | 138 | 294 | 1 | 1 | 106 | 0 | 1.9 | 1 | 3 | 2 | 0 |\n",
       "| 58 | 0 | 0 | 100 | 248 | 0 | 0 | 122 | 0 | 1.0 | 1 | 0 | 2 | 1 |\n",
       "\n"
      ],
      "text/plain": [
       "  age sex cp trestbps chol fbs restecg thalach exang oldpeak slope ca thal\n",
       "1 52  1   0  125      212  0   1       168     0     1.0     2     2  3   \n",
       "2 53  1   0  140      203  1   0       155     1     3.1     0     0  3   \n",
       "3 70  1   0  145      174  0   1       125     1     2.6     0     0  3   \n",
       "4 61  1   0  148      203  0   1       161     0     0.0     2     1  3   \n",
       "5 62  0   0  138      294  1   1       106     0     1.9     1     3  2   \n",
       "6 58  0   0  100      248  0   0       122     0     1.0     1     0  2   \n",
       "  target\n",
       "1 0     \n",
       "2 0     \n",
       "3 0     \n",
       "4 0     \n",
       "5 0     \n",
       "6 1     "
      ]
     },
     "metadata": {},
     "output_type": "display_data"
    }
   ],
   "source": [
    "# read data\n",
    "heart_data_raw <- read_csv(\"heart.csv\")\n",
    "head(heart_data_raw)"
   ]
  },
  {
   "cell_type": "markdown",
   "id": "97556772-9795-4731-b782-2368640c3b21",
   "metadata": {},
   "source": [
    "**Clean and Wrangle Data into a Tidy Format**"
   ]
  },
  {
   "cell_type": "code",
   "execution_count": 3,
   "id": "15460afd-5a06-4822-b9a6-16f94157607e",
   "metadata": {},
   "outputs": [
    {
     "name": "stdout",
     "output_type": "stream",
     "text": [
      "         missing_values\n",
      "age                   0\n",
      "sex                   0\n",
      "cp                    0\n",
      "trestbps              0\n",
      "chol                  0\n",
      "fbs                   0\n",
      "restecg               0\n",
      "thalach               0\n",
      "exang                 0\n",
      "oldpeak               0\n",
      "slope                 0\n",
      "ca                    0\n",
      "thal                  0\n",
      "target                0\n"
     ]
    }
   ],
   "source": [
    "# Check for Missing values\n",
    "missing_values <- colSums(is.na(heart_data_raw))\n",
    "print(data.frame(missing_values))"
   ]
  },
  {
   "cell_type": "code",
   "execution_count": 5,
   "id": "05d8fcbe-5c0c-455a-9903-47a1990e10a3",
   "metadata": {},
   "outputs": [
    {
     "name": "stdout",
     "output_type": "stream",
     "text": [
      "         variable_types0\n",
      "age              numeric\n",
      "sex              numeric\n",
      "cp               numeric\n",
      "trestbps         numeric\n",
      "chol             numeric\n",
      "fbs              numeric\n",
      "restecg          numeric\n",
      "thalach          numeric\n",
      "exang            numeric\n",
      "oldpeak          numeric\n",
      "slope            numeric\n",
      "ca               numeric\n",
      "thal             numeric\n",
      "target           numeric\n"
     ]
    }
   ],
   "source": [
    "# check the variable types of each column\n",
    "variable_types0 <- sapply(heart_data_raw, class)\n",
    "print(data.frame(variable_types0))"
   ]
  },
  {
   "cell_type": "code",
   "execution_count": 7,
   "id": "c877e0dc-10d6-4b28-967b-4269e80dd1de",
   "metadata": {},
   "outputs": [
    {
     "name": "stdout",
     "output_type": "stream",
     "text": [
      "         variable_types1\n",
      "age              numeric\n",
      "sex               factor\n",
      "cp                factor\n",
      "trestbps         numeric\n",
      "chol             numeric\n",
      "fbs               factor\n",
      "restecg           factor\n",
      "thalach          numeric\n",
      "exang             factor\n",
      "oldpeak          numeric\n",
      "slope             factor\n",
      "ca               numeric\n",
      "thal              factor\n",
      "target            factor\n"
     ]
    }
   ],
   "source": [
    "# mutate the data type for categorical variables as factor\n",
    "heart_data_raw <- heart_data_raw |> \n",
    "                  mutate_at(vars(sex, cp, fbs, restecg, exang, slope, thal, target), as_factor)\n",
    "# check the data type of mutated data\n",
    "variable_types1 <- sapply(heart_data_raw, class)\n",
    "print(data.frame(variable_types1))"
   ]
  }
 ],
 "metadata": {
  "kernelspec": {
   "display_name": "R",
   "language": "R",
   "name": "ir"
  },
  "language_info": {
   "codemirror_mode": "r",
   "file_extension": ".r",
   "mimetype": "text/x-r-source",
   "name": "R",
   "pygments_lexer": "r",
   "version": "4.2.2"
  }
 },
 "nbformat": 4,
 "nbformat_minor": 5
}
