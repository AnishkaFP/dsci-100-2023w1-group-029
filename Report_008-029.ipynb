{
 "cells": [
  {
   "cell_type": "markdown",
   "id": "a958167a-b520-481d-817a-9de6d6f7b02f",
   "metadata": {},
   "source": [
    "# Predicting Thalassemia (Heart Disease) #"
   ]
  },
  {
   "cell_type": "markdown",
   "id": "5c9daba5-ead3-4694-9154-f99fe69c5c14",
   "metadata": {},
   "source": [
    "**[Github Repo](https://github.com/AnishkaFP/dsci-100-2023w1-group-029)**"
   ]
  },
  {
   "cell_type": "markdown",
   "id": "ea7a5c4b-7130-4b92-8266-318b53f6d1fc",
   "metadata": {},
   "source": [
    "### Goup Details ###\n",
    "Group Number: 008-29\n",
    "### Members: \n",
    "- Ishaan Chakrabarty\n",
    "- Anishka Fernandopulle\n",
    "- Milan Wiertz\n",
    "- Molly Jiang"
   ]
  },
  {
   "cell_type": "markdown",
   "id": "8f9770db-7f9c-452e-981c-9c0b44007e0c",
   "metadata": {
    "tags": []
   },
   "source": [
    "## Introduction ## \n",
    "The topic aims to show the presence of heart disease in individuals, depending on various factors. The study specifically focuses on the Thalassemia heart disease, which is a blood disorder that causes your body to have too little hemoglobin, which is what enables red blood cells to carry oxygen."
   ]
  },
  {
   "cell_type": "markdown",
   "id": "edca1dab-01bb-4096-9e2b-db80ff81cd52",
   "metadata": {},
   "source": [
    "### Goal: ###\n",
    "Our project will seek to predict heart disease in patients based on their performance in a series of easily accessible metrics with the intent of identifying patients that are likely to be affected early for further testing. "
   ]
  },
  {
   "cell_type": "markdown",
   "id": "730145e4-f345-4ac6-a5e0-ecab29f7d92c",
   "metadata": {
    "tags": []
   },
   "source": [
    "## Methodology ##"
   ]
  },
  {
   "cell_type": "markdown",
   "id": "3af1941c-c05a-473b-94c1-65e8fd47e3e2",
   "metadata": {},
   "source": [
    "### Describing the Data ###\n",
    "\n",
    "To do so, we will make use of a [simplified version](https://www.kaggle.com/datasets/johnsmith88/heart-disease-dataset) of a [dataset by UC Irvine](https://archive.ics.uci.edu/dataset/45/heart+disease).\n",
    "\n",
    "The dataset contains 12 metrics regarding patients that were diagnosed (or not) with Thalassemia, as well as an indication of whether they developed the disease (target) and whether such development was reversible or fixed (thal). The data includes biographical information such as the sex and age of the patient, results of medical tests as well as analysis of test results (eg. whether the electrocardiogram presented any abnormalities).\n",
    "\n",
    "Hereby each variable as well as their coding in the dataset, a description and variable types:\n"
   ]
  },
  {
   "cell_type": "markdown",
   "id": "a986b745-1d4a-4657-bd2d-01761c99472c",
   "metadata": {
    "tags": []
   },
   "source": [
    "| Variable                           | Coding   | Description                                                 | Type          |\n",
    "|------------------------------------|----------|-------------------------------------------------------------|---------------|\n",
    "| Age                                | age      | Age of the patient                                         | Integer       |\n",
    "| Sex                                | sex      | Sex of the patient  (0=female, 1=male)                     | Categorical, 0-1 |\n",
    "| Chest pain type                    | cp       | Type of patient pain (0=typical angina, 1=atypical angina, 2=non-anginal pain, 3=asymptomatic)         | Categorical, 0-3 |\n",
    "| Resting blood pressure (mmHg)      | trestbps | Blood pressure of the patient at rest                       | Integer       |\n",
    "| Serum cholesterol in mg/dl         | chol     | Cholesterol level in the patient                            | Integer       |\n",
    "| Fasting blood sugar > 120 mg/dl    | fbs      | Is the blood sugar level of the patient above 120 mg/dl? (0=no, 1=yes)  | Categorical, 0-1 |\n",
    "| Resting electrocardiographic results | restecg  | EC result (0=regular, 1=abnormal, 2=hypertrophy)             | Categorical, 0-2 |\n",
    "| Maximum heart rate achieved (bpm)  | thalach  | Heart rate achieved during exercise                          | Integer       |\n",
    "| Exercise induced angina             | exang    | Did the patient suffer from angina due to exercise? (0=no, 1=yes)        | Categorical, 0-1 |\n",
    "| ST depression                      | oldpeak  | ST depression induced by exercise relative to rest on the electrocardiogram | Numeric |\n",
    "| ST Slope                           | slope    | The slope of the peak exercise ST segment (0=upsloping, 1=flat 2=downsloping)| Categorical, 0-2 |\n",
    "| Major vessels                      | ca       | Number of major vessels colored by fluoroscopy              | Integer       |\n",
    "| Thalassemia                        | thal     | Type of Thalassemia (0=not affected, 1=fixed, 2=reversible)   |Categorical, 0-2 |\n",
    "| Target                             | target   | Presence of Thalassemia (0=no, 1=yes)                | Categorical, 0-1 |\n"
   ]
  },
  {
   "cell_type": "markdown",
   "id": "db0bafc1-5f79-4df7-aba1-e5adf29cab23",
   "metadata": {},
   "source": [
    "## Discussion ##"
   ]
  },
  {
   "cell_type": "markdown",
   "id": "cd6ac1ed-58f2-424d-9a1b-af3dedf6deec",
   "metadata": {
    "tags": []
   },
   "source": [
    "## Preliminary Exploratory Data Analysis ##"
   ]
  },
  {
   "cell_type": "markdown",
   "id": "7e3ccef1-42f0-4f5e-9d8b-33790e3bdfa1",
   "metadata": {},
   "source": [
    "### Load R Library ###"
   ]
  },
  {
   "cell_type": "code",
   "execution_count": 1,
   "id": "f744fe53-6693-4612-9423-0e45da2af0fa",
   "metadata": {
    "tags": []
   },
   "outputs": [
    {
     "name": "stderr",
     "output_type": "stream",
     "text": [
      "── \u001b[1mAttaching packages\u001b[22m ─────────────────────────────────────── tidyverse 1.3.2 ──\n",
      "\u001b[32m✔\u001b[39m \u001b[34mggplot2\u001b[39m 3.4.2     \u001b[32m✔\u001b[39m \u001b[34mpurrr  \u001b[39m 1.0.1\n",
      "\u001b[32m✔\u001b[39m \u001b[34mtibble \u001b[39m 3.2.1     \u001b[32m✔\u001b[39m \u001b[34mdplyr  \u001b[39m 1.1.1\n",
      "\u001b[32m✔\u001b[39m \u001b[34mtidyr  \u001b[39m 1.3.0     \u001b[32m✔\u001b[39m \u001b[34mstringr\u001b[39m 1.5.0\n",
      "\u001b[32m✔\u001b[39m \u001b[34mreadr  \u001b[39m 2.1.3     \u001b[32m✔\u001b[39m \u001b[34mforcats\u001b[39m 0.5.2\n",
      "── \u001b[1mConflicts\u001b[22m ────────────────────────────────────────── tidyverse_conflicts() ──\n",
      "\u001b[31m✖\u001b[39m \u001b[34mdplyr\u001b[39m::\u001b[32mfilter()\u001b[39m masks \u001b[34mstats\u001b[39m::filter()\n",
      "\u001b[31m✖\u001b[39m \u001b[34mdplyr\u001b[39m::\u001b[32mlag()\u001b[39m    masks \u001b[34mstats\u001b[39m::lag()\n",
      "── \u001b[1mAttaching packages\u001b[22m ────────────────────────────────────── tidymodels 1.0.0 ──\n",
      "\n",
      "\u001b[32m✔\u001b[39m \u001b[34mbroom       \u001b[39m 1.0.2     \u001b[32m✔\u001b[39m \u001b[34mrsample     \u001b[39m 1.1.1\n",
      "\u001b[32m✔\u001b[39m \u001b[34mdials       \u001b[39m 1.1.0     \u001b[32m✔\u001b[39m \u001b[34mtune        \u001b[39m 1.0.1\n",
      "\u001b[32m✔\u001b[39m \u001b[34minfer       \u001b[39m 1.0.4     \u001b[32m✔\u001b[39m \u001b[34mworkflows   \u001b[39m 1.1.2\n",
      "\u001b[32m✔\u001b[39m \u001b[34mmodeldata   \u001b[39m 1.0.1     \u001b[32m✔\u001b[39m \u001b[34mworkflowsets\u001b[39m 1.0.0\n",
      "\u001b[32m✔\u001b[39m \u001b[34mparsnip     \u001b[39m 1.0.3     \u001b[32m✔\u001b[39m \u001b[34myardstick   \u001b[39m 1.1.0\n",
      "\u001b[32m✔\u001b[39m \u001b[34mrecipes     \u001b[39m 1.0.4     \n",
      "\n",
      "── \u001b[1mConflicts\u001b[22m ───────────────────────────────────────── tidymodels_conflicts() ──\n",
      "\u001b[31m✖\u001b[39m \u001b[34mscales\u001b[39m::\u001b[32mdiscard()\u001b[39m masks \u001b[34mpurrr\u001b[39m::discard()\n",
      "\u001b[31m✖\u001b[39m \u001b[34mdplyr\u001b[39m::\u001b[32mfilter()\u001b[39m   masks \u001b[34mstats\u001b[39m::filter()\n",
      "\u001b[31m✖\u001b[39m \u001b[34mrecipes\u001b[39m::\u001b[32mfixed()\u001b[39m  masks \u001b[34mstringr\u001b[39m::fixed()\n",
      "\u001b[31m✖\u001b[39m \u001b[34mdplyr\u001b[39m::\u001b[32mlag()\u001b[39m      masks \u001b[34mstats\u001b[39m::lag()\n",
      "\u001b[31m✖\u001b[39m \u001b[34myardstick\u001b[39m::\u001b[32mspec()\u001b[39m masks \u001b[34mreadr\u001b[39m::spec()\n",
      "\u001b[31m✖\u001b[39m \u001b[34mrecipes\u001b[39m::\u001b[32mstep()\u001b[39m   masks \u001b[34mstats\u001b[39m::step()\n",
      "\u001b[34m•\u001b[39m Use \u001b[32mtidymodels_prefer()\u001b[39m to resolve common conflicts.\n",
      "\n"
     ]
    }
   ],
   "source": [
    "# load packages\n",
    "library(tidyverse)\n",
    "library(dplyr)\n",
    "library(tidymodels)\n",
    "library(ggplot2)\n",
    "\n",
    "# set the seed\n",
    "set.seed(123)"
   ]
  },
  {
   "cell_type": "markdown",
   "id": "a61507dd-382a-4875-8d16-ac796c88b63e",
   "metadata": {},
   "source": [
    "## Read in the Data Set ##"
   ]
  },
  {
   "cell_type": "code",
   "execution_count": 2,
   "id": "fa901723-508e-4881-8441-9f112420b451",
   "metadata": {
    "tags": []
   },
   "outputs": [
    {
     "name": "stderr",
     "output_type": "stream",
     "text": [
      "\u001b[1mRows: \u001b[22m\u001b[34m1025\u001b[39m \u001b[1mColumns: \u001b[22m\u001b[34m14\u001b[39m\n",
      "\u001b[36m──\u001b[39m \u001b[1mColumn specification\u001b[22m \u001b[36m────────────────────────────────────────────────────────\u001b[39m\n",
      "\u001b[1mDelimiter:\u001b[22m \",\"\n",
      "\u001b[32mdbl\u001b[39m (14): age, sex, cp, trestbps, chol, fbs, restecg, thalach, exang, oldpea...\n",
      "\n",
      "\u001b[36mℹ\u001b[39m Use `spec()` to retrieve the full column specification for this data.\n",
      "\u001b[36mℹ\u001b[39m Specify the column types or set `show_col_types = FALSE` to quiet this message.\n"
     ]
    },
    {
     "data": {
      "text/html": [
       "<table class=\"dataframe\">\n",
       "<caption>A tibble: 6 × 14</caption>\n",
       "<thead>\n",
       "\t<tr><th scope=col>age</th><th scope=col>sex</th><th scope=col>cp</th><th scope=col>trestbps</th><th scope=col>chol</th><th scope=col>fbs</th><th scope=col>restecg</th><th scope=col>thalach</th><th scope=col>exang</th><th scope=col>oldpeak</th><th scope=col>slope</th><th scope=col>ca</th><th scope=col>thal</th><th scope=col>target</th></tr>\n",
       "\t<tr><th scope=col>&lt;dbl&gt;</th><th scope=col>&lt;dbl&gt;</th><th scope=col>&lt;dbl&gt;</th><th scope=col>&lt;dbl&gt;</th><th scope=col>&lt;dbl&gt;</th><th scope=col>&lt;dbl&gt;</th><th scope=col>&lt;dbl&gt;</th><th scope=col>&lt;dbl&gt;</th><th scope=col>&lt;dbl&gt;</th><th scope=col>&lt;dbl&gt;</th><th scope=col>&lt;dbl&gt;</th><th scope=col>&lt;dbl&gt;</th><th scope=col>&lt;dbl&gt;</th><th scope=col>&lt;dbl&gt;</th></tr>\n",
       "</thead>\n",
       "<tbody>\n",
       "\t<tr><td>52</td><td>1</td><td>0</td><td>125</td><td>212</td><td>0</td><td>1</td><td>168</td><td>0</td><td>1.0</td><td>2</td><td>2</td><td>3</td><td>0</td></tr>\n",
       "\t<tr><td>53</td><td>1</td><td>0</td><td>140</td><td>203</td><td>1</td><td>0</td><td>155</td><td>1</td><td>3.1</td><td>0</td><td>0</td><td>3</td><td>0</td></tr>\n",
       "\t<tr><td>70</td><td>1</td><td>0</td><td>145</td><td>174</td><td>0</td><td>1</td><td>125</td><td>1</td><td>2.6</td><td>0</td><td>0</td><td>3</td><td>0</td></tr>\n",
       "\t<tr><td>61</td><td>1</td><td>0</td><td>148</td><td>203</td><td>0</td><td>1</td><td>161</td><td>0</td><td>0.0</td><td>2</td><td>1</td><td>3</td><td>0</td></tr>\n",
       "\t<tr><td>62</td><td>0</td><td>0</td><td>138</td><td>294</td><td>1</td><td>1</td><td>106</td><td>0</td><td>1.9</td><td>1</td><td>3</td><td>2</td><td>0</td></tr>\n",
       "\t<tr><td>58</td><td>0</td><td>0</td><td>100</td><td>248</td><td>0</td><td>0</td><td>122</td><td>0</td><td>1.0</td><td>1</td><td>0</td><td>2</td><td>1</td></tr>\n",
       "</tbody>\n",
       "</table>\n"
      ],
      "text/latex": [
       "A tibble: 6 × 14\n",
       "\\begin{tabular}{llllllllllllll}\n",
       " age & sex & cp & trestbps & chol & fbs & restecg & thalach & exang & oldpeak & slope & ca & thal & target\\\\\n",
       " <dbl> & <dbl> & <dbl> & <dbl> & <dbl> & <dbl> & <dbl> & <dbl> & <dbl> & <dbl> & <dbl> & <dbl> & <dbl> & <dbl>\\\\\n",
       "\\hline\n",
       "\t 52 & 1 & 0 & 125 & 212 & 0 & 1 & 168 & 0 & 1.0 & 2 & 2 & 3 & 0\\\\\n",
       "\t 53 & 1 & 0 & 140 & 203 & 1 & 0 & 155 & 1 & 3.1 & 0 & 0 & 3 & 0\\\\\n",
       "\t 70 & 1 & 0 & 145 & 174 & 0 & 1 & 125 & 1 & 2.6 & 0 & 0 & 3 & 0\\\\\n",
       "\t 61 & 1 & 0 & 148 & 203 & 0 & 1 & 161 & 0 & 0.0 & 2 & 1 & 3 & 0\\\\\n",
       "\t 62 & 0 & 0 & 138 & 294 & 1 & 1 & 106 & 0 & 1.9 & 1 & 3 & 2 & 0\\\\\n",
       "\t 58 & 0 & 0 & 100 & 248 & 0 & 0 & 122 & 0 & 1.0 & 1 & 0 & 2 & 1\\\\\n",
       "\\end{tabular}\n"
      ],
      "text/markdown": [
       "\n",
       "A tibble: 6 × 14\n",
       "\n",
       "| age &lt;dbl&gt; | sex &lt;dbl&gt; | cp &lt;dbl&gt; | trestbps &lt;dbl&gt; | chol &lt;dbl&gt; | fbs &lt;dbl&gt; | restecg &lt;dbl&gt; | thalach &lt;dbl&gt; | exang &lt;dbl&gt; | oldpeak &lt;dbl&gt; | slope &lt;dbl&gt; | ca &lt;dbl&gt; | thal &lt;dbl&gt; | target &lt;dbl&gt; |\n",
       "|---|---|---|---|---|---|---|---|---|---|---|---|---|---|\n",
       "| 52 | 1 | 0 | 125 | 212 | 0 | 1 | 168 | 0 | 1.0 | 2 | 2 | 3 | 0 |\n",
       "| 53 | 1 | 0 | 140 | 203 | 1 | 0 | 155 | 1 | 3.1 | 0 | 0 | 3 | 0 |\n",
       "| 70 | 1 | 0 | 145 | 174 | 0 | 1 | 125 | 1 | 2.6 | 0 | 0 | 3 | 0 |\n",
       "| 61 | 1 | 0 | 148 | 203 | 0 | 1 | 161 | 0 | 0.0 | 2 | 1 | 3 | 0 |\n",
       "| 62 | 0 | 0 | 138 | 294 | 1 | 1 | 106 | 0 | 1.9 | 1 | 3 | 2 | 0 |\n",
       "| 58 | 0 | 0 | 100 | 248 | 0 | 0 | 122 | 0 | 1.0 | 1 | 0 | 2 | 1 |\n",
       "\n"
      ],
      "text/plain": [
       "  age sex cp trestbps chol fbs restecg thalach exang oldpeak slope ca thal\n",
       "1 52  1   0  125      212  0   1       168     0     1.0     2     2  3   \n",
       "2 53  1   0  140      203  1   0       155     1     3.1     0     0  3   \n",
       "3 70  1   0  145      174  0   1       125     1     2.6     0     0  3   \n",
       "4 61  1   0  148      203  0   1       161     0     0.0     2     1  3   \n",
       "5 62  0   0  138      294  1   1       106     0     1.9     1     3  2   \n",
       "6 58  0   0  100      248  0   0       122     0     1.0     1     0  2   \n",
       "  target\n",
       "1 0     \n",
       "2 0     \n",
       "3 0     \n",
       "4 0     \n",
       "5 0     \n",
       "6 1     "
      ]
     },
     "metadata": {},
     "output_type": "display_data"
    }
   ],
   "source": [
    "# read data\n",
    "heart_data_raw <- read_csv(\"heart.csv\")\n",
    "head(heart_data_raw)"
   ]
  },
  {
   "cell_type": "markdown",
   "id": "2b57f1a8-e92a-42d8-af8b-71d6c02410ef",
   "metadata": {},
   "source": [
    "## Clean and Wrangle into Tidy Format ##"
   ]
  },
  {
   "cell_type": "code",
   "execution_count": 3,
   "id": "362f25f7-1d95-4fca-8a8c-5ccff2438a11",
   "metadata": {
    "tags": []
   },
   "outputs": [
    {
     "name": "stdout",
     "output_type": "stream",
     "text": [
      "         missing_values\n",
      "age                   0\n",
      "sex                   0\n",
      "cp                    0\n",
      "trestbps              0\n",
      "chol                  0\n",
      "fbs                   0\n",
      "restecg               0\n",
      "thalach               0\n",
      "exang                 0\n",
      "oldpeak               0\n",
      "slope                 0\n",
      "ca                    0\n",
      "thal                  0\n",
      "target                0\n"
     ]
    }
   ],
   "source": [
    "# Check for Missing values\n",
    "missing_values <- colSums(is.na(heart_data_raw))\n",
    "print(data.frame(missing_values))"
   ]
  },
  {
   "cell_type": "markdown",
   "id": "4dd494fa-ee19-43f0-97ed-5fe3ed05237f",
   "metadata": {},
   "source": [
    "**The table above reveals that the data set is free from any missing values.**"
   ]
  },
  {
   "cell_type": "code",
   "execution_count": 4,
   "id": "f4e600f0-078e-4da1-a967-4a5f966f625d",
   "metadata": {
    "tags": []
   },
   "outputs": [
    {
     "name": "stdout",
     "output_type": "stream",
     "text": [
      "         variable_types0\n",
      "age              numeric\n",
      "sex              numeric\n",
      "cp               numeric\n",
      "trestbps         numeric\n",
      "chol             numeric\n",
      "fbs              numeric\n",
      "restecg          numeric\n",
      "thalach          numeric\n",
      "exang            numeric\n",
      "oldpeak          numeric\n",
      "slope            numeric\n",
      "ca               numeric\n",
      "thal             numeric\n",
      "target           numeric\n"
     ]
    }
   ],
   "source": [
    "# check the variable types of each column\n",
    "variable_types0 <- sapply(heart_data_raw, class)\n",
    "print(data.frame(variable_types0))"
   ]
  },
  {
   "cell_type": "code",
   "execution_count": 5,
   "id": "1bb2fd52-6ef6-4358-b863-1da5d6ae602b",
   "metadata": {
    "tags": []
   },
   "outputs": [
    {
     "name": "stdout",
     "output_type": "stream",
     "text": [
      "         variable_types1\n",
      "age              numeric\n",
      "sex               factor\n",
      "cp                factor\n",
      "trestbps         numeric\n",
      "chol             numeric\n",
      "fbs               factor\n",
      "restecg           factor\n",
      "thalach          numeric\n",
      "exang             factor\n",
      "oldpeak          numeric\n",
      "slope             factor\n",
      "ca               numeric\n",
      "thal              factor\n",
      "target            factor\n"
     ]
    }
   ],
   "source": [
    "# mutate the data type for categorical variables as factor\n",
    "heart_data_raw <- heart_data_raw |> \n",
    "                  mutate_at(vars(sex, cp, fbs, restecg, exang, slope, thal, target), as_factor)\n",
    "# check the data type of mutated data\n",
    "variable_types1 <- sapply(heart_data_raw, class)\n",
    "print(data.frame(variable_types1))"
   ]
  },
  {
   "cell_type": "markdown",
   "id": "257a718d-5e03-4cec-8a79-0d6bfea4aa22",
   "metadata": {},
   "source": [
    "**The initial data set has been transformed into a tidy format.**"
   ]
  },
  {
   "cell_type": "markdown",
   "id": "6586d611-8615-4a28-9325-b3380d0d24d2",
   "metadata": {},
   "source": [
    "### Select Numeric Variables for the Model Analysis ###"
   ]
  },
  {
   "cell_type": "code",
   "execution_count": 6,
   "id": "43b27311-6f41-4068-89fe-62f4317b48be",
   "metadata": {
    "tags": []
   },
   "outputs": [
    {
     "data": {
      "text/html": [
       "<table class=\"dataframe\">\n",
       "<caption>A tibble: 6 × 7</caption>\n",
       "<thead>\n",
       "\t<tr><th scope=col>age</th><th scope=col>trestbps</th><th scope=col>chol</th><th scope=col>thalach</th><th scope=col>oldpeak</th><th scope=col>ca</th><th scope=col>target</th></tr>\n",
       "\t<tr><th scope=col>&lt;dbl&gt;</th><th scope=col>&lt;dbl&gt;</th><th scope=col>&lt;dbl&gt;</th><th scope=col>&lt;dbl&gt;</th><th scope=col>&lt;dbl&gt;</th><th scope=col>&lt;dbl&gt;</th><th scope=col>&lt;fct&gt;</th></tr>\n",
       "</thead>\n",
       "<tbody>\n",
       "\t<tr><td>52</td><td>125</td><td>212</td><td>168</td><td>1.0</td><td>2</td><td>0</td></tr>\n",
       "\t<tr><td>53</td><td>140</td><td>203</td><td>155</td><td>3.1</td><td>0</td><td>0</td></tr>\n",
       "\t<tr><td>70</td><td>145</td><td>174</td><td>125</td><td>2.6</td><td>0</td><td>0</td></tr>\n",
       "\t<tr><td>61</td><td>148</td><td>203</td><td>161</td><td>0.0</td><td>1</td><td>0</td></tr>\n",
       "\t<tr><td>62</td><td>138</td><td>294</td><td>106</td><td>1.9</td><td>3</td><td>0</td></tr>\n",
       "\t<tr><td>58</td><td>100</td><td>248</td><td>122</td><td>1.0</td><td>0</td><td>1</td></tr>\n",
       "</tbody>\n",
       "</table>\n"
      ],
      "text/latex": [
       "A tibble: 6 × 7\n",
       "\\begin{tabular}{lllllll}\n",
       " age & trestbps & chol & thalach & oldpeak & ca & target\\\\\n",
       " <dbl> & <dbl> & <dbl> & <dbl> & <dbl> & <dbl> & <fct>\\\\\n",
       "\\hline\n",
       "\t 52 & 125 & 212 & 168 & 1.0 & 2 & 0\\\\\n",
       "\t 53 & 140 & 203 & 155 & 3.1 & 0 & 0\\\\\n",
       "\t 70 & 145 & 174 & 125 & 2.6 & 0 & 0\\\\\n",
       "\t 61 & 148 & 203 & 161 & 0.0 & 1 & 0\\\\\n",
       "\t 62 & 138 & 294 & 106 & 1.9 & 3 & 0\\\\\n",
       "\t 58 & 100 & 248 & 122 & 1.0 & 0 & 1\\\\\n",
       "\\end{tabular}\n"
      ],
      "text/markdown": [
       "\n",
       "A tibble: 6 × 7\n",
       "\n",
       "| age &lt;dbl&gt; | trestbps &lt;dbl&gt; | chol &lt;dbl&gt; | thalach &lt;dbl&gt; | oldpeak &lt;dbl&gt; | ca &lt;dbl&gt; | target &lt;fct&gt; |\n",
       "|---|---|---|---|---|---|---|\n",
       "| 52 | 125 | 212 | 168 | 1.0 | 2 | 0 |\n",
       "| 53 | 140 | 203 | 155 | 3.1 | 0 | 0 |\n",
       "| 70 | 145 | 174 | 125 | 2.6 | 0 | 0 |\n",
       "| 61 | 148 | 203 | 161 | 0.0 | 1 | 0 |\n",
       "| 62 | 138 | 294 | 106 | 1.9 | 3 | 0 |\n",
       "| 58 | 100 | 248 | 122 | 1.0 | 0 | 1 |\n",
       "\n"
      ],
      "text/plain": [
       "  age trestbps chol thalach oldpeak ca target\n",
       "1 52  125      212  168     1.0     2  0     \n",
       "2 53  140      203  155     3.1     0  0     \n",
       "3 70  145      174  125     2.6     0  0     \n",
       "4 61  148      203  161     0.0     1  0     \n",
       "5 62  138      294  106     1.9     3  0     \n",
       "6 58  100      248  122     1.0     0  1     "
      ]
     },
     "metadata": {},
     "output_type": "display_data"
    }
   ],
   "source": [
    "# select numeric variables and the target column\n",
    "heart_data <- heart_data_raw |>\n",
    "              select(age, trestbps, chol, thalach, oldpeak, ca, target)\n",
    "head(heart_data)"
   ]
  },
  {
   "cell_type": "markdown",
   "id": "640af39a-82ec-4d28-9b3b-83a5245193cd",
   "metadata": {},
   "source": [
    "### Keep the Categorical Variable Separately for Data Exploratory Visualization ###"
   ]
  },
  {
   "cell_type": "code",
   "execution_count": 7,
   "id": "2563edb3-48d1-46d8-aa48-0b40a30ace94",
   "metadata": {
    "tags": []
   },
   "outputs": [
    {
     "data": {
      "text/html": [
       "<table class=\"dataframe\">\n",
       "<caption>A tibble: 6 × 8</caption>\n",
       "<thead>\n",
       "\t<tr><th scope=col>sex</th><th scope=col>cp</th><th scope=col>fbs</th><th scope=col>restecg</th><th scope=col>exang</th><th scope=col>slope</th><th scope=col>thal</th><th scope=col>target</th></tr>\n",
       "\t<tr><th scope=col>&lt;fct&gt;</th><th scope=col>&lt;fct&gt;</th><th scope=col>&lt;fct&gt;</th><th scope=col>&lt;fct&gt;</th><th scope=col>&lt;fct&gt;</th><th scope=col>&lt;fct&gt;</th><th scope=col>&lt;fct&gt;</th><th scope=col>&lt;fct&gt;</th></tr>\n",
       "</thead>\n",
       "<tbody>\n",
       "\t<tr><td>1</td><td>0</td><td>0</td><td>1</td><td>0</td><td>2</td><td>3</td><td>0</td></tr>\n",
       "\t<tr><td>1</td><td>0</td><td>1</td><td>0</td><td>1</td><td>0</td><td>3</td><td>0</td></tr>\n",
       "\t<tr><td>1</td><td>0</td><td>0</td><td>1</td><td>1</td><td>0</td><td>3</td><td>0</td></tr>\n",
       "\t<tr><td>1</td><td>0</td><td>0</td><td>1</td><td>0</td><td>2</td><td>3</td><td>0</td></tr>\n",
       "\t<tr><td>0</td><td>0</td><td>1</td><td>1</td><td>0</td><td>1</td><td>2</td><td>0</td></tr>\n",
       "\t<tr><td>0</td><td>0</td><td>0</td><td>0</td><td>0</td><td>1</td><td>2</td><td>1</td></tr>\n",
       "</tbody>\n",
       "</table>\n"
      ],
      "text/latex": [
       "A tibble: 6 × 8\n",
       "\\begin{tabular}{llllllll}\n",
       " sex & cp & fbs & restecg & exang & slope & thal & target\\\\\n",
       " <fct> & <fct> & <fct> & <fct> & <fct> & <fct> & <fct> & <fct>\\\\\n",
       "\\hline\n",
       "\t 1 & 0 & 0 & 1 & 0 & 2 & 3 & 0\\\\\n",
       "\t 1 & 0 & 1 & 0 & 1 & 0 & 3 & 0\\\\\n",
       "\t 1 & 0 & 0 & 1 & 1 & 0 & 3 & 0\\\\\n",
       "\t 1 & 0 & 0 & 1 & 0 & 2 & 3 & 0\\\\\n",
       "\t 0 & 0 & 1 & 1 & 0 & 1 & 2 & 0\\\\\n",
       "\t 0 & 0 & 0 & 0 & 0 & 1 & 2 & 1\\\\\n",
       "\\end{tabular}\n"
      ],
      "text/markdown": [
       "\n",
       "A tibble: 6 × 8\n",
       "\n",
       "| sex &lt;fct&gt; | cp &lt;fct&gt; | fbs &lt;fct&gt; | restecg &lt;fct&gt; | exang &lt;fct&gt; | slope &lt;fct&gt; | thal &lt;fct&gt; | target &lt;fct&gt; |\n",
       "|---|---|---|---|---|---|---|---|\n",
       "| 1 | 0 | 0 | 1 | 0 | 2 | 3 | 0 |\n",
       "| 1 | 0 | 1 | 0 | 1 | 0 | 3 | 0 |\n",
       "| 1 | 0 | 0 | 1 | 1 | 0 | 3 | 0 |\n",
       "| 1 | 0 | 0 | 1 | 0 | 2 | 3 | 0 |\n",
       "| 0 | 0 | 1 | 1 | 0 | 1 | 2 | 0 |\n",
       "| 0 | 0 | 0 | 0 | 0 | 1 | 2 | 1 |\n",
       "\n"
      ],
      "text/plain": [
       "  sex cp fbs restecg exang slope thal target\n",
       "1 1   0  0   1       0     2     3    0     \n",
       "2 1   0  1   0       1     0     3    0     \n",
       "3 1   0  0   1       1     0     3    0     \n",
       "4 1   0  0   1       0     2     3    0     \n",
       "5 0   0  1   1       0     1     2    0     \n",
       "6 0   0  0   0       0     1     2    1     "
      ]
     },
     "metadata": {},
     "output_type": "display_data"
    }
   ],
   "source": [
    "# select categorical variables and the target column\n",
    "heart_data_cat <- heart_data_raw |>\n",
    "                  select(sex, cp, fbs, restecg, exang, slope, thal, target)\n",
    "head(heart_data_cat)"
   ]
  },
  {
   "cell_type": "markdown",
   "id": "734a47c7-239a-432d-8566-cfb13bd5c0c7",
   "metadata": {},
   "source": [
    "### Split the Data Set into Training Set and Testing Set ###"
   ]
  },
  {
   "cell_type": "code",
   "execution_count": 8,
   "id": "622fee4b-76c8-4c4e-9940-2118326ccb47",
   "metadata": {
    "tags": []
   },
   "outputs": [],
   "source": [
    "# split the data set\n",
    "heart_split <- initial_split(heart_data, prop = 0.75, strata = target)\n",
    "heart_train <- training(heart_split)\n",
    "heart_test <- testing(heart_split)"
   ]
  },
  {
   "cell_type": "markdown",
   "id": "6091297b-4c0c-40c7-ab12-3935f6da0640",
   "metadata": {},
   "source": [
    "### Summarize the Data Set Using the Training Data ###"
   ]
  },
  {
   "cell_type": "code",
   "execution_count": 9,
   "id": "9d49e50e-ef12-4e29-a2d8-8ebd13ca20e4",
   "metadata": {
    "tags": []
   },
   "outputs": [
    {
     "data": {
      "text/html": [
       "<table class=\"dataframe\">\n",
       "<caption>A tibble: 2 × 14</caption>\n",
       "<thead>\n",
       "\t<tr><th scope=col>target</th><th scope=col>age_mean</th><th scope=col>trestbps_mean</th><th scope=col>chol_mean</th><th scope=col>thalach_mean</th><th scope=col>oldpeak_mean</th><th scope=col>ca_mean</th><th scope=col>age_sd</th><th scope=col>trestbps_sd</th><th scope=col>chol_sd</th><th scope=col>thalach_sd</th><th scope=col>oldpeak_sd</th><th scope=col>ca_sd</th><th scope=col>n</th></tr>\n",
       "\t<tr><th scope=col>&lt;fct&gt;</th><th scope=col>&lt;dbl&gt;</th><th scope=col>&lt;dbl&gt;</th><th scope=col>&lt;dbl&gt;</th><th scope=col>&lt;dbl&gt;</th><th scope=col>&lt;dbl&gt;</th><th scope=col>&lt;dbl&gt;</th><th scope=col>&lt;dbl&gt;</th><th scope=col>&lt;dbl&gt;</th><th scope=col>&lt;dbl&gt;</th><th scope=col>&lt;dbl&gt;</th><th scope=col>&lt;dbl&gt;</th><th scope=col>&lt;dbl&gt;</th><th scope=col>&lt;int&gt;</th></tr>\n",
       "</thead>\n",
       "<tbody>\n",
       "\t<tr><td>0</td><td>56.58556</td><td>134.2674</td><td>252.0027</td><td>139.8957</td><td>1.5767380</td><td>1.211230</td><td>7.724610</td><td>18.53952</td><td>50.55624</td><td>22.30323</td><td>1.3066828</td><td>1.0437004</td><td>374</td></tr>\n",
       "\t<tr><td>1</td><td>52.59898</td><td>128.6447</td><td>243.2081</td><td>158.7614</td><td>0.5459391</td><td>0.357868</td><td>9.612947</td><td>16.06778</td><td>52.10771</td><td>19.14187</td><td>0.7354673</td><td>0.8568547</td><td>394</td></tr>\n",
       "</tbody>\n",
       "</table>\n"
      ],
      "text/latex": [
       "A tibble: 2 × 14\n",
       "\\begin{tabular}{llllllllllllll}\n",
       " target & age\\_mean & trestbps\\_mean & chol\\_mean & thalach\\_mean & oldpeak\\_mean & ca\\_mean & age\\_sd & trestbps\\_sd & chol\\_sd & thalach\\_sd & oldpeak\\_sd & ca\\_sd & n\\\\\n",
       " <fct> & <dbl> & <dbl> & <dbl> & <dbl> & <dbl> & <dbl> & <dbl> & <dbl> & <dbl> & <dbl> & <dbl> & <dbl> & <int>\\\\\n",
       "\\hline\n",
       "\t 0 & 56.58556 & 134.2674 & 252.0027 & 139.8957 & 1.5767380 & 1.211230 & 7.724610 & 18.53952 & 50.55624 & 22.30323 & 1.3066828 & 1.0437004 & 374\\\\\n",
       "\t 1 & 52.59898 & 128.6447 & 243.2081 & 158.7614 & 0.5459391 & 0.357868 & 9.612947 & 16.06778 & 52.10771 & 19.14187 & 0.7354673 & 0.8568547 & 394\\\\\n",
       "\\end{tabular}\n"
      ],
      "text/markdown": [
       "\n",
       "A tibble: 2 × 14\n",
       "\n",
       "| target &lt;fct&gt; | age_mean &lt;dbl&gt; | trestbps_mean &lt;dbl&gt; | chol_mean &lt;dbl&gt; | thalach_mean &lt;dbl&gt; | oldpeak_mean &lt;dbl&gt; | ca_mean &lt;dbl&gt; | age_sd &lt;dbl&gt; | trestbps_sd &lt;dbl&gt; | chol_sd &lt;dbl&gt; | thalach_sd &lt;dbl&gt; | oldpeak_sd &lt;dbl&gt; | ca_sd &lt;dbl&gt; | n &lt;int&gt; |\n",
       "|---|---|---|---|---|---|---|---|---|---|---|---|---|---|\n",
       "| 0 | 56.58556 | 134.2674 | 252.0027 | 139.8957 | 1.5767380 | 1.211230 | 7.724610 | 18.53952 | 50.55624 | 22.30323 | 1.3066828 | 1.0437004 | 374 |\n",
       "| 1 | 52.59898 | 128.6447 | 243.2081 | 158.7614 | 0.5459391 | 0.357868 | 9.612947 | 16.06778 | 52.10771 | 19.14187 | 0.7354673 | 0.8568547 | 394 |\n",
       "\n"
      ],
      "text/plain": [
       "  target age_mean trestbps_mean chol_mean thalach_mean oldpeak_mean ca_mean \n",
       "1 0      56.58556 134.2674      252.0027  139.8957     1.5767380    1.211230\n",
       "2 1      52.59898 128.6447      243.2081  158.7614     0.5459391    0.357868\n",
       "  age_sd   trestbps_sd chol_sd  thalach_sd oldpeak_sd ca_sd     n  \n",
       "1 7.724610 18.53952    50.55624 22.30323   1.3066828  1.0437004 374\n",
       "2 9.612947 16.06778    52.10771 19.14187   0.7354673  0.8568547 394"
      ]
     },
     "metadata": {},
     "output_type": "display_data"
    }
   ],
   "source": [
    "# summarize the mean\n",
    "mean_table <- heart_train |>\n",
    "                 group_by(target) |>\n",
    "                 summarize_all(\n",
    "                     list(mean = mean,\n",
    "                          sd = sd),\n",
    "                     na.rm = TRUE)\n",
    "\n",
    "# count the target column\n",
    "count_table <- heart_train |>\n",
    "               count(target)\n",
    "\n",
    "count_table <- select(count_table, n)\n",
    "\n",
    "# combine two tables together\n",
    "summary_table <- bind_cols(mean_table, count_table)\n",
    "\n",
    "summary_table"
   ]
  },
  {
   "cell_type": "markdown",
   "id": "d3e2283f-9e19-4684-9105-ef8c6550f6f5",
   "metadata": {},
   "source": [
    "### Visualization of the Training Data Set ###"
   ]
  },
  {
   "cell_type": "code",
   "execution_count": null,
   "id": "38a1cc2c-2fc3-4796-a2ff-becf4cf9f7c1",
   "metadata": {},
   "outputs": [],
   "source": [
    "library(ggplot2)\n",
    "install.packages(\"GGally\")\n",
    "library(GGally)\n",
    "\n",
    "plot_matrix <- ggpairs(\n",
    "  heart_data,\n",
    "  aes(color = target),\n",
    "  lower = list(continuous = \"points\", combo = \"facetdensity\"),\n",
    "  diag = list(continuous = \"density\"),\n",
    "  title = \"Scatterplot Matrix with Color by Target\"\n",
    ")\n",
    "\n",
    "plot_matrix"
   ]
  },
  {
   "cell_type": "markdown",
   "id": "7df59bfc-4811-4b16-9ae8-7cf038c42fb6",
   "metadata": {},
   "source": [
    "## Forward Selection ##"
   ]
  },
  {
   "cell_type": "markdown",
   "id": "d5854ee9-4d90-4cc0-9c77-cc2c3f8d2e25",
   "metadata": {},
   "source": [
    "Forward Selection will allow us to determine the predictors that result in the highest level of accuracy "
   ]
  },
  {
   "cell_type": "code",
   "execution_count": 21,
   "id": "855f2357-d3b7-4405-a1ff-80e6162e5488",
   "metadata": {
    "tags": []
   },
   "outputs": [
    {
     "data": {
      "text/html": [
       "<table class=\"dataframe\">\n",
       "<caption>A tibble: 6 × 7</caption>\n",
       "<thead>\n",
       "\t<tr><th scope=col>age</th><th scope=col>trestbps</th><th scope=col>chol</th><th scope=col>thalach</th><th scope=col>oldpeak</th><th scope=col>ca</th><th scope=col>target</th></tr>\n",
       "\t<tr><th scope=col>&lt;dbl&gt;</th><th scope=col>&lt;dbl&gt;</th><th scope=col>&lt;dbl&gt;</th><th scope=col>&lt;dbl&gt;</th><th scope=col>&lt;dbl&gt;</th><th scope=col>&lt;dbl&gt;</th><th scope=col>&lt;fct&gt;</th></tr>\n",
       "</thead>\n",
       "<tbody>\n",
       "\t<tr><td>52</td><td>125</td><td>212</td><td>168</td><td>1.0</td><td>2</td><td>0</td></tr>\n",
       "\t<tr><td>53</td><td>140</td><td>203</td><td>155</td><td>3.1</td><td>0</td><td>0</td></tr>\n",
       "\t<tr><td>70</td><td>145</td><td>174</td><td>125</td><td>2.6</td><td>0</td><td>0</td></tr>\n",
       "\t<tr><td>61</td><td>148</td><td>203</td><td>161</td><td>0.0</td><td>1</td><td>0</td></tr>\n",
       "\t<tr><td>62</td><td>138</td><td>294</td><td>106</td><td>1.9</td><td>3</td><td>0</td></tr>\n",
       "\t<tr><td>58</td><td>100</td><td>248</td><td>122</td><td>1.0</td><td>0</td><td>1</td></tr>\n",
       "</tbody>\n",
       "</table>\n"
      ],
      "text/latex": [
       "A tibble: 6 × 7\n",
       "\\begin{tabular}{lllllll}\n",
       " age & trestbps & chol & thalach & oldpeak & ca & target\\\\\n",
       " <dbl> & <dbl> & <dbl> & <dbl> & <dbl> & <dbl> & <fct>\\\\\n",
       "\\hline\n",
       "\t 52 & 125 & 212 & 168 & 1.0 & 2 & 0\\\\\n",
       "\t 53 & 140 & 203 & 155 & 3.1 & 0 & 0\\\\\n",
       "\t 70 & 145 & 174 & 125 & 2.6 & 0 & 0\\\\\n",
       "\t 61 & 148 & 203 & 161 & 0.0 & 1 & 0\\\\\n",
       "\t 62 & 138 & 294 & 106 & 1.9 & 3 & 0\\\\\n",
       "\t 58 & 100 & 248 & 122 & 1.0 & 0 & 1\\\\\n",
       "\\end{tabular}\n"
      ],
      "text/markdown": [
       "\n",
       "A tibble: 6 × 7\n",
       "\n",
       "| age &lt;dbl&gt; | trestbps &lt;dbl&gt; | chol &lt;dbl&gt; | thalach &lt;dbl&gt; | oldpeak &lt;dbl&gt; | ca &lt;dbl&gt; | target &lt;fct&gt; |\n",
       "|---|---|---|---|---|---|---|\n",
       "| 52 | 125 | 212 | 168 | 1.0 | 2 | 0 |\n",
       "| 53 | 140 | 203 | 155 | 3.1 | 0 | 0 |\n",
       "| 70 | 145 | 174 | 125 | 2.6 | 0 | 0 |\n",
       "| 61 | 148 | 203 | 161 | 0.0 | 1 | 0 |\n",
       "| 62 | 138 | 294 | 106 | 1.9 | 3 | 0 |\n",
       "| 58 | 100 | 248 | 122 | 1.0 | 0 | 1 |\n",
       "\n"
      ],
      "text/plain": [
       "  age trestbps chol thalach oldpeak ca target\n",
       "1 52  125      212  168     1.0     2  0     \n",
       "2 53  140      203  155     3.1     0  0     \n",
       "3 70  145      174  125     2.6     0  0     \n",
       "4 61  148      203  161     0.0     1  0     \n",
       "5 62  138      294  106     1.9     3  0     \n",
       "6 58  100      248  122     1.0     0  1     "
      ]
     },
     "metadata": {},
     "output_type": "display_data"
    },
    {
     "data": {
      "text/html": [
       "<style>\n",
       ".list-inline {list-style: none; margin:0; padding: 0}\n",
       ".list-inline>li {display: inline-block}\n",
       ".list-inline>li:not(:last-child)::after {content: \"\\00b7\"; padding: 0 .5ex}\n",
       "</style>\n",
       "<ol class=list-inline><li>'age'</li><li>'trestbps'</li><li>'chol'</li><li>'thalach'</li><li>'oldpeak'</li><li>'ca'</li></ol>\n"
      ],
      "text/latex": [
       "\\begin{enumerate*}\n",
       "\\item 'age'\n",
       "\\item 'trestbps'\n",
       "\\item 'chol'\n",
       "\\item 'thalach'\n",
       "\\item 'oldpeak'\n",
       "\\item 'ca'\n",
       "\\end{enumerate*}\n"
      ],
      "text/markdown": [
       "1. 'age'\n",
       "2. 'trestbps'\n",
       "3. 'chol'\n",
       "4. 'thalach'\n",
       "5. 'oldpeak'\n",
       "6. 'ca'\n",
       "\n",
       "\n"
      ],
      "text/plain": [
       "[1] \"age\"      \"trestbps\" \"chol\"     \"thalach\"  \"oldpeak\"  \"ca\"      "
      ]
     },
     "metadata": {},
     "output_type": "display_data"
    },
    {
     "data": {
      "text/html": [
       "'target ~ age+trestbps+chol+thalach+oldpeak+ca'"
      ],
      "text/latex": [
       "'target \\textasciitilde{} age+trestbps+chol+thalach+oldpeak+ca'"
      ],
      "text/markdown": [
       "'target ~ age+trestbps+chol+thalach+oldpeak+ca'"
      ],
      "text/plain": [
       "[1] \"target ~ age+trestbps+chol+thalach+oldpeak+ca\""
      ]
     },
     "metadata": {},
     "output_type": "display_data"
    }
   ],
   "source": [
    "head(heart_data)\n",
    "names <- colnames(heart_data |> select(-target))\n",
    "head(names)\n",
    "\n",
    "#target will be separated from predictors with \"~\" and individual predictors separated by \"+\"\n",
    "formula <- paste(\"target\", \"~\", paste(names, collapse = \"+\"))\n",
    "formula"
   ]
  },
  {
   "cell_type": "code",
   "execution_count": 22,
   "id": "0e105579-0665-41d6-aa23-f0c04f7e4c5b",
   "metadata": {
    "tags": []
   },
   "outputs": [
    {
     "name": "stderr",
     "output_type": "stream",
     "text": [
      "Updating HTML index of packages in '.Library'\n",
      "\n",
      "Making 'packages.html' ...\n",
      " done\n",
      "\n"
     ]
    },
    {
     "data": {
      "text/html": [
       "<table class=\"dataframe\">\n",
       "<caption>A tibble: 6 × 3</caption>\n",
       "<thead>\n",
       "\t<tr><th scope=col>size</th><th scope=col>model_string</th><th scope=col>accuracy</th></tr>\n",
       "\t<tr><th scope=col>&lt;int&gt;</th><th scope=col>&lt;chr&gt;</th><th scope=col>&lt;dbl&gt;</th></tr>\n",
       "</thead>\n",
       "<tbody>\n",
       "\t<tr><td>1</td><td>target ~ chol                                </td><td>0.7677454</td></tr>\n",
       "\t<tr><td>2</td><td>target ~ chol+thalach                        </td><td>0.9805067</td></tr>\n",
       "\t<tr><td>3</td><td>target ~ chol+thalach+trestbps               </td><td>0.9941462</td></tr>\n",
       "\t<tr><td>4</td><td>target ~ chol+thalach+trestbps+age           </td><td>0.9970732</td></tr>\n",
       "\t<tr><td>5</td><td>target ~ chol+thalach+trestbps+age+oldpeak   </td><td>0.9912052</td></tr>\n",
       "\t<tr><td>6</td><td>target ~ chol+thalach+trestbps+age+oldpeak+ca</td><td>0.9941463</td></tr>\n",
       "</tbody>\n",
       "</table>\n"
      ],
      "text/latex": [
       "A tibble: 6 × 3\n",
       "\\begin{tabular}{lll}\n",
       " size & model\\_string & accuracy\\\\\n",
       " <int> & <chr> & <dbl>\\\\\n",
       "\\hline\n",
       "\t 1 & target \\textasciitilde{} chol                                 & 0.7677454\\\\\n",
       "\t 2 & target \\textasciitilde{} chol+thalach                         & 0.9805067\\\\\n",
       "\t 3 & target \\textasciitilde{} chol+thalach+trestbps                & 0.9941462\\\\\n",
       "\t 4 & target \\textasciitilde{} chol+thalach+trestbps+age            & 0.9970732\\\\\n",
       "\t 5 & target \\textasciitilde{} chol+thalach+trestbps+age+oldpeak    & 0.9912052\\\\\n",
       "\t 6 & target \\textasciitilde{} chol+thalach+trestbps+age+oldpeak+ca & 0.9941463\\\\\n",
       "\\end{tabular}\n"
      ],
      "text/markdown": [
       "\n",
       "A tibble: 6 × 3\n",
       "\n",
       "| size &lt;int&gt; | model_string &lt;chr&gt; | accuracy &lt;dbl&gt; |\n",
       "|---|---|---|\n",
       "| 1 | target ~ chol                                 | 0.7677454 |\n",
       "| 2 | target ~ chol+thalach                         | 0.9805067 |\n",
       "| 3 | target ~ chol+thalach+trestbps                | 0.9941462 |\n",
       "| 4 | target ~ chol+thalach+trestbps+age            | 0.9970732 |\n",
       "| 5 | target ~ chol+thalach+trestbps+age+oldpeak    | 0.9912052 |\n",
       "| 6 | target ~ chol+thalach+trestbps+age+oldpeak+ca | 0.9941463 |\n",
       "\n"
      ],
      "text/plain": [
       "  size model_string                                  accuracy \n",
       "1 1    target ~ chol                                 0.7677454\n",
       "2 2    target ~ chol+thalach                         0.9805067\n",
       "3 3    target ~ chol+thalach+trestbps                0.9941462\n",
       "4 4    target ~ chol+thalach+trestbps+age            0.9970732\n",
       "5 5    target ~ chol+thalach+trestbps+age+oldpeak    0.9912052\n",
       "6 6    target ~ chol+thalach+trestbps+age+oldpeak+ca 0.9941463"
      ]
     },
     "metadata": {},
     "output_type": "display_data"
    }
   ],
   "source": [
    "install.packages(\"kknn\")\n",
    "library(kknn)\n",
    "\n",
    "# creates an empty tibble to store the results\n",
    "accuracies <- tibble(size = integer(), \n",
    "                     model_string = character(), \n",
    "                     accuracy = numeric())\n",
    "\n",
    "# creates a model specification\n",
    "knn_spec <- nearest_neighbor(weight_func = \"rectangular\", \n",
    "                             neighbors = tune()) |>\n",
    "     set_engine(\"kknn\") |>\n",
    "     set_mode(\"classification\")\n",
    "\n",
    "# create a 5-fold cross-validation object\n",
    "heart_vfold <- vfold_cv(heart_data, v = 5, strata = target)\n",
    "\n",
    "# stores the total number of predictors\n",
    "n_total <- length(names)\n",
    "\n",
    "# stores selected predictors\n",
    "selected <- c()\n",
    "\n",
    "# for every size from 1 to the total number of predictors\n",
    "for (i in 1:n_total) {\n",
    "    # for every predictor still not added yet\n",
    "    accs <- list()\n",
    "    models <- list()\n",
    "    for (j in 1:length(names)) {\n",
    "        # create a model string for this combination of predictors\n",
    "        preds_new <- c(selected, names[[j]])\n",
    "        model_string <- paste(\"target\", \"~\", paste(preds_new, collapse=\"+\"))\n",
    "\n",
    "        # create a recipe from the model string\n",
    "        heart_recipe <- recipe(as.formula(model_string), \n",
    "                                data = heart_data) |>\n",
    "                          step_scale(all_predictors()) |>\n",
    "                          step_center(all_predictors())\n",
    "\n",
    "        # tune the KNN classifier with these predictors, \n",
    "        # and collect the accuracy for the best K\n",
    "        acc <- workflow() |>\n",
    "          add_recipe(heart_recipe) |>\n",
    "          add_model(knn_spec) |>\n",
    "          tune_grid(resamples = heart_vfold, grid = 10) |>\n",
    "          collect_metrics() |>\n",
    "          filter(.metric == \"accuracy\") |>\n",
    "          summarize(mx = max(mean))\n",
    "        acc <- acc$mx |> unlist()\n",
    "\n",
    "        # add this result to the dataframe\n",
    "        accs[[j]] <- acc\n",
    "        models[[j]] <- model_string\n",
    "    }\n",
    "    jstar <- which.max(unlist(accs))\n",
    "    accuracies <- accuracies |> \n",
    "      add_row(size = i, \n",
    "              model_string = models[[jstar]], \n",
    "              accuracy = accs[[jstar]])\n",
    "    selected <- c(selected, names[[jstar]])\n",
    "    names <- names[-jstar]\n",
    "}\n",
    "accuracies"
   ]
  },
  {
   "cell_type": "markdown",
   "id": "2a8b58aa-2fbe-45c3-b3fe-55d23053c35d",
   "metadata": {},
   "source": [
    "## Accuracy Plot from Forward Selection ##"
   ]
  },
  {
   "cell_type": "code",
   "execution_count": 24,
   "id": "f995e6f7-af88-48ff-a25e-1511d3156807",
   "metadata": {
    "tags": []
   },
   "outputs": [
    {
     "data": {
      "application/pdf": "[encoded data removed]",
      "image/jpeg": "[encoded data removed]",
      "image/png": "[encoded data removed]",
      "image/svg+xml": [
       "<?xml version=\"1.0\" encoding=\"UTF-8\"?>\n",
       "<svg xmlns=\"http://www.w3.org/2000/svg\" xmlns:xlink=\"http://www.w3.org/1999/xlink\" width=\"504pt\" height=\"504pt\" viewBox=\"0 0 504 504\" version=\"1.1\">\n",
       "<defs>\n",
       "<g>\n",
       "<symbol overflow=\"visible\" id=\"glyph0-0\">\n",
       "<path style=\"stroke:none;\" d=\"M 0.296875 0 L 0.296875 -5.859375 L 2.625 -5.859375 L 2.625 0 Z M 0.578125 -0.296875 L 2.34375 -0.296875 L 2.34375 -5.578125 L 0.578125 -5.578125 Z M 0.578125 -0.296875 \"/>\n",
       "</symbol>\n",
       "<symbol overflow=\"visible\" id=\"glyph0-1\">\n",
       "<path style=\"stroke:none;\" d=\"M 4.546875 -3.03125 C 4.546875 -2.445312 4.488281 -1.957031 4.375 -1.5625 C 4.269531 -1.164062 4.117188 -0.84375 3.921875 -0.59375 C 3.734375 -0.351562 3.507812 -0.179688 3.25 -0.078125 C 3 0.0234375 2.726562 0.078125 2.4375 0.078125 C 2.144531 0.078125 1.867188 0.0234375 1.609375 -0.078125 C 1.359375 -0.179688 1.140625 -0.351562 0.953125 -0.59375 C 0.765625 -0.84375 0.613281 -1.164062 0.5 -1.5625 C 0.394531 -1.957031 0.34375 -2.445312 0.34375 -3.03125 C 0.34375 -3.632812 0.394531 -4.132812 0.5 -4.53125 C 0.613281 -4.9375 0.765625 -5.257812 0.953125 -5.5 C 1.140625 -5.738281 1.359375 -5.90625 1.609375 -6 C 1.867188 -6.09375 2.15625 -6.140625 2.46875 -6.140625 C 2.75 -6.140625 3.015625 -6.09375 3.265625 -6 C 3.523438 -5.90625 3.75 -5.738281 3.9375 -5.5 C 4.125 -5.257812 4.269531 -4.9375 4.375 -4.53125 C 4.488281 -4.132812 4.546875 -3.632812 4.546875 -3.03125 Z M 3.765625 -3.03125 C 3.765625 -3.507812 3.734375 -3.90625 3.671875 -4.21875 C 3.617188 -4.539062 3.535156 -4.796875 3.421875 -4.984375 C 3.304688 -5.179688 3.164062 -5.316406 3 -5.390625 C 2.84375 -5.472656 2.664062 -5.515625 2.46875 -5.515625 C 2.25 -5.515625 2.054688 -5.472656 1.890625 -5.390625 C 1.722656 -5.316406 1.582031 -5.179688 1.46875 -4.984375 C 1.351562 -4.796875 1.265625 -4.539062 1.203125 -4.21875 C 1.148438 -3.90625 1.125 -3.507812 1.125 -3.03125 C 1.125 -2.5625 1.148438 -2.164062 1.203125 -1.84375 C 1.265625 -1.53125 1.351562 -1.273438 1.46875 -1.078125 C 1.582031 -0.890625 1.71875 -0.753906 1.875 -0.671875 C 2.039062 -0.585938 2.226562 -0.546875 2.4375 -0.546875 C 2.644531 -0.546875 2.828125 -0.585938 2.984375 -0.671875 C 3.148438 -0.753906 3.289062 -0.890625 3.40625 -1.078125 C 3.519531 -1.273438 3.609375 -1.53125 3.671875 -1.84375 C 3.734375 -2.164062 3.765625 -2.5625 3.765625 -3.03125 Z M 3.765625 -3.03125 \"/>\n",
       "</symbol>\n",
       "<symbol overflow=\"visible\" id=\"glyph0-2\">\n",
       "<path style=\"stroke:none;\" d=\"M 0.796875 0 L 0.796875 -0.9375 L 1.640625 -0.9375 L 1.640625 0 Z M 0.796875 0 \"/>\n",
       "</symbol>\n",
       "<symbol overflow=\"visible\" id=\"glyph0-3\">\n",
       "<path style=\"stroke:none;\" d=\"M 4.515625 -1.6875 C 4.515625 -1.425781 4.472656 -1.1875 4.390625 -0.96875 C 4.304688 -0.757812 4.179688 -0.578125 4.015625 -0.421875 C 3.847656 -0.265625 3.632812 -0.140625 3.375 -0.046875 C 3.113281 0.0351562 2.804688 0.078125 2.453125 0.078125 C 2.097656 0.078125 1.789062 0.0351562 1.53125 -0.046875 C 1.269531 -0.140625 1.050781 -0.265625 0.875 -0.421875 C 0.707031 -0.578125 0.582031 -0.757812 0.5 -0.96875 C 0.414062 -1.1875 0.375 -1.421875 0.375 -1.671875 C 0.375 -1.898438 0.40625 -2.097656 0.46875 -2.265625 C 0.539062 -2.441406 0.632812 -2.59375 0.75 -2.71875 C 0.863281 -2.84375 0.992188 -2.941406 1.140625 -3.015625 C 1.285156 -3.085938 1.4375 -3.140625 1.59375 -3.171875 L 1.59375 -3.1875 C 1.414062 -3.226562 1.257812 -3.289062 1.125 -3.375 C 1 -3.46875 0.890625 -3.578125 0.796875 -3.703125 C 0.710938 -3.828125 0.644531 -3.960938 0.59375 -4.109375 C 0.550781 -4.265625 0.53125 -4.425781 0.53125 -4.59375 C 0.53125 -4.800781 0.566406 -5 0.640625 -5.1875 C 0.722656 -5.375 0.84375 -5.535156 1 -5.671875 C 1.164062 -5.816406 1.367188 -5.929688 1.609375 -6.015625 C 1.847656 -6.097656 2.125 -6.140625 2.4375 -6.140625 C 2.757812 -6.140625 3.039062 -6.097656 3.28125 -6.015625 C 3.53125 -5.929688 3.734375 -5.816406 3.890625 -5.671875 C 4.046875 -5.535156 4.160156 -5.375 4.234375 -5.1875 C 4.316406 -5 4.359375 -4.796875 4.359375 -4.578125 C 4.359375 -4.410156 4.332031 -4.25 4.28125 -4.09375 C 4.238281 -3.945312 4.171875 -3.8125 4.078125 -3.6875 C 3.992188 -3.5625 3.882812 -3.457031 3.75 -3.375 C 3.613281 -3.289062 3.457031 -3.226562 3.28125 -3.1875 L 3.28125 -3.171875 C 3.457031 -3.140625 3.617188 -3.085938 3.765625 -3.015625 C 3.921875 -2.941406 4.050781 -2.84375 4.15625 -2.71875 C 4.269531 -2.59375 4.359375 -2.441406 4.421875 -2.265625 C 4.484375 -2.097656 4.515625 -1.90625 4.515625 -1.6875 Z M 3.5625 -4.546875 C 3.5625 -4.691406 3.539062 -4.828125 3.5 -4.953125 C 3.457031 -5.078125 3.390625 -5.1875 3.296875 -5.28125 C 3.210938 -5.375 3.097656 -5.441406 2.953125 -5.484375 C 2.816406 -5.535156 2.644531 -5.5625 2.4375 -5.5625 C 2.226562 -5.5625 2.050781 -5.535156 1.90625 -5.484375 C 1.769531 -5.441406 1.65625 -5.375 1.5625 -5.28125 C 1.476562 -5.1875 1.414062 -5.078125 1.375 -4.953125 C 1.332031 -4.828125 1.3125 -4.691406 1.3125 -4.546875 C 1.3125 -4.421875 1.328125 -4.296875 1.359375 -4.171875 C 1.390625 -4.046875 1.445312 -3.929688 1.53125 -3.828125 C 1.613281 -3.722656 1.726562 -3.632812 1.875 -3.5625 C 2.019531 -3.5 2.207031 -3.46875 2.4375 -3.46875 C 2.6875 -3.46875 2.882812 -3.5 3.03125 -3.5625 C 3.175781 -3.632812 3.285156 -3.722656 3.359375 -3.828125 C 3.441406 -3.929688 3.492188 -4.046875 3.515625 -4.171875 C 3.546875 -4.296875 3.5625 -4.421875 3.5625 -4.546875 Z M 3.703125 -1.765625 C 3.703125 -1.910156 3.679688 -2.050781 3.640625 -2.1875 C 3.609375 -2.320312 3.539062 -2.441406 3.4375 -2.546875 C 3.34375 -2.648438 3.210938 -2.734375 3.046875 -2.796875 C 2.878906 -2.859375 2.675781 -2.890625 2.4375 -2.890625 C 2.207031 -2.890625 2.007812 -2.859375 1.84375 -2.796875 C 1.6875 -2.734375 1.554688 -2.648438 1.453125 -2.546875 C 1.359375 -2.441406 1.289062 -2.316406 1.25 -2.171875 C 1.207031 -2.035156 1.1875 -1.894531 1.1875 -1.75 C 1.1875 -1.5625 1.207031 -1.390625 1.25 -1.234375 C 1.289062 -1.078125 1.363281 -0.941406 1.46875 -0.828125 C 1.570312 -0.722656 1.703125 -0.640625 1.859375 -0.578125 C 2.023438 -0.523438 2.222656 -0.5 2.453125 -0.5 C 2.691406 -0.5 2.890625 -0.523438 3.046875 -0.578125 C 3.210938 -0.640625 3.34375 -0.722656 3.4375 -0.828125 C 3.53125 -0.941406 3.597656 -1.078125 3.640625 -1.234375 C 3.679688 -1.390625 3.703125 -1.566406 3.703125 -1.765625 Z M 3.703125 -1.765625 \"/>\n",
       "</symbol>\n",
       "<symbol overflow=\"visible\" id=\"glyph0-4\">\n",
       "<path style=\"stroke:none;\" d=\"M 4.515625 -1.96875 C 4.515625 -1.664062 4.46875 -1.390625 4.375 -1.140625 C 4.289062 -0.890625 4.15625 -0.671875 3.96875 -0.484375 C 3.789062 -0.304688 3.566406 -0.164062 3.296875 -0.0625 C 3.035156 0.03125 2.726562 0.078125 2.375 0.078125 C 2.0625 0.078125 1.785156 0.0390625 1.546875 -0.03125 C 1.304688 -0.101562 1.101562 -0.203125 0.9375 -0.328125 C 0.78125 -0.460938 0.648438 -0.613281 0.546875 -0.78125 C 0.453125 -0.957031 0.390625 -1.148438 0.359375 -1.359375 L 1.140625 -1.4375 C 1.171875 -1.320312 1.210938 -1.210938 1.265625 -1.109375 C 1.328125 -1.003906 1.40625 -0.910156 1.5 -0.828125 C 1.601562 -0.742188 1.722656 -0.675781 1.859375 -0.625 C 2.003906 -0.570312 2.179688 -0.546875 2.390625 -0.546875 C 2.585938 -0.546875 2.769531 -0.578125 2.9375 -0.640625 C 3.101562 -0.703125 3.242188 -0.789062 3.359375 -0.90625 C 3.472656 -1.03125 3.5625 -1.175781 3.625 -1.34375 C 3.6875 -1.519531 3.71875 -1.722656 3.71875 -1.953125 C 3.71875 -2.140625 3.6875 -2.3125 3.625 -2.46875 C 3.570312 -2.625 3.488281 -2.757812 3.375 -2.875 C 3.257812 -2.988281 3.117188 -3.078125 2.953125 -3.140625 C 2.796875 -3.203125 2.613281 -3.234375 2.40625 -3.234375 C 2.28125 -3.234375 2.160156 -3.21875 2.046875 -3.1875 C 1.941406 -3.164062 1.84375 -3.132812 1.75 -3.09375 C 1.65625 -3.0625 1.570312 -3.015625 1.5 -2.953125 C 1.425781 -2.898438 1.351562 -2.847656 1.28125 -2.796875 L 0.53125 -2.796875 L 0.734375 -6.046875 L 4.171875 -6.046875 L 4.171875 -5.390625 L 1.4375 -5.390625 L 1.3125 -3.46875 C 1.457031 -3.582031 1.628906 -3.675781 1.828125 -3.75 C 2.035156 -3.820312 2.28125 -3.859375 2.5625 -3.859375 C 2.863281 -3.859375 3.132812 -3.8125 3.375 -3.71875 C 3.613281 -3.632812 3.816406 -3.503906 3.984375 -3.328125 C 4.160156 -3.160156 4.289062 -2.960938 4.375 -2.734375 C 4.46875 -2.503906 4.515625 -2.25 4.515625 -1.96875 Z M 4.515625 -1.96875 \"/>\n",
       "</symbol>\n",
       "<symbol overflow=\"visible\" id=\"glyph0-5\">\n",
       "<path style=\"stroke:none;\" d=\"M 4.46875 -3.15625 C 4.46875 -2.613281 4.414062 -2.140625 4.3125 -1.734375 C 4.21875 -1.328125 4.078125 -0.988281 3.890625 -0.71875 C 3.703125 -0.445312 3.472656 -0.242188 3.203125 -0.109375 C 2.929688 0.015625 2.625 0.078125 2.28125 0.078125 C 2.050781 0.078125 1.84375 0.0507812 1.65625 0 C 1.46875 -0.0390625 1.300781 -0.109375 1.15625 -0.203125 C 1.007812 -0.304688 0.882812 -0.4375 0.78125 -0.59375 C 0.675781 -0.757812 0.59375 -0.953125 0.53125 -1.171875 L 1.28125 -1.296875 C 1.351562 -1.035156 1.472656 -0.84375 1.640625 -0.71875 C 1.816406 -0.59375 2.035156 -0.53125 2.296875 -0.53125 C 2.503906 -0.53125 2.691406 -0.578125 2.859375 -0.671875 C 3.035156 -0.773438 3.1875 -0.925781 3.3125 -1.125 C 3.4375 -1.320312 3.53125 -1.566406 3.59375 -1.859375 C 3.664062 -2.160156 3.707031 -2.515625 3.71875 -2.921875 C 3.65625 -2.785156 3.570312 -2.664062 3.46875 -2.5625 C 3.363281 -2.457031 3.242188 -2.367188 3.109375 -2.296875 C 2.972656 -2.222656 2.828125 -2.164062 2.671875 -2.125 C 2.515625 -2.082031 2.359375 -2.0625 2.203125 -2.0625 C 1.929688 -2.0625 1.679688 -2.109375 1.453125 -2.203125 C 1.234375 -2.304688 1.046875 -2.445312 0.890625 -2.625 C 0.742188 -2.800781 0.625 -3.015625 0.53125 -3.265625 C 0.445312 -3.515625 0.40625 -3.796875 0.40625 -4.109375 C 0.40625 -4.421875 0.453125 -4.703125 0.546875 -4.953125 C 0.640625 -5.203125 0.769531 -5.414062 0.9375 -5.59375 C 1.113281 -5.769531 1.328125 -5.90625 1.578125 -6 C 1.828125 -6.09375 2.109375 -6.140625 2.421875 -6.140625 C 3.097656 -6.140625 3.609375 -5.890625 3.953125 -5.390625 C 4.296875 -4.890625 4.46875 -4.144531 4.46875 -3.15625 Z M 3.640625 -3.890625 C 3.640625 -4.117188 3.609375 -4.332031 3.546875 -4.53125 C 3.492188 -4.726562 3.414062 -4.898438 3.3125 -5.046875 C 3.207031 -5.191406 3.078125 -5.304688 2.921875 -5.390625 C 2.773438 -5.472656 2.601562 -5.515625 2.40625 -5.515625 C 2.21875 -5.515625 2.046875 -5.476562 1.890625 -5.40625 C 1.742188 -5.34375 1.617188 -5.25 1.515625 -5.125 C 1.410156 -5.007812 1.332031 -4.863281 1.28125 -4.6875 C 1.226562 -4.507812 1.203125 -4.316406 1.203125 -4.109375 C 1.203125 -3.898438 1.222656 -3.707031 1.265625 -3.53125 C 1.316406 -3.363281 1.394531 -3.210938 1.5 -3.078125 C 1.601562 -2.953125 1.726562 -2.851562 1.875 -2.78125 C 2.019531 -2.707031 2.191406 -2.671875 2.390625 -2.671875 C 2.535156 -2.671875 2.679688 -2.695312 2.828125 -2.75 C 2.972656 -2.800781 3.101562 -2.875 3.21875 -2.96875 C 3.34375 -3.070312 3.441406 -3.195312 3.515625 -3.34375 C 3.597656 -3.5 3.640625 -3.679688 3.640625 -3.890625 Z M 3.640625 -3.890625 \"/>\n",
       "</symbol>\n",
       "<symbol overflow=\"visible\" id=\"glyph0-6\">\n",
       "<path style=\"stroke:none;\" d=\"M 0.671875 0 L 0.671875 -0.65625 L 2.21875 -0.65625 L 2.21875 -5.3125 L 0.84375 -4.34375 L 0.84375 -5.0625 L 2.28125 -6.046875 L 2.984375 -6.046875 L 2.984375 -0.65625 L 4.46875 -0.65625 L 4.46875 0 Z M 0.671875 0 \"/>\n",
       "</symbol>\n",
       "<symbol overflow=\"visible\" id=\"glyph0-7\">\n",
       "<path style=\"stroke:none;\" d=\"M 0.4375 0 L 0.4375 -0.546875 C 0.582031 -0.878906 0.757812 -1.171875 0.96875 -1.421875 C 1.1875 -1.679688 1.410156 -1.914062 1.640625 -2.125 C 1.867188 -2.332031 2.097656 -2.523438 2.328125 -2.703125 C 2.554688 -2.878906 2.757812 -3.054688 2.9375 -3.234375 C 3.125 -3.410156 3.273438 -3.597656 3.390625 -3.796875 C 3.503906 -3.992188 3.5625 -4.210938 3.5625 -4.453125 C 3.5625 -4.628906 3.535156 -4.78125 3.484375 -4.90625 C 3.429688 -5.039062 3.351562 -5.148438 3.25 -5.234375 C 3.15625 -5.328125 3.039062 -5.394531 2.90625 -5.4375 C 2.769531 -5.476562 2.617188 -5.5 2.453125 -5.5 C 2.296875 -5.5 2.148438 -5.476562 2.015625 -5.4375 C 1.878906 -5.394531 1.757812 -5.332031 1.65625 -5.25 C 1.550781 -5.164062 1.460938 -5.054688 1.390625 -4.921875 C 1.328125 -4.796875 1.285156 -4.648438 1.265625 -4.484375 L 0.484375 -4.5625 C 0.503906 -4.78125 0.5625 -4.984375 0.65625 -5.171875 C 0.75 -5.359375 0.878906 -5.523438 1.046875 -5.671875 C 1.210938 -5.816406 1.410156 -5.929688 1.640625 -6.015625 C 1.878906 -6.097656 2.148438 -6.140625 2.453125 -6.140625 C 2.753906 -6.140625 3.019531 -6.101562 3.25 -6.03125 C 3.488281 -5.957031 3.6875 -5.847656 3.84375 -5.703125 C 4.007812 -5.566406 4.132812 -5.394531 4.21875 -5.1875 C 4.3125 -4.988281 4.359375 -4.753906 4.359375 -4.484375 C 4.359375 -4.273438 4.320312 -4.078125 4.25 -3.890625 C 4.175781 -3.710938 4.078125 -3.539062 3.953125 -3.375 C 3.828125 -3.207031 3.6875 -3.046875 3.53125 -2.890625 C 3.375 -2.742188 3.207031 -2.59375 3.03125 -2.4375 C 2.851562 -2.289062 2.675781 -2.144531 2.5 -2 C 2.320312 -1.863281 2.15625 -1.722656 2 -1.578125 C 1.84375 -1.429688 1.703125 -1.28125 1.578125 -1.125 C 1.453125 -0.976562 1.359375 -0.820312 1.296875 -0.65625 L 4.453125 -0.65625 L 4.453125 0 Z M 0.4375 0 \"/>\n",
       "</symbol>\n",
       "<symbol overflow=\"visible\" id=\"glyph0-8\">\n",
       "<path style=\"stroke:none;\" d=\"M 3.78125 -1.375 L 3.78125 0 L 3.046875 0 L 3.046875 -1.375 L 0.203125 -1.375 L 0.203125 -1.96875 L 2.96875 -6.046875 L 3.78125 -6.046875 L 3.78125 -1.984375 L 4.640625 -1.984375 L 4.640625 -1.375 Z M 3.046875 -5.1875 C 3.046875 -5.164062 3.035156 -5.132812 3.015625 -5.09375 C 2.992188 -5.050781 2.96875 -5.003906 2.9375 -4.953125 C 2.90625 -4.898438 2.875 -4.847656 2.84375 -4.796875 C 2.8125 -4.742188 2.785156 -4.703125 2.765625 -4.671875 L 1.21875 -2.390625 C 1.195312 -2.359375 1.171875 -2.320312 1.140625 -2.28125 C 1.117188 -2.25 1.09375 -2.210938 1.0625 -2.171875 C 1.039062 -2.140625 1.015625 -2.101562 0.984375 -2.0625 C 0.953125 -2.03125 0.929688 -2.003906 0.921875 -1.984375 L 3.046875 -1.984375 Z M 3.046875 -5.1875 \"/>\n",
       "</symbol>\n",
       "<symbol overflow=\"visible\" id=\"glyph0-9\">\n",
       "<path style=\"stroke:none;\" d=\"M 4.5 -1.984375 C 4.5 -1.679688 4.457031 -1.398438 4.375 -1.140625 C 4.289062 -0.890625 4.164062 -0.671875 4 -0.484375 C 3.84375 -0.304688 3.640625 -0.164062 3.390625 -0.0625 C 3.148438 0.03125 2.867188 0.078125 2.546875 0.078125 C 2.191406 0.078125 1.882812 0.015625 1.625 -0.109375 C 1.363281 -0.242188 1.144531 -0.4375 0.96875 -0.6875 C 0.789062 -0.945312 0.660156 -1.257812 0.578125 -1.625 C 0.492188 -2 0.453125 -2.421875 0.453125 -2.890625 C 0.453125 -3.421875 0.5 -3.890625 0.59375 -4.296875 C 0.695312 -4.703125 0.835938 -5.039062 1.015625 -5.3125 C 1.203125 -5.59375 1.429688 -5.800781 1.703125 -5.9375 C 1.972656 -6.070312 2.273438 -6.140625 2.609375 -6.140625 C 2.816406 -6.140625 3.007812 -6.117188 3.1875 -6.078125 C 3.375 -6.035156 3.539062 -5.960938 3.6875 -5.859375 C 3.832031 -5.765625 3.957031 -5.640625 4.0625 -5.484375 C 4.175781 -5.328125 4.269531 -5.132812 4.34375 -4.90625 L 3.59375 -4.78125 C 3.519531 -5.039062 3.394531 -5.226562 3.21875 -5.34375 C 3.039062 -5.457031 2.835938 -5.515625 2.609375 -5.515625 C 2.390625 -5.515625 2.191406 -5.460938 2.015625 -5.359375 C 1.847656 -5.265625 1.703125 -5.117188 1.578125 -4.921875 C 1.460938 -4.722656 1.375 -4.472656 1.3125 -4.171875 C 1.25 -3.867188 1.21875 -3.515625 1.21875 -3.109375 C 1.351562 -3.367188 1.546875 -3.566406 1.796875 -3.703125 C 2.054688 -3.835938 2.351562 -3.90625 2.6875 -3.90625 C 2.957031 -3.90625 3.203125 -3.859375 3.421875 -3.765625 C 3.648438 -3.679688 3.84375 -3.554688 4 -3.390625 C 4.164062 -3.222656 4.289062 -3.019531 4.375 -2.78125 C 4.457031 -2.539062 4.5 -2.273438 4.5 -1.984375 Z M 3.71875 -1.953125 C 3.71875 -2.160156 3.691406 -2.347656 3.640625 -2.515625 C 3.585938 -2.679688 3.507812 -2.820312 3.40625 -2.9375 C 3.300781 -3.0625 3.171875 -3.15625 3.015625 -3.21875 C 2.867188 -3.28125 2.695312 -3.3125 2.5 -3.3125 C 2.363281 -3.3125 2.222656 -3.289062 2.078125 -3.25 C 1.929688 -3.207031 1.800781 -3.140625 1.6875 -3.046875 C 1.570312 -2.953125 1.476562 -2.828125 1.40625 -2.671875 C 1.332031 -2.523438 1.296875 -2.34375 1.296875 -2.125 C 1.296875 -1.90625 1.320312 -1.695312 1.375 -1.5 C 1.4375 -1.3125 1.519531 -1.144531 1.625 -1 C 1.726562 -0.851562 1.851562 -0.738281 2 -0.65625 C 2.15625 -0.570312 2.332031 -0.53125 2.53125 -0.53125 C 2.71875 -0.53125 2.882812 -0.5625 3.03125 -0.625 C 3.175781 -0.695312 3.300781 -0.789062 3.40625 -0.90625 C 3.507812 -1.03125 3.585938 -1.179688 3.640625 -1.359375 C 3.691406 -1.535156 3.71875 -1.734375 3.71875 -1.953125 Z M 3.71875 -1.953125 \"/>\n",
       "</symbol>\n",
       "<symbol overflow=\"visible\" id=\"glyph1-0\">\n",
       "<path style=\"stroke:none;\" d=\"M 0.359375 0 L 0.359375 -7.328125 L 3.28125 -7.328125 L 3.28125 0 Z M 0.734375 -0.359375 L 2.921875 -0.359375 L 2.921875 -6.96875 L 0.734375 -6.96875 Z M 0.734375 -0.359375 \"/>\n",
       "</symbol>\n",
       "<symbol overflow=\"visible\" id=\"glyph1-1\">\n",
       "<path style=\"stroke:none;\" d=\"M 5.8125 0 L 1.765625 -6.453125 C 1.765625 -6.273438 1.769531 -6.097656 1.78125 -5.921875 C 1.789062 -5.773438 1.796875 -5.617188 1.796875 -5.453125 C 1.804688 -5.296875 1.8125 -5.15625 1.8125 -5.03125 L 1.8125 0 L 0.90625 0 L 0.90625 -7.5625 L 2.09375 -7.5625 L 6.1875 -1.078125 C 6.175781 -1.253906 6.164062 -1.429688 6.15625 -1.609375 C 6.144531 -1.753906 6.132812 -1.914062 6.125 -2.09375 C 6.125 -2.269531 6.125 -2.441406 6.125 -2.609375 L 6.125 -7.5625 L 7.046875 -7.5625 L 7.046875 0 Z M 5.8125 0 \"/>\n",
       "</symbol>\n",
       "<symbol overflow=\"visible\" id=\"glyph1-2\">\n",
       "<path style=\"stroke:none;\" d=\"M 1.6875 -5.8125 L 1.6875 -2.125 C 1.6875 -1.84375 1.707031 -1.609375 1.75 -1.421875 C 1.789062 -1.234375 1.859375 -1.078125 1.953125 -0.953125 C 2.046875 -0.835938 2.164062 -0.753906 2.3125 -0.703125 C 2.46875 -0.660156 2.660156 -0.640625 2.890625 -0.640625 C 3.117188 -0.640625 3.320312 -0.675781 3.5 -0.75 C 3.6875 -0.832031 3.84375 -0.953125 3.96875 -1.109375 C 4.101562 -1.265625 4.207031 -1.453125 4.28125 -1.671875 C 4.351562 -1.898438 4.390625 -2.15625 4.390625 -2.4375 L 4.390625 -5.8125 L 5.359375 -5.8125 L 5.359375 -1.234375 C 5.359375 -1.117188 5.359375 -0.992188 5.359375 -0.859375 C 5.359375 -0.722656 5.359375 -0.59375 5.359375 -0.46875 C 5.367188 -0.351562 5.375 -0.25 5.375 -0.15625 C 5.375 -0.0703125 5.378906 -0.0195312 5.390625 0 L 4.46875 0 C 4.46875 -0.0195312 4.460938 -0.0664062 4.453125 -0.140625 C 4.453125 -0.222656 4.445312 -0.3125 4.4375 -0.40625 C 4.4375 -0.507812 4.4375 -0.613281 4.4375 -0.71875 C 4.4375 -0.832031 4.4375 -0.925781 4.4375 -1 L 4.421875 -1 C 4.328125 -0.820312 4.222656 -0.664062 4.109375 -0.53125 C 3.992188 -0.394531 3.863281 -0.28125 3.71875 -0.1875 C 3.570312 -0.09375 3.40625 -0.0195312 3.21875 0.03125 C 3.03125 0.0820312 2.8125 0.109375 2.5625 0.109375 C 2.238281 0.109375 1.957031 0.0703125 1.71875 0 C 1.488281 -0.0820312 1.296875 -0.207031 1.140625 -0.375 C 0.992188 -0.539062 0.882812 -0.75 0.8125 -1 C 0.75 -1.257812 0.71875 -1.570312 0.71875 -1.9375 L 0.71875 -5.8125 Z M 1.6875 -5.8125 \"/>\n",
       "</symbol>\n",
       "<symbol overflow=\"visible\" id=\"glyph1-3\">\n",
       "<path style=\"stroke:none;\" d=\"M 4.125 0 L 4.125 -3.6875 C 4.125 -3.96875 4.101562 -4.203125 4.0625 -4.390625 C 4.03125 -4.578125 3.972656 -4.726562 3.890625 -4.84375 C 3.804688 -4.96875 3.695312 -5.050781 3.5625 -5.09375 C 3.425781 -5.144531 3.257812 -5.171875 3.0625 -5.171875 C 2.851562 -5.171875 2.664062 -5.128906 2.5 -5.046875 C 2.34375 -4.972656 2.203125 -4.859375 2.078125 -4.703125 C 1.960938 -4.546875 1.875 -4.351562 1.8125 -4.125 C 1.75 -3.90625 1.71875 -3.65625 1.71875 -3.375 L 1.71875 0 L 0.765625 0 L 0.765625 -4.578125 C 0.765625 -4.691406 0.757812 -4.816406 0.75 -4.953125 C 0.75 -5.085938 0.75 -5.210938 0.75 -5.328125 C 0.75 -5.453125 0.742188 -5.554688 0.734375 -5.640625 C 0.734375 -5.734375 0.734375 -5.789062 0.734375 -5.8125 L 1.640625 -5.8125 C 1.648438 -5.789062 1.65625 -5.738281 1.65625 -5.65625 C 1.65625 -5.582031 1.65625 -5.492188 1.65625 -5.390625 C 1.664062 -5.296875 1.671875 -5.191406 1.671875 -5.078125 C 1.679688 -4.972656 1.6875 -4.882812 1.6875 -4.8125 L 1.703125 -4.8125 C 1.785156 -4.988281 1.875 -5.144531 1.96875 -5.28125 C 2.070312 -5.414062 2.191406 -5.53125 2.328125 -5.625 C 2.460938 -5.71875 2.617188 -5.789062 2.796875 -5.84375 C 2.972656 -5.894531 3.175781 -5.921875 3.40625 -5.921875 C 3.84375 -5.921875 4.1875 -5.832031 4.4375 -5.65625 C 4.695312 -5.476562 4.878906 -5.195312 4.984375 -4.8125 L 5 -4.8125 C 5.082031 -4.988281 5.175781 -5.144531 5.28125 -5.28125 C 5.394531 -5.414062 5.519531 -5.53125 5.65625 -5.625 C 5.800781 -5.71875 5.960938 -5.789062 6.140625 -5.84375 C 6.316406 -5.894531 6.519531 -5.921875 6.75 -5.921875 C 7.050781 -5.921875 7.304688 -5.878906 7.515625 -5.796875 C 7.734375 -5.722656 7.910156 -5.601562 8.046875 -5.4375 C 8.179688 -5.269531 8.28125 -5.054688 8.34375 -4.796875 C 8.40625 -4.535156 8.4375 -4.226562 8.4375 -3.875 L 8.4375 0 L 7.484375 0 L 7.484375 -3.6875 C 7.484375 -3.96875 7.460938 -4.203125 7.421875 -4.390625 C 7.390625 -4.578125 7.332031 -4.726562 7.25 -4.84375 C 7.164062 -4.96875 7.054688 -5.050781 6.921875 -5.09375 C 6.785156 -5.144531 6.617188 -5.171875 6.421875 -5.171875 C 6.210938 -5.171875 6.023438 -5.128906 5.859375 -5.046875 C 5.703125 -4.972656 5.5625 -4.859375 5.4375 -4.703125 C 5.320312 -4.554688 5.234375 -4.367188 5.171875 -4.140625 C 5.109375 -3.921875 5.078125 -3.664062 5.078125 -3.375 L 5.078125 0 Z M 4.125 0 \"/>\n",
       "</symbol>\n",
       "<symbol overflow=\"visible\" id=\"glyph1-4\">\n",
       "<path style=\"stroke:none;\" d=\"M 5.65625 -2.9375 C 5.65625 -0.90625 4.941406 0.109375 3.515625 0.109375 C 3.078125 0.109375 2.710938 0.03125 2.421875 -0.125 C 2.128906 -0.289062 1.890625 -0.550781 1.703125 -0.90625 C 1.703125 -0.8125 1.695312 -0.710938 1.6875 -0.609375 C 1.6875 -0.515625 1.679688 -0.421875 1.671875 -0.328125 C 1.671875 -0.242188 1.664062 -0.171875 1.65625 -0.109375 C 1.65625 -0.046875 1.648438 -0.0078125 1.640625 0 L 0.703125 0 C 0.710938 -0.03125 0.71875 -0.0820312 0.71875 -0.15625 C 0.71875 -0.238281 0.71875 -0.332031 0.71875 -0.4375 C 0.726562 -0.550781 0.734375 -0.671875 0.734375 -0.796875 C 0.734375 -0.921875 0.734375 -1.054688 0.734375 -1.203125 L 0.734375 -7.96875 L 1.703125 -7.96875 L 1.703125 -5.703125 C 1.703125 -5.585938 1.703125 -5.484375 1.703125 -5.390625 C 1.703125 -5.296875 1.703125 -5.207031 1.703125 -5.125 C 1.691406 -5.039062 1.6875 -4.957031 1.6875 -4.875 L 1.703125 -4.875 C 1.890625 -5.25 2.128906 -5.515625 2.421875 -5.671875 C 2.710938 -5.835938 3.078125 -5.921875 3.515625 -5.921875 C 4.253906 -5.921875 4.796875 -5.671875 5.140625 -5.171875 C 5.484375 -4.679688 5.65625 -3.9375 5.65625 -2.9375 Z M 4.640625 -2.90625 C 4.640625 -3.300781 4.613281 -3.640625 4.5625 -3.921875 C 4.507812 -4.210938 4.425781 -4.453125 4.3125 -4.640625 C 4.207031 -4.828125 4.066406 -4.960938 3.890625 -5.046875 C 3.722656 -5.128906 3.515625 -5.171875 3.265625 -5.171875 C 3.015625 -5.171875 2.789062 -5.128906 2.59375 -5.046875 C 2.394531 -4.960938 2.226562 -4.828125 2.09375 -4.640625 C 1.96875 -4.460938 1.867188 -4.222656 1.796875 -3.921875 C 1.734375 -3.628906 1.703125 -3.269531 1.703125 -2.84375 C 1.703125 -2.425781 1.734375 -2.078125 1.796875 -1.796875 C 1.867188 -1.515625 1.96875 -1.285156 2.09375 -1.109375 C 2.226562 -0.929688 2.394531 -0.800781 2.59375 -0.71875 C 2.789062 -0.644531 3.015625 -0.609375 3.265625 -0.609375 C 3.492188 -0.609375 3.691406 -0.648438 3.859375 -0.734375 C 4.035156 -0.816406 4.179688 -0.945312 4.296875 -1.125 C 4.410156 -1.3125 4.492188 -1.550781 4.546875 -1.84375 C 4.609375 -2.132812 4.640625 -2.488281 4.640625 -2.90625 Z M 4.640625 -2.90625 \"/>\n",
       "</symbol>\n",
       "<symbol overflow=\"visible\" id=\"glyph1-5\">\n",
       "<path style=\"stroke:none;\" d=\"M 1.484375 -2.703125 C 1.484375 -2.398438 1.515625 -2.117188 1.578125 -1.859375 C 1.640625 -1.609375 1.734375 -1.390625 1.859375 -1.203125 C 1.992188 -1.015625 2.160156 -0.867188 2.359375 -0.765625 C 2.566406 -0.671875 2.816406 -0.625 3.109375 -0.625 C 3.523438 -0.625 3.859375 -0.707031 4.109375 -0.875 C 4.359375 -1.039062 4.53125 -1.253906 4.625 -1.515625 L 5.46875 -1.265625 C 5.40625 -1.109375 5.316406 -0.945312 5.203125 -0.78125 C 5.097656 -0.613281 4.953125 -0.460938 4.765625 -0.328125 C 4.585938 -0.203125 4.363281 -0.0976562 4.09375 -0.015625 C 3.820312 0.0664062 3.492188 0.109375 3.109375 0.109375 C 2.242188 0.109375 1.585938 -0.144531 1.140625 -0.65625 C 0.691406 -1.164062 0.46875 -1.925781 0.46875 -2.9375 C 0.46875 -3.488281 0.535156 -3.953125 0.671875 -4.328125 C 0.804688 -4.703125 0.988281 -5.007812 1.21875 -5.25 C 1.457031 -5.488281 1.734375 -5.660156 2.046875 -5.765625 C 2.367188 -5.867188 2.707031 -5.921875 3.0625 -5.921875 C 3.550781 -5.921875 3.957031 -5.84375 4.28125 -5.6875 C 4.613281 -5.53125 4.878906 -5.3125 5.078125 -5.03125 C 5.273438 -4.75 5.414062 -4.421875 5.5 -4.046875 C 5.582031 -3.671875 5.625 -3.265625 5.625 -2.828125 L 5.625 -2.703125 Z M 4.625 -3.4375 C 4.570312 -4.050781 4.414062 -4.5 4.15625 -4.78125 C 3.90625 -5.0625 3.535156 -5.203125 3.046875 -5.203125 C 2.890625 -5.203125 2.722656 -5.175781 2.546875 -5.125 C 2.367188 -5.070312 2.203125 -4.976562 2.046875 -4.84375 C 1.898438 -4.71875 1.773438 -4.539062 1.671875 -4.3125 C 1.566406 -4.082031 1.507812 -3.789062 1.5 -3.4375 Z M 4.625 -3.4375 \"/>\n",
       "</symbol>\n",
       "<symbol overflow=\"visible\" id=\"glyph1-6\">\n",
       "<path style=\"stroke:none;\" d=\"M 0.765625 0 L 0.765625 -4.453125 C 0.765625 -4.578125 0.757812 -4.703125 0.75 -4.828125 C 0.75 -4.953125 0.75 -5.070312 0.75 -5.1875 C 0.75 -5.3125 0.742188 -5.425781 0.734375 -5.53125 C 0.734375 -5.632812 0.734375 -5.726562 0.734375 -5.8125 L 1.640625 -5.8125 C 1.648438 -5.726562 1.65625 -5.632812 1.65625 -5.53125 C 1.664062 -5.425781 1.671875 -5.316406 1.671875 -5.203125 C 1.679688 -5.085938 1.6875 -4.976562 1.6875 -4.875 C 1.6875 -4.78125 1.6875 -4.695312 1.6875 -4.625 L 1.703125 -4.625 C 1.773438 -4.84375 1.847656 -5.035156 1.921875 -5.203125 C 2.003906 -5.367188 2.097656 -5.503906 2.203125 -5.609375 C 2.304688 -5.710938 2.425781 -5.789062 2.5625 -5.84375 C 2.707031 -5.894531 2.882812 -5.921875 3.09375 -5.921875 C 3.164062 -5.921875 3.238281 -5.910156 3.3125 -5.890625 C 3.382812 -5.878906 3.441406 -5.867188 3.484375 -5.859375 L 3.484375 -4.984375 C 3.421875 -4.992188 3.34375 -5.003906 3.25 -5.015625 C 3.164062 -5.023438 3.070312 -5.03125 2.96875 -5.03125 C 2.738281 -5.03125 2.546875 -4.976562 2.390625 -4.875 C 2.242188 -4.78125 2.117188 -4.644531 2.015625 -4.46875 C 1.921875 -4.289062 1.847656 -4.078125 1.796875 -3.828125 C 1.753906 -3.585938 1.734375 -3.320312 1.734375 -3.03125 L 1.734375 0 Z M 0.765625 0 \"/>\n",
       "</symbol>\n",
       "<symbol overflow=\"visible\" id=\"glyph1-7\">\n",
       "<path style=\"stroke:none;\" d=\"\"/>\n",
       "</symbol>\n",
       "<symbol overflow=\"visible\" id=\"glyph1-8\">\n",
       "<path style=\"stroke:none;\" d=\"M 5.65625 -2.90625 C 5.65625 -1.894531 5.429688 -1.140625 4.984375 -0.640625 C 4.535156 -0.140625 3.882812 0.109375 3.03125 0.109375 C 2.625 0.109375 2.257812 0.046875 1.9375 -0.078125 C 1.625 -0.203125 1.359375 -0.390625 1.140625 -0.640625 C 0.921875 -0.890625 0.753906 -1.203125 0.640625 -1.578125 C 0.523438 -1.953125 0.46875 -2.394531 0.46875 -2.90625 C 0.46875 -4.914062 1.332031 -5.921875 3.0625 -5.921875 C 3.519531 -5.921875 3.910156 -5.859375 4.234375 -5.734375 C 4.566406 -5.609375 4.835938 -5.421875 5.046875 -5.171875 C 5.253906 -4.921875 5.40625 -4.601562 5.5 -4.21875 C 5.601562 -3.84375 5.65625 -3.40625 5.65625 -2.90625 Z M 4.640625 -2.90625 C 4.640625 -3.363281 4.601562 -3.738281 4.53125 -4.03125 C 4.46875 -4.320312 4.367188 -4.554688 4.234375 -4.734375 C 4.097656 -4.910156 3.929688 -5.03125 3.734375 -5.09375 C 3.546875 -5.164062 3.328125 -5.203125 3.078125 -5.203125 C 2.835938 -5.203125 2.613281 -5.164062 2.40625 -5.09375 C 2.207031 -5.019531 2.039062 -4.894531 1.90625 -4.71875 C 1.769531 -4.539062 1.664062 -4.304688 1.59375 -4.015625 C 1.519531 -3.722656 1.484375 -3.351562 1.484375 -2.90625 C 1.484375 -2.457031 1.519531 -2.082031 1.59375 -1.78125 C 1.675781 -1.488281 1.785156 -1.253906 1.921875 -1.078125 C 2.054688 -0.910156 2.21875 -0.789062 2.40625 -0.71875 C 2.59375 -0.644531 2.800781 -0.609375 3.03125 -0.609375 C 3.269531 -0.609375 3.488281 -0.640625 3.6875 -0.703125 C 3.894531 -0.773438 4.066406 -0.898438 4.203125 -1.078125 C 4.347656 -1.253906 4.457031 -1.488281 4.53125 -1.78125 C 4.601562 -2.082031 4.640625 -2.457031 4.640625 -2.90625 Z M 4.640625 -2.90625 \"/>\n",
       "</symbol>\n",
       "<symbol overflow=\"visible\" id=\"glyph1-9\">\n",
       "<path style=\"stroke:none;\" d=\"M 1.9375 -5.109375 L 1.9375 0 L 0.96875 0 L 0.96875 -5.109375 L 0.15625 -5.109375 L 0.15625 -5.8125 L 0.96875 -5.8125 L 0.96875 -6.46875 C 0.96875 -6.675781 0.988281 -6.867188 1.03125 -7.046875 C 1.070312 -7.234375 1.144531 -7.394531 1.25 -7.53125 C 1.351562 -7.664062 1.492188 -7.769531 1.671875 -7.84375 C 1.859375 -7.914062 2.097656 -7.953125 2.390625 -7.953125 C 2.503906 -7.953125 2.625 -7.945312 2.75 -7.9375 C 2.875 -7.925781 2.984375 -7.910156 3.078125 -7.890625 L 3.078125 -7.15625 C 3.015625 -7.164062 2.941406 -7.175781 2.859375 -7.1875 C 2.773438 -7.195312 2.703125 -7.203125 2.640625 -7.203125 C 2.492188 -7.203125 2.375 -7.179688 2.28125 -7.140625 C 2.195312 -7.097656 2.128906 -7.039062 2.078125 -6.96875 C 2.023438 -6.894531 1.988281 -6.804688 1.96875 -6.703125 C 1.945312 -6.597656 1.9375 -6.472656 1.9375 -6.328125 L 1.9375 -5.8125 L 3.078125 -5.8125 L 3.078125 -5.109375 Z M 1.9375 -5.109375 \"/>\n",
       "</symbol>\n",
       "<symbol overflow=\"visible\" id=\"glyph1-10\">\n",
       "<path style=\"stroke:none;\" d=\"M 6.75 -5.296875 C 6.75 -4.960938 6.691406 -4.648438 6.578125 -4.359375 C 6.472656 -4.078125 6.3125 -3.832031 6.09375 -3.625 C 5.882812 -3.414062 5.613281 -3.25 5.28125 -3.125 C 4.957031 -3.007812 4.582031 -2.953125 4.15625 -2.953125 L 1.921875 -2.953125 L 1.921875 0 L 0.90625 0 L 0.90625 -7.5625 L 4.09375 -7.5625 C 4.539062 -7.5625 4.929688 -7.503906 5.265625 -7.390625 C 5.597656 -7.285156 5.875 -7.132812 6.09375 -6.9375 C 6.3125 -6.738281 6.472656 -6.5 6.578125 -6.21875 C 6.691406 -5.9375 6.75 -5.628906 6.75 -5.296875 Z M 5.71875 -5.28125 C 5.71875 -5.757812 5.570312 -6.125 5.28125 -6.375 C 4.988281 -6.625 4.550781 -6.75 3.96875 -6.75 L 1.921875 -6.75 L 1.921875 -3.765625 L 4 -3.765625 C 4.59375 -3.765625 5.023438 -3.894531 5.296875 -4.15625 C 5.578125 -4.414062 5.71875 -4.789062 5.71875 -5.28125 Z M 5.71875 -5.28125 \"/>\n",
       "</symbol>\n",
       "<symbol overflow=\"visible\" id=\"glyph1-11\">\n",
       "<path style=\"stroke:none;\" d=\"M 4.40625 -0.9375 C 4.226562 -0.5625 3.988281 -0.289062 3.6875 -0.125 C 3.394531 0.03125 3.03125 0.109375 2.59375 0.109375 C 1.863281 0.109375 1.328125 -0.132812 0.984375 -0.625 C 0.640625 -1.125 0.46875 -1.875 0.46875 -2.875 C 0.46875 -4.90625 1.175781 -5.921875 2.59375 -5.921875 C 3.039062 -5.921875 3.410156 -5.835938 3.703125 -5.671875 C 3.992188 -5.515625 4.226562 -5.257812 4.40625 -4.90625 L 4.421875 -4.90625 C 4.421875 -4.945312 4.421875 -5.003906 4.421875 -5.078125 C 4.421875 -5.148438 4.414062 -5.226562 4.40625 -5.3125 C 4.40625 -5.40625 4.40625 -5.488281 4.40625 -5.5625 C 4.40625 -5.632812 4.40625 -5.6875 4.40625 -5.71875 L 4.40625 -7.96875 L 5.375 -7.96875 L 5.375 -1.203125 C 5.375 -1.054688 5.375 -0.921875 5.375 -0.796875 C 5.375 -0.671875 5.375 -0.550781 5.375 -0.4375 C 5.382812 -0.332031 5.390625 -0.238281 5.390625 -0.15625 C 5.398438 -0.0820312 5.40625 -0.03125 5.40625 0 L 4.484375 0 C 4.472656 -0.03125 4.460938 -0.078125 4.453125 -0.140625 C 4.453125 -0.210938 4.445312 -0.289062 4.4375 -0.375 C 4.4375 -0.46875 4.4375 -0.5625 4.4375 -0.65625 C 4.4375 -0.75 4.4375 -0.84375 4.4375 -0.9375 Z M 1.484375 -2.90625 C 1.484375 -2.507812 1.503906 -2.164062 1.546875 -1.875 C 1.597656 -1.59375 1.675781 -1.359375 1.78125 -1.171875 C 1.894531 -0.984375 2.035156 -0.847656 2.203125 -0.765625 C 2.378906 -0.679688 2.59375 -0.640625 2.84375 -0.640625 C 3.101562 -0.640625 3.328125 -0.679688 3.515625 -0.765625 C 3.710938 -0.847656 3.875 -0.976562 4 -1.15625 C 4.132812 -1.34375 4.234375 -1.582031 4.296875 -1.875 C 4.367188 -2.175781 4.40625 -2.539062 4.40625 -2.96875 C 4.40625 -3.382812 4.367188 -3.734375 4.296875 -4.015625 C 4.234375 -4.304688 4.132812 -4.535156 4 -4.703125 C 3.875 -4.878906 3.710938 -5.003906 3.515625 -5.078125 C 3.328125 -5.160156 3.109375 -5.203125 2.859375 -5.203125 C 2.617188 -5.203125 2.410156 -5.160156 2.234375 -5.078125 C 2.066406 -4.992188 1.925781 -4.859375 1.8125 -4.671875 C 1.695312 -4.492188 1.613281 -4.257812 1.5625 -3.96875 C 1.507812 -3.675781 1.484375 -3.320312 1.484375 -2.90625 Z M 1.484375 -2.90625 \"/>\n",
       "</symbol>\n",
       "<symbol overflow=\"visible\" id=\"glyph1-12\">\n",
       "<path style=\"stroke:none;\" d=\"M 0.734375 -7.046875 L 0.734375 -7.96875 L 1.703125 -7.96875 L 1.703125 -7.046875 Z M 0.734375 0 L 0.734375 -5.8125 L 1.703125 -5.8125 L 1.703125 0 Z M 0.734375 0 \"/>\n",
       "</symbol>\n",
       "<symbol overflow=\"visible\" id=\"glyph1-13\">\n",
       "<path style=\"stroke:none;\" d=\"M 1.484375 -2.9375 C 1.484375 -2.601562 1.503906 -2.296875 1.546875 -2.015625 C 1.597656 -1.734375 1.679688 -1.488281 1.796875 -1.28125 C 1.910156 -1.082031 2.0625 -0.925781 2.25 -0.8125 C 2.4375 -0.707031 2.664062 -0.65625 2.9375 -0.65625 C 3.28125 -0.65625 3.566406 -0.75 3.796875 -0.9375 C 4.035156 -1.125 4.179688 -1.410156 4.234375 -1.796875 L 5.203125 -1.734375 C 5.171875 -1.492188 5.101562 -1.257812 5 -1.03125 C 4.894531 -0.8125 4.75 -0.617188 4.5625 -0.453125 C 4.375 -0.285156 4.144531 -0.148438 3.875 -0.046875 C 3.613281 0.0546875 3.3125 0.109375 2.96875 0.109375 C 2.507812 0.109375 2.117188 0.03125 1.796875 -0.125 C 1.484375 -0.28125 1.226562 -0.492188 1.03125 -0.765625 C 0.832031 -1.035156 0.6875 -1.351562 0.59375 -1.71875 C 0.507812 -2.082031 0.46875 -2.476562 0.46875 -2.90625 C 0.46875 -3.300781 0.5 -3.644531 0.5625 -3.9375 C 0.625 -4.238281 0.710938 -4.5 0.828125 -4.71875 C 0.953125 -4.945312 1.09375 -5.132812 1.25 -5.28125 C 1.40625 -5.4375 1.570312 -5.5625 1.75 -5.65625 C 1.9375 -5.75 2.128906 -5.816406 2.328125 -5.859375 C 2.535156 -5.898438 2.742188 -5.921875 2.953125 -5.921875 C 3.285156 -5.921875 3.578125 -5.875 3.828125 -5.78125 C 4.085938 -5.695312 4.304688 -5.578125 4.484375 -5.421875 C 4.671875 -5.265625 4.820312 -5.078125 4.9375 -4.859375 C 5.050781 -4.648438 5.128906 -4.425781 5.171875 -4.1875 L 4.1875 -4.109375 C 4.132812 -4.429688 4.003906 -4.6875 3.796875 -4.875 C 3.597656 -5.0625 3.3125 -5.15625 2.9375 -5.15625 C 2.65625 -5.15625 2.421875 -5.109375 2.234375 -5.015625 C 2.054688 -4.929688 1.910156 -4.796875 1.796875 -4.609375 C 1.679688 -4.421875 1.597656 -4.1875 1.546875 -3.90625 C 1.503906 -3.632812 1.484375 -3.3125 1.484375 -2.9375 Z M 1.484375 -2.9375 \"/>\n",
       "</symbol>\n",
       "<symbol overflow=\"visible\" id=\"glyph1-14\">\n",
       "<path style=\"stroke:none;\" d=\"M 2.96875 -0.046875 C 2.820312 -0.00390625 2.671875 0.0234375 2.515625 0.046875 C 2.367188 0.078125 2.195312 0.09375 2 0.09375 C 1.226562 0.09375 0.84375 -0.347656 0.84375 -1.234375 L 0.84375 -5.109375 L 0.171875 -5.109375 L 0.171875 -5.8125 L 0.875 -5.8125 L 1.15625 -7.109375 L 1.8125 -7.109375 L 1.8125 -5.8125 L 2.875 -5.8125 L 2.875 -5.109375 L 1.8125 -5.109375 L 1.8125 -1.4375 C 1.8125 -1.15625 1.851562 -0.957031 1.9375 -0.84375 C 2.03125 -0.738281 2.191406 -0.6875 2.421875 -0.6875 C 2.515625 -0.6875 2.601562 -0.691406 2.6875 -0.703125 C 2.769531 -0.710938 2.863281 -0.726562 2.96875 -0.75 Z M 2.96875 -0.046875 \"/>\n",
       "</symbol>\n",
       "<symbol overflow=\"visible\" id=\"glyph1-15\">\n",
       "<path style=\"stroke:none;\" d=\"M 5.109375 -1.609375 C 5.109375 -1.335938 5.050781 -1.09375 4.9375 -0.875 C 4.832031 -0.664062 4.679688 -0.488281 4.484375 -0.34375 C 4.285156 -0.195312 4.039062 -0.0820312 3.75 0 C 3.457031 0.0703125 3.125 0.109375 2.75 0.109375 C 2.40625 0.109375 2.097656 0.0820312 1.828125 0.03125 C 1.554688 -0.0195312 1.316406 -0.101562 1.109375 -0.21875 C 0.910156 -0.332031 0.742188 -0.484375 0.609375 -0.671875 C 0.472656 -0.859375 0.375 -1.085938 0.3125 -1.359375 L 1.15625 -1.53125 C 1.238281 -1.21875 1.410156 -0.988281 1.671875 -0.84375 C 1.929688 -0.695312 2.289062 -0.625 2.75 -0.625 C 2.957031 -0.625 3.144531 -0.640625 3.3125 -0.671875 C 3.488281 -0.703125 3.640625 -0.75 3.765625 -0.8125 C 3.890625 -0.882812 3.984375 -0.976562 4.046875 -1.09375 C 4.117188 -1.207031 4.15625 -1.351562 4.15625 -1.53125 C 4.15625 -1.707031 4.113281 -1.847656 4.03125 -1.953125 C 3.957031 -2.066406 3.84375 -2.160156 3.6875 -2.234375 C 3.539062 -2.316406 3.363281 -2.382812 3.15625 -2.4375 C 2.945312 -2.5 2.71875 -2.5625 2.46875 -2.625 C 2.238281 -2.6875 2.007812 -2.753906 1.78125 -2.828125 C 1.550781 -2.898438 1.34375 -3 1.15625 -3.125 C 0.96875 -3.25 0.816406 -3.398438 0.703125 -3.578125 C 0.585938 -3.765625 0.53125 -4 0.53125 -4.28125 C 0.53125 -4.8125 0.71875 -5.210938 1.09375 -5.484375 C 1.476562 -5.765625 2.03125 -5.90625 2.75 -5.90625 C 3.394531 -5.90625 3.90625 -5.789062 4.28125 -5.5625 C 4.65625 -5.332031 4.894531 -4.972656 5 -4.484375 L 4.125 -4.375 C 4.09375 -4.519531 4.035156 -4.644531 3.953125 -4.75 C 3.867188 -4.851562 3.765625 -4.9375 3.640625 -5 C 3.515625 -5.0625 3.375 -5.101562 3.21875 -5.125 C 3.070312 -5.15625 2.914062 -5.171875 2.75 -5.171875 C 2.3125 -5.171875 1.988281 -5.101562 1.78125 -4.96875 C 1.582031 -4.84375 1.484375 -4.644531 1.484375 -4.375 C 1.484375 -4.21875 1.519531 -4.085938 1.59375 -3.984375 C 1.664062 -3.878906 1.769531 -3.789062 1.90625 -3.71875 C 2.050781 -3.65625 2.21875 -3.597656 2.40625 -3.546875 C 2.601562 -3.492188 2.816406 -3.4375 3.046875 -3.375 C 3.203125 -3.332031 3.359375 -3.289062 3.515625 -3.25 C 3.679688 -3.207031 3.835938 -3.15625 3.984375 -3.09375 C 4.140625 -3.03125 4.285156 -2.957031 4.421875 -2.875 C 4.554688 -2.789062 4.671875 -2.6875 4.765625 -2.5625 C 4.867188 -2.445312 4.953125 -2.3125 5.015625 -2.15625 C 5.078125 -2 5.109375 -1.816406 5.109375 -1.609375 Z M 5.109375 -1.609375 \"/>\n",
       "</symbol>\n",
       "<symbol overflow=\"visible\" id=\"glyph2-0\">\n",
       "<path style=\"stroke:none;\" d=\"M 0 -0.359375 L -7.328125 -0.359375 L -7.328125 -3.28125 L 0 -3.28125 Z M -0.359375 -0.734375 L -0.359375 -2.921875 L -6.96875 -2.921875 L -6.96875 -0.734375 Z M -0.359375 -0.734375 \"/>\n",
       "</symbol>\n",
       "<symbol overflow=\"visible\" id=\"glyph2-1\">\n",
       "<path style=\"stroke:none;\" d=\"M 0 -0.90625 L -7.5625 -0.90625 L -7.5625 -6.640625 L -6.734375 -6.640625 L -6.734375 -1.921875 L -4.296875 -1.921875 L -4.296875 -6.328125 L -3.46875 -6.328125 L -3.46875 -1.921875 L -0.84375 -1.921875 L -0.84375 -6.859375 L 0 -6.859375 Z M 0 -0.90625 \"/>\n",
       "</symbol>\n",
       "<symbol overflow=\"visible\" id=\"glyph2-2\">\n",
       "<path style=\"stroke:none;\" d=\"M -1.609375 -5.109375 C -1.335938 -5.109375 -1.09375 -5.050781 -0.875 -4.9375 C -0.664062 -4.832031 -0.488281 -4.679688 -0.34375 -4.484375 C -0.195312 -4.285156 -0.0820312 -4.039062 0 -3.75 C 0.0703125 -3.457031 0.109375 -3.125 0.109375 -2.75 C 0.109375 -2.40625 0.0820312 -2.097656 0.03125 -1.828125 C -0.0195312 -1.554688 -0.101562 -1.316406 -0.21875 -1.109375 C -0.332031 -0.910156 -0.484375 -0.742188 -0.671875 -0.609375 C -0.859375 -0.472656 -1.085938 -0.375 -1.359375 -0.3125 L -1.53125 -1.15625 C -1.21875 -1.238281 -0.988281 -1.410156 -0.84375 -1.671875 C -0.695312 -1.929688 -0.625 -2.289062 -0.625 -2.75 C -0.625 -2.957031 -0.640625 -3.144531 -0.671875 -3.3125 C -0.703125 -3.488281 -0.75 -3.640625 -0.8125 -3.765625 C -0.882812 -3.890625 -0.976562 -3.984375 -1.09375 -4.046875 C -1.207031 -4.117188 -1.351562 -4.15625 -1.53125 -4.15625 C -1.707031 -4.15625 -1.847656 -4.113281 -1.953125 -4.03125 C -2.066406 -3.957031 -2.160156 -3.84375 -2.234375 -3.6875 C -2.316406 -3.539062 -2.382812 -3.363281 -2.4375 -3.15625 C -2.5 -2.945312 -2.5625 -2.71875 -2.625 -2.46875 C -2.6875 -2.238281 -2.753906 -2.007812 -2.828125 -1.78125 C -2.898438 -1.550781 -3 -1.34375 -3.125 -1.15625 C -3.25 -0.96875 -3.398438 -0.816406 -3.578125 -0.703125 C -3.765625 -0.585938 -4 -0.53125 -4.28125 -0.53125 C -4.8125 -0.53125 -5.210938 -0.71875 -5.484375 -1.09375 C -5.765625 -1.476562 -5.90625 -2.03125 -5.90625 -2.75 C -5.90625 -3.394531 -5.789062 -3.90625 -5.5625 -4.28125 C -5.332031 -4.65625 -4.972656 -4.894531 -4.484375 -5 L -4.375 -4.125 C -4.519531 -4.09375 -4.644531 -4.035156 -4.75 -3.953125 C -4.851562 -3.867188 -4.9375 -3.765625 -5 -3.640625 C -5.0625 -3.515625 -5.101562 -3.375 -5.125 -3.21875 C -5.15625 -3.070312 -5.171875 -2.914062 -5.171875 -2.75 C -5.171875 -2.3125 -5.101562 -1.988281 -4.96875 -1.78125 C -4.84375 -1.582031 -4.644531 -1.484375 -4.375 -1.484375 C -4.21875 -1.484375 -4.085938 -1.519531 -3.984375 -1.59375 C -3.878906 -1.664062 -3.789062 -1.769531 -3.71875 -1.90625 C -3.65625 -2.050781 -3.597656 -2.21875 -3.546875 -2.40625 C -3.492188 -2.601562 -3.4375 -2.816406 -3.375 -3.046875 C -3.332031 -3.203125 -3.289062 -3.359375 -3.25 -3.515625 C -3.207031 -3.679688 -3.15625 -3.835938 -3.09375 -3.984375 C -3.03125 -4.140625 -2.957031 -4.285156 -2.875 -4.421875 C -2.789062 -4.554688 -2.6875 -4.671875 -2.5625 -4.765625 C -2.445312 -4.867188 -2.3125 -4.953125 -2.15625 -5.015625 C -2 -5.078125 -1.816406 -5.109375 -1.609375 -5.109375 Z M -1.609375 -5.109375 \"/>\n",
       "</symbol>\n",
       "<symbol overflow=\"visible\" id=\"glyph2-3\">\n",
       "<path style=\"stroke:none;\" d=\"M -0.046875 -2.96875 C -0.00390625 -2.820312 0.0234375 -2.671875 0.046875 -2.515625 C 0.078125 -2.367188 0.09375 -2.195312 0.09375 -2 C 0.09375 -1.226562 -0.347656 -0.84375 -1.234375 -0.84375 L -5.109375 -0.84375 L -5.109375 -0.171875 L -5.8125 -0.171875 L -5.8125 -0.875 L -7.109375 -1.15625 L -7.109375 -1.8125 L -5.8125 -1.8125 L -5.8125 -2.875 L -5.109375 -2.875 L -5.109375 -1.8125 L -1.4375 -1.8125 C -1.15625 -1.8125 -0.957031 -1.851562 -0.84375 -1.9375 C -0.738281 -2.03125 -0.6875 -2.191406 -0.6875 -2.421875 C -0.6875 -2.515625 -0.691406 -2.601562 -0.703125 -2.6875 C -0.710938 -2.769531 -0.726562 -2.863281 -0.75 -2.96875 Z M -0.046875 -2.96875 \"/>\n",
       "</symbol>\n",
       "<symbol overflow=\"visible\" id=\"glyph2-4\">\n",
       "<path style=\"stroke:none;\" d=\"M -7.046875 -0.734375 L -7.96875 -0.734375 L -7.96875 -1.703125 L -7.046875 -1.703125 Z M 0 -0.734375 L -5.8125 -0.734375 L -5.8125 -1.703125 L 0 -1.703125 Z M 0 -0.734375 \"/>\n",
       "</symbol>\n",
       "<symbol overflow=\"visible\" id=\"glyph2-5\">\n",
       "<path style=\"stroke:none;\" d=\"M 0 -4.125 L -3.6875 -4.125 C -3.96875 -4.125 -4.203125 -4.101562 -4.390625 -4.0625 C -4.578125 -4.03125 -4.726562 -3.972656 -4.84375 -3.890625 C -4.96875 -3.804688 -5.050781 -3.695312 -5.09375 -3.5625 C -5.144531 -3.425781 -5.171875 -3.257812 -5.171875 -3.0625 C -5.171875 -2.851562 -5.128906 -2.664062 -5.046875 -2.5 C -4.972656 -2.34375 -4.859375 -2.203125 -4.703125 -2.078125 C -4.546875 -1.960938 -4.351562 -1.875 -4.125 -1.8125 C -3.90625 -1.75 -3.65625 -1.71875 -3.375 -1.71875 L 0 -1.71875 L 0 -0.765625 L -4.578125 -0.765625 C -4.691406 -0.765625 -4.816406 -0.757812 -4.953125 -0.75 C -5.085938 -0.75 -5.210938 -0.75 -5.328125 -0.75 C -5.453125 -0.75 -5.554688 -0.742188 -5.640625 -0.734375 C -5.734375 -0.734375 -5.789062 -0.734375 -5.8125 -0.734375 L -5.8125 -1.640625 C -5.789062 -1.648438 -5.738281 -1.65625 -5.65625 -1.65625 C -5.582031 -1.65625 -5.492188 -1.65625 -5.390625 -1.65625 C -5.296875 -1.664062 -5.191406 -1.671875 -5.078125 -1.671875 C -4.972656 -1.679688 -4.882812 -1.6875 -4.8125 -1.6875 L -4.8125 -1.703125 C -4.988281 -1.785156 -5.144531 -1.875 -5.28125 -1.96875 C -5.414062 -2.070312 -5.53125 -2.191406 -5.625 -2.328125 C -5.71875 -2.460938 -5.789062 -2.617188 -5.84375 -2.796875 C -5.894531 -2.972656 -5.921875 -3.175781 -5.921875 -3.40625 C -5.921875 -3.84375 -5.832031 -4.1875 -5.65625 -4.4375 C -5.476562 -4.695312 -5.195312 -4.878906 -4.8125 -4.984375 L -4.8125 -5 C -4.988281 -5.082031 -5.144531 -5.175781 -5.28125 -5.28125 C -5.414062 -5.394531 -5.53125 -5.519531 -5.625 -5.65625 C -5.71875 -5.800781 -5.789062 -5.960938 -5.84375 -6.140625 C -5.894531 -6.316406 -5.921875 -6.519531 -5.921875 -6.75 C -5.921875 -7.050781 -5.878906 -7.304688 -5.796875 -7.515625 C -5.722656 -7.734375 -5.601562 -7.910156 -5.4375 -8.046875 C -5.269531 -8.179688 -5.054688 -8.28125 -4.796875 -8.34375 C -4.535156 -8.40625 -4.226562 -8.4375 -3.875 -8.4375 L 0 -8.4375 L 0 -7.484375 L -3.6875 -7.484375 C -3.96875 -7.484375 -4.203125 -7.460938 -4.390625 -7.421875 C -4.578125 -7.390625 -4.726562 -7.332031 -4.84375 -7.25 C -4.96875 -7.164062 -5.050781 -7.054688 -5.09375 -6.921875 C -5.144531 -6.785156 -5.171875 -6.617188 -5.171875 -6.421875 C -5.171875 -6.210938 -5.128906 -6.023438 -5.046875 -5.859375 C -4.972656 -5.703125 -4.859375 -5.5625 -4.703125 -5.4375 C -4.554688 -5.320312 -4.367188 -5.234375 -4.140625 -5.171875 C -3.921875 -5.109375 -3.664062 -5.078125 -3.375 -5.078125 L 0 -5.078125 Z M 0 -4.125 \"/>\n",
       "</symbol>\n",
       "<symbol overflow=\"visible\" id=\"glyph2-6\">\n",
       "<path style=\"stroke:none;\" d=\"M 0.109375 -2.21875 C 0.109375 -1.632812 -0.0390625 -1.195312 -0.34375 -0.90625 C -0.65625 -0.613281 -1.082031 -0.46875 -1.625 -0.46875 C -2.007812 -0.46875 -2.320312 -0.539062 -2.5625 -0.6875 C -2.8125 -0.832031 -3.003906 -1.019531 -3.140625 -1.25 C -3.285156 -1.488281 -3.382812 -1.757812 -3.4375 -2.0625 C -3.488281 -2.363281 -3.519531 -2.664062 -3.53125 -2.96875 L -3.546875 -4.28125 L -3.859375 -4.28125 C -4.097656 -4.28125 -4.300781 -4.253906 -4.46875 -4.203125 C -4.644531 -4.148438 -4.78125 -4.070312 -4.875 -3.96875 C -4.976562 -3.863281 -5.054688 -3.734375 -5.109375 -3.578125 C -5.160156 -3.429688 -5.1875 -3.25 -5.1875 -3.03125 C -5.1875 -2.84375 -5.171875 -2.671875 -5.140625 -2.515625 C -5.117188 -2.367188 -5.070312 -2.238281 -5 -2.125 C -4.925781 -2.019531 -4.828125 -1.929688 -4.703125 -1.859375 C -4.585938 -1.796875 -4.441406 -1.753906 -4.265625 -1.734375 L -4.34375 -0.71875 C -4.570312 -0.757812 -4.78125 -0.828125 -4.96875 -0.921875 C -5.164062 -1.023438 -5.332031 -1.171875 -5.46875 -1.359375 C -5.613281 -1.546875 -5.722656 -1.773438 -5.796875 -2.046875 C -5.878906 -2.328125 -5.921875 -2.664062 -5.921875 -3.0625 C -5.921875 -3.789062 -5.753906 -4.335938 -5.421875 -4.703125 C -5.085938 -5.078125 -4.601562 -5.265625 -3.96875 -5.265625 L -1.46875 -5.265625 C -1.175781 -5.265625 -0.957031 -5.300781 -0.8125 -5.375 C -0.664062 -5.445312 -0.59375 -5.585938 -0.59375 -5.796875 C -0.59375 -5.847656 -0.597656 -5.898438 -0.609375 -5.953125 C -0.617188 -6.015625 -0.628906 -6.070312 -0.640625 -6.125 L -0.03125 -6.125 C 0 -6 0.0195312 -5.875 0.03125 -5.75 C 0.0390625 -5.632812 0.046875 -5.507812 0.046875 -5.375 C 0.046875 -5.1875 0.0234375 -5.023438 -0.015625 -4.890625 C -0.0664062 -4.765625 -0.140625 -4.660156 -0.234375 -4.578125 C -0.335938 -4.492188 -0.460938 -4.429688 -0.609375 -4.390625 C -0.753906 -4.347656 -0.921875 -4.320312 -1.109375 -4.3125 L -1.109375 -4.28125 C -0.921875 -4.175781 -0.75 -4.0625 -0.59375 -3.9375 C -0.445312 -3.8125 -0.320312 -3.664062 -0.21875 -3.5 C -0.113281 -3.34375 -0.0351562 -3.15625 0.015625 -2.9375 C 0.078125 -2.726562 0.109375 -2.488281 0.109375 -2.21875 Z M -0.625 -2.4375 C -0.625 -2.75 -0.675781 -3.019531 -0.78125 -3.25 C -0.894531 -3.476562 -1.039062 -3.671875 -1.21875 -3.828125 C -1.394531 -3.984375 -1.585938 -4.097656 -1.796875 -4.171875 C -2.003906 -4.242188 -2.203125 -4.28125 -2.390625 -4.28125 L -2.875 -4.28125 L -2.84375 -3.21875 C -2.84375 -2.988281 -2.828125 -2.765625 -2.796875 -2.546875 C -2.765625 -2.335938 -2.703125 -2.148438 -2.609375 -1.984375 C -2.523438 -1.828125 -2.398438 -1.703125 -2.234375 -1.609375 C -2.078125 -1.515625 -1.867188 -1.46875 -1.609375 -1.46875 C -1.296875 -1.46875 -1.050781 -1.550781 -0.875 -1.71875 C -0.707031 -1.882812 -0.625 -2.125 -0.625 -2.4375 Z M -0.625 -2.4375 \"/>\n",
       "</symbol>\n",
       "<symbol overflow=\"visible\" id=\"glyph2-7\">\n",
       "<path style=\"stroke:none;\" d=\"M -2.703125 -1.484375 C -2.398438 -1.484375 -2.117188 -1.515625 -1.859375 -1.578125 C -1.609375 -1.640625 -1.390625 -1.734375 -1.203125 -1.859375 C -1.015625 -1.992188 -0.867188 -2.160156 -0.765625 -2.359375 C -0.671875 -2.566406 -0.625 -2.816406 -0.625 -3.109375 C -0.625 -3.523438 -0.707031 -3.859375 -0.875 -4.109375 C -1.039062 -4.359375 -1.253906 -4.53125 -1.515625 -4.625 L -1.265625 -5.46875 C -1.109375 -5.40625 -0.945312 -5.316406 -0.78125 -5.203125 C -0.613281 -5.097656 -0.460938 -4.953125 -0.328125 -4.765625 C -0.203125 -4.585938 -0.0976562 -4.363281 -0.015625 -4.09375 C 0.0664062 -3.820312 0.109375 -3.492188 0.109375 -3.109375 C 0.109375 -2.242188 -0.144531 -1.585938 -0.65625 -1.140625 C -1.164062 -0.691406 -1.925781 -0.46875 -2.9375 -0.46875 C -3.488281 -0.46875 -3.953125 -0.535156 -4.328125 -0.671875 C -4.703125 -0.804688 -5.007812 -0.988281 -5.25 -1.21875 C -5.488281 -1.457031 -5.660156 -1.734375 -5.765625 -2.046875 C -5.867188 -2.367188 -5.921875 -2.707031 -5.921875 -3.0625 C -5.921875 -3.550781 -5.84375 -3.957031 -5.6875 -4.28125 C -5.53125 -4.613281 -5.3125 -4.878906 -5.03125 -5.078125 C -4.75 -5.273438 -4.421875 -5.414062 -4.046875 -5.5 C -3.671875 -5.582031 -3.265625 -5.625 -2.828125 -5.625 L -2.703125 -5.625 Z M -3.4375 -4.625 C -4.050781 -4.570312 -4.5 -4.414062 -4.78125 -4.15625 C -5.0625 -3.90625 -5.203125 -3.535156 -5.203125 -3.046875 C -5.203125 -2.890625 -5.175781 -2.722656 -5.125 -2.546875 C -5.070312 -2.367188 -4.976562 -2.203125 -4.84375 -2.046875 C -4.71875 -1.898438 -4.539062 -1.773438 -4.3125 -1.671875 C -4.082031 -1.566406 -3.789062 -1.507812 -3.4375 -1.5 Z M -3.4375 -4.625 \"/>\n",
       "</symbol>\n",
       "<symbol overflow=\"visible\" id=\"glyph2-8\">\n",
       "<path style=\"stroke:none;\" d=\"M -0.9375 -4.40625 C -0.5625 -4.226562 -0.289062 -3.988281 -0.125 -3.6875 C 0.03125 -3.394531 0.109375 -3.03125 0.109375 -2.59375 C 0.109375 -1.863281 -0.132812 -1.328125 -0.625 -0.984375 C -1.125 -0.640625 -1.875 -0.46875 -2.875 -0.46875 C -4.90625 -0.46875 -5.921875 -1.175781 -5.921875 -2.59375 C -5.921875 -3.039062 -5.835938 -3.410156 -5.671875 -3.703125 C -5.515625 -3.992188 -5.257812 -4.226562 -4.90625 -4.40625 L -4.90625 -4.421875 C -4.945312 -4.421875 -5.003906 -4.421875 -5.078125 -4.421875 C -5.148438 -4.421875 -5.226562 -4.414062 -5.3125 -4.40625 C -5.40625 -4.40625 -5.488281 -4.40625 -5.5625 -4.40625 C -5.632812 -4.40625 -5.6875 -4.40625 -5.71875 -4.40625 L -7.96875 -4.40625 L -7.96875 -5.375 L -1.203125 -5.375 C -1.054688 -5.375 -0.921875 -5.375 -0.796875 -5.375 C -0.671875 -5.375 -0.550781 -5.375 -0.4375 -5.375 C -0.332031 -5.382812 -0.238281 -5.390625 -0.15625 -5.390625 C -0.0820312 -5.398438 -0.03125 -5.40625 0 -5.40625 L 0 -4.484375 C -0.03125 -4.472656 -0.078125 -4.460938 -0.140625 -4.453125 C -0.210938 -4.453125 -0.289062 -4.445312 -0.375 -4.4375 C -0.46875 -4.4375 -0.5625 -4.4375 -0.65625 -4.4375 C -0.75 -4.4375 -0.84375 -4.4375 -0.9375 -4.4375 Z M -2.90625 -1.484375 C -2.507812 -1.484375 -2.164062 -1.503906 -1.875 -1.546875 C -1.59375 -1.597656 -1.359375 -1.675781 -1.171875 -1.78125 C -0.984375 -1.894531 -0.847656 -2.035156 -0.765625 -2.203125 C -0.679688 -2.378906 -0.640625 -2.59375 -0.640625 -2.84375 C -0.640625 -3.101562 -0.679688 -3.328125 -0.765625 -3.515625 C -0.847656 -3.710938 -0.976562 -3.875 -1.15625 -4 C -1.34375 -4.132812 -1.582031 -4.234375 -1.875 -4.296875 C -2.175781 -4.367188 -2.539062 -4.40625 -2.96875 -4.40625 C -3.382812 -4.40625 -3.734375 -4.367188 -4.015625 -4.296875 C -4.304688 -4.234375 -4.535156 -4.132812 -4.703125 -4 C -4.878906 -3.875 -5.003906 -3.710938 -5.078125 -3.515625 C -5.160156 -3.328125 -5.203125 -3.109375 -5.203125 -2.859375 C -5.203125 -2.617188 -5.160156 -2.410156 -5.078125 -2.234375 C -4.992188 -2.066406 -4.859375 -1.925781 -4.671875 -1.8125 C -4.492188 -1.695312 -4.257812 -1.613281 -3.96875 -1.5625 C -3.675781 -1.507812 -3.320312 -1.484375 -2.90625 -1.484375 Z M -2.90625 -1.484375 \"/>\n",
       "</symbol>\n",
       "<symbol overflow=\"visible\" id=\"glyph2-9\">\n",
       "<path style=\"stroke:none;\" d=\"\"/>\n",
       "</symbol>\n",
       "<symbol overflow=\"visible\" id=\"glyph2-10\">\n",
       "<path style=\"stroke:none;\" d=\"M 0 -6.265625 L -2.21875 -5.40625 L -2.21875 -1.953125 L 0 -1.078125 L 0 -0.015625 L -7.5625 -3.109375 L -7.5625 -4.28125 L 0 -7.3125 Z M -5.515625 -4.125 C -5.648438 -4.070312 -5.789062 -4.019531 -5.9375 -3.96875 C -6.09375 -3.914062 -6.226562 -3.867188 -6.34375 -3.828125 C -6.46875 -3.785156 -6.566406 -3.75 -6.640625 -3.71875 C -6.722656 -3.695312 -6.773438 -3.679688 -6.796875 -3.671875 C -6.773438 -3.671875 -6.722656 -3.65625 -6.640625 -3.625 C -6.554688 -3.601562 -6.453125 -3.570312 -6.328125 -3.53125 C -6.210938 -3.488281 -6.082031 -3.441406 -5.9375 -3.390625 C -5.789062 -3.335938 -5.644531 -3.285156 -5.5 -3.234375 L -3.015625 -2.265625 L -3.015625 -5.09375 Z M -5.515625 -4.125 \"/>\n",
       "</symbol>\n",
       "<symbol overflow=\"visible\" id=\"glyph2-11\">\n",
       "<path style=\"stroke:none;\" d=\"M -2.9375 -1.484375 C -2.601562 -1.484375 -2.296875 -1.503906 -2.015625 -1.546875 C -1.734375 -1.597656 -1.488281 -1.679688 -1.28125 -1.796875 C -1.082031 -1.910156 -0.925781 -2.0625 -0.8125 -2.25 C -0.707031 -2.4375 -0.65625 -2.664062 -0.65625 -2.9375 C -0.65625 -3.28125 -0.75 -3.566406 -0.9375 -3.796875 C -1.125 -4.035156 -1.410156 -4.179688 -1.796875 -4.234375 L -1.734375 -5.203125 C -1.492188 -5.171875 -1.257812 -5.101562 -1.03125 -5 C -0.8125 -4.894531 -0.617188 -4.75 -0.453125 -4.5625 C -0.285156 -4.375 -0.148438 -4.144531 -0.046875 -3.875 C 0.0546875 -3.613281 0.109375 -3.3125 0.109375 -2.96875 C 0.109375 -2.507812 0.03125 -2.117188 -0.125 -1.796875 C -0.28125 -1.484375 -0.492188 -1.226562 -0.765625 -1.03125 C -1.035156 -0.832031 -1.351562 -0.6875 -1.71875 -0.59375 C -2.082031 -0.507812 -2.476562 -0.46875 -2.90625 -0.46875 C -3.300781 -0.46875 -3.644531 -0.5 -3.9375 -0.5625 C -4.238281 -0.625 -4.5 -0.710938 -4.71875 -0.828125 C -4.945312 -0.953125 -5.132812 -1.09375 -5.28125 -1.25 C -5.4375 -1.40625 -5.5625 -1.570312 -5.65625 -1.75 C -5.75 -1.9375 -5.816406 -2.128906 -5.859375 -2.328125 C -5.898438 -2.535156 -5.921875 -2.742188 -5.921875 -2.953125 C -5.921875 -3.285156 -5.875 -3.578125 -5.78125 -3.828125 C -5.695312 -4.085938 -5.578125 -4.304688 -5.421875 -4.484375 C -5.265625 -4.671875 -5.078125 -4.820312 -4.859375 -4.9375 C -4.648438 -5.050781 -4.425781 -5.128906 -4.1875 -5.171875 L -4.109375 -4.1875 C -4.429688 -4.132812 -4.6875 -4.003906 -4.875 -3.796875 C -5.0625 -3.597656 -5.15625 -3.3125 -5.15625 -2.9375 C -5.15625 -2.65625 -5.109375 -2.421875 -5.015625 -2.234375 C -4.929688 -2.054688 -4.796875 -1.910156 -4.609375 -1.796875 C -4.421875 -1.679688 -4.1875 -1.597656 -3.90625 -1.546875 C -3.632812 -1.503906 -3.3125 -1.484375 -2.9375 -1.484375 Z M -2.9375 -1.484375 \"/>\n",
       "</symbol>\n",
       "<symbol overflow=\"visible\" id=\"glyph2-12\">\n",
       "<path style=\"stroke:none;\" d=\"M -5.8125 -1.6875 L -2.125 -1.6875 C -1.84375 -1.6875 -1.609375 -1.707031 -1.421875 -1.75 C -1.234375 -1.789062 -1.078125 -1.859375 -0.953125 -1.953125 C -0.835938 -2.046875 -0.753906 -2.164062 -0.703125 -2.3125 C -0.660156 -2.46875 -0.640625 -2.660156 -0.640625 -2.890625 C -0.640625 -3.117188 -0.675781 -3.320312 -0.75 -3.5 C -0.832031 -3.6875 -0.953125 -3.84375 -1.109375 -3.96875 C -1.265625 -4.101562 -1.453125 -4.207031 -1.671875 -4.28125 C -1.898438 -4.351562 -2.15625 -4.390625 -2.4375 -4.390625 L -5.8125 -4.390625 L -5.8125 -5.359375 L -1.234375 -5.359375 C -1.117188 -5.359375 -0.992188 -5.359375 -0.859375 -5.359375 C -0.722656 -5.359375 -0.59375 -5.359375 -0.46875 -5.359375 C -0.351562 -5.367188 -0.25 -5.375 -0.15625 -5.375 C -0.0703125 -5.375 -0.0195312 -5.378906 0 -5.390625 L 0 -4.46875 C -0.0195312 -4.46875 -0.0664062 -4.460938 -0.140625 -4.453125 C -0.222656 -4.453125 -0.3125 -4.445312 -0.40625 -4.4375 C -0.507812 -4.4375 -0.613281 -4.4375 -0.71875 -4.4375 C -0.832031 -4.4375 -0.925781 -4.4375 -1 -4.4375 L -1 -4.421875 C -0.820312 -4.328125 -0.664062 -4.222656 -0.53125 -4.109375 C -0.394531 -3.992188 -0.28125 -3.863281 -0.1875 -3.71875 C -0.09375 -3.570312 -0.0195312 -3.40625 0.03125 -3.21875 C 0.0820312 -3.03125 0.109375 -2.8125 0.109375 -2.5625 C 0.109375 -2.238281 0.0703125 -1.957031 0 -1.71875 C -0.0820312 -1.488281 -0.207031 -1.296875 -0.375 -1.140625 C -0.539062 -0.992188 -0.75 -0.882812 -1 -0.8125 C -1.257812 -0.75 -1.570312 -0.71875 -1.9375 -0.71875 L -5.8125 -0.71875 Z M -5.8125 -1.6875 \"/>\n",
       "</symbol>\n",
       "<symbol overflow=\"visible\" id=\"glyph2-13\">\n",
       "<path style=\"stroke:none;\" d=\"M 0 -0.765625 L -4.453125 -0.765625 C -4.578125 -0.765625 -4.703125 -0.757812 -4.828125 -0.75 C -4.953125 -0.75 -5.070312 -0.75 -5.1875 -0.75 C -5.3125 -0.75 -5.425781 -0.742188 -5.53125 -0.734375 C -5.632812 -0.734375 -5.726562 -0.734375 -5.8125 -0.734375 L -5.8125 -1.640625 C -5.726562 -1.648438 -5.632812 -1.65625 -5.53125 -1.65625 C -5.425781 -1.664062 -5.316406 -1.671875 -5.203125 -1.671875 C -5.085938 -1.679688 -4.976562 -1.6875 -4.875 -1.6875 C -4.78125 -1.6875 -4.695312 -1.6875 -4.625 -1.6875 L -4.625 -1.703125 C -4.84375 -1.773438 -5.035156 -1.847656 -5.203125 -1.921875 C -5.367188 -2.003906 -5.503906 -2.097656 -5.609375 -2.203125 C -5.710938 -2.304688 -5.789062 -2.425781 -5.84375 -2.5625 C -5.894531 -2.707031 -5.921875 -2.882812 -5.921875 -3.09375 C -5.921875 -3.164062 -5.910156 -3.238281 -5.890625 -3.3125 C -5.878906 -3.382812 -5.867188 -3.441406 -5.859375 -3.484375 L -4.984375 -3.484375 C -4.992188 -3.421875 -5.003906 -3.34375 -5.015625 -3.25 C -5.023438 -3.164062 -5.03125 -3.070312 -5.03125 -2.96875 C -5.03125 -2.738281 -4.976562 -2.546875 -4.875 -2.390625 C -4.78125 -2.242188 -4.644531 -2.117188 -4.46875 -2.015625 C -4.289062 -1.921875 -4.078125 -1.847656 -3.828125 -1.796875 C -3.585938 -1.753906 -3.320312 -1.734375 -3.03125 -1.734375 L 0 -1.734375 Z M 0 -0.765625 \"/>\n",
       "</symbol>\n",
       "<symbol overflow=\"visible\" id=\"glyph2-14\">\n",
       "<path style=\"stroke:none;\" d=\"M 0 -3.25 C 0.351562 -3.113281 0.671875 -2.972656 0.953125 -2.828125 C 1.234375 -2.679688 1.472656 -2.519531 1.671875 -2.34375 C 1.867188 -2.175781 2.019531 -1.984375 2.125 -1.765625 C 2.226562 -1.546875 2.28125 -1.300781 2.28125 -1.03125 C 2.28125 -0.90625 2.273438 -0.789062 2.265625 -0.6875 C 2.265625 -0.582031 2.25 -0.472656 2.21875 -0.359375 L 1.5 -0.359375 C 1.507812 -0.429688 1.515625 -0.507812 1.515625 -0.59375 C 1.523438 -0.675781 1.53125 -0.75 1.53125 -0.8125 C 1.53125 -1.09375 1.421875 -1.351562 1.203125 -1.59375 C 0.992188 -1.84375 0.660156 -2.054688 0.203125 -2.234375 L -0.03125 -2.328125 L -5.8125 -0.03125 L -5.8125 -1.0625 L -2.59375 -2.28125 C -2.5 -2.320312 -2.367188 -2.367188 -2.203125 -2.421875 C -2.046875 -2.472656 -1.882812 -2.523438 -1.71875 -2.578125 C -1.5625 -2.640625 -1.414062 -2.691406 -1.28125 -2.734375 C -1.15625 -2.773438 -1.078125 -2.800781 -1.046875 -2.8125 C -1.085938 -2.820312 -1.164062 -2.847656 -1.28125 -2.890625 C -1.40625 -2.929688 -1.535156 -2.976562 -1.671875 -3.03125 C -1.816406 -3.082031 -1.960938 -3.132812 -2.109375 -3.1875 C -2.253906 -3.238281 -2.382812 -3.28125 -2.5 -3.3125 L -5.8125 -4.453125 L -5.8125 -5.484375 Z M 0 -3.25 \"/>\n",
       "</symbol>\n",
       "<symbol overflow=\"visible\" id=\"glyph3-0\">\n",
       "<path style=\"stroke:none;\" d=\"M 0.4375 0 L 0.4375 -8.796875 L 3.953125 -8.796875 L 3.953125 0 Z M 0.875 -0.4375 L 3.5 -0.4375 L 3.5 -8.359375 L 0.875 -8.359375 Z M 0.875 -0.4375 \"/>\n",
       "</symbol>\n",
       "<symbol overflow=\"visible\" id=\"glyph3-1\">\n",
       "<path style=\"stroke:none;\" d=\"M 2.3125 -8.078125 L 2.3125 -4.703125 L 7.375 -4.703125 L 7.375 -3.6875 L 2.3125 -3.6875 L 2.3125 0 L 1.078125 0 L 1.078125 -9.078125 L 7.53125 -9.078125 L 7.53125 -8.078125 Z M 2.3125 -8.078125 \"/>\n",
       "</symbol>\n",
       "<symbol overflow=\"visible\" id=\"glyph3-2\">\n",
       "<path style=\"stroke:none;\" d=\"M 6.78125 -3.5 C 6.78125 -2.269531 6.507812 -1.359375 5.96875 -0.765625 C 5.4375 -0.171875 4.660156 0.125 3.640625 0.125 C 3.148438 0.125 2.710938 0.0507812 2.328125 -0.09375 C 1.953125 -0.238281 1.628906 -0.460938 1.359375 -0.765625 C 1.097656 -1.066406 0.894531 -1.441406 0.75 -1.890625 C 0.613281 -2.347656 0.546875 -2.882812 0.546875 -3.5 C 0.546875 -5.90625 1.59375 -7.109375 3.6875 -7.109375 C 4.226562 -7.109375 4.691406 -7.03125 5.078125 -6.875 C 5.472656 -6.726562 5.796875 -6.503906 6.046875 -6.203125 C 6.296875 -5.898438 6.476562 -5.519531 6.59375 -5.0625 C 6.71875 -4.613281 6.78125 -4.09375 6.78125 -3.5 Z M 5.5625 -3.5 C 5.5625 -4.039062 5.519531 -4.484375 5.4375 -4.828125 C 5.351562 -5.179688 5.226562 -5.460938 5.0625 -5.671875 C 4.90625 -5.890625 4.710938 -6.039062 4.484375 -6.125 C 4.253906 -6.207031 3.992188 -6.25 3.703125 -6.25 C 3.398438 -6.25 3.128906 -6.203125 2.890625 -6.109375 C 2.660156 -6.023438 2.457031 -5.875 2.28125 -5.65625 C 2.113281 -5.445312 1.984375 -5.164062 1.890625 -4.8125 C 1.804688 -4.457031 1.765625 -4.019531 1.765625 -3.5 C 1.765625 -2.957031 1.8125 -2.507812 1.90625 -2.15625 C 2.007812 -1.800781 2.140625 -1.515625 2.296875 -1.296875 C 2.460938 -1.085938 2.660156 -0.941406 2.890625 -0.859375 C 3.117188 -0.773438 3.363281 -0.734375 3.625 -0.734375 C 3.925781 -0.734375 4.195312 -0.773438 4.4375 -0.859375 C 4.675781 -0.941406 4.878906 -1.085938 5.046875 -1.296875 C 5.210938 -1.503906 5.335938 -1.785156 5.421875 -2.140625 C 5.515625 -2.503906 5.5625 -2.957031 5.5625 -3.5 Z M 5.5625 -3.5 \"/>\n",
       "</symbol>\n",
       "<symbol overflow=\"visible\" id=\"glyph3-3\">\n",
       "<path style=\"stroke:none;\" d=\"M 0.921875 0 L 0.921875 -5.34375 C 0.921875 -5.488281 0.914062 -5.640625 0.90625 -5.796875 C 0.90625 -5.953125 0.898438 -6.097656 0.890625 -6.234375 C 0.890625 -6.378906 0.890625 -6.515625 0.890625 -6.640625 C 0.890625 -6.765625 0.882812 -6.875 0.875 -6.96875 L 1.96875 -6.96875 C 1.976562 -6.875 1.984375 -6.765625 1.984375 -6.640625 C 1.992188 -6.515625 2 -6.382812 2 -6.25 C 2.007812 -6.113281 2.015625 -5.984375 2.015625 -5.859375 C 2.023438 -5.734375 2.03125 -5.628906 2.03125 -5.546875 L 2.046875 -5.546875 C 2.128906 -5.816406 2.21875 -6.046875 2.3125 -6.234375 C 2.40625 -6.429688 2.515625 -6.59375 2.640625 -6.71875 C 2.765625 -6.851562 2.910156 -6.953125 3.078125 -7.015625 C 3.253906 -7.078125 3.460938 -7.109375 3.703125 -7.109375 C 3.796875 -7.109375 3.882812 -7.097656 3.96875 -7.078125 C 4.0625 -7.066406 4.128906 -7.054688 4.171875 -7.046875 L 4.171875 -5.96875 C 4.097656 -6 4.007812 -6.019531 3.90625 -6.03125 C 3.800781 -6.039062 3.6875 -6.046875 3.5625 -6.046875 C 3.289062 -6.046875 3.0625 -5.984375 2.875 -5.859375 C 2.6875 -5.734375 2.535156 -5.566406 2.421875 -5.359375 C 2.304688 -5.148438 2.21875 -4.894531 2.15625 -4.59375 C 2.101562 -4.300781 2.078125 -3.984375 2.078125 -3.640625 L 2.078125 0 Z M 0.921875 0 \"/>\n",
       "</symbol>\n",
       "<symbol overflow=\"visible\" id=\"glyph3-4\">\n",
       "<path style=\"stroke:none;\" d=\"M 7.5625 0 L 6.21875 0 L 5.109375 -4.5 C 5.066406 -4.613281 5.023438 -4.753906 4.984375 -4.921875 C 4.953125 -5.097656 4.921875 -5.269531 4.890625 -5.4375 C 4.847656 -5.625 4.804688 -5.816406 4.765625 -6.015625 C 4.734375 -5.828125 4.691406 -5.640625 4.640625 -5.453125 C 4.609375 -5.285156 4.570312 -5.113281 4.53125 -4.9375 C 4.488281 -4.757812 4.453125 -4.601562 4.421875 -4.46875 L 3.28125 0 L 1.9375 0 L -0.015625 -6.96875 L 1.125 -6.96875 L 2.3125 -2.234375 C 2.34375 -2.140625 2.367188 -2.019531 2.390625 -1.875 C 2.421875 -1.726562 2.453125 -1.585938 2.484375 -1.453125 C 2.515625 -1.296875 2.546875 -1.128906 2.578125 -0.953125 C 2.617188 -1.117188 2.65625 -1.28125 2.6875 -1.4375 C 2.726562 -1.570312 2.765625 -1.707031 2.796875 -1.84375 C 2.828125 -1.976562 2.859375 -2.09375 2.890625 -2.1875 L 4.15625 -6.96875 L 5.390625 -6.96875 L 6.609375 -2.1875 C 6.640625 -2.070312 6.671875 -1.941406 6.703125 -1.796875 C 6.742188 -1.660156 6.78125 -1.53125 6.8125 -1.40625 C 6.84375 -1.257812 6.875 -1.109375 6.90625 -0.953125 C 6.945312 -1.117188 6.984375 -1.28125 7.015625 -1.4375 C 7.046875 -1.570312 7.078125 -1.707031 7.109375 -1.84375 C 7.140625 -1.988281 7.171875 -2.117188 7.203125 -2.234375 L 8.4375 -6.96875 L 9.5625 -6.96875 Z M 7.5625 0 \"/>\n",
       "</symbol>\n",
       "<symbol overflow=\"visible\" id=\"glyph3-5\">\n",
       "<path style=\"stroke:none;\" d=\"M 2.671875 0.125 C 1.972656 0.125 1.445312 -0.0546875 1.09375 -0.421875 C 0.738281 -0.796875 0.5625 -1.304688 0.5625 -1.953125 C 0.5625 -2.410156 0.644531 -2.785156 0.8125 -3.078125 C 0.988281 -3.367188 1.21875 -3.597656 1.5 -3.765625 C 1.78125 -3.929688 2.101562 -4.046875 2.46875 -4.109375 C 2.832031 -4.179688 3.203125 -4.222656 3.578125 -4.234375 L 5.140625 -4.25 L 5.140625 -4.640625 C 5.140625 -4.921875 5.109375 -5.160156 5.046875 -5.359375 C 4.984375 -5.566406 4.890625 -5.734375 4.765625 -5.859375 C 4.640625 -5.984375 4.484375 -6.070312 4.296875 -6.125 C 4.109375 -6.1875 3.890625 -6.21875 3.640625 -6.21875 C 3.421875 -6.21875 3.21875 -6.203125 3.03125 -6.171875 C 2.851562 -6.140625 2.695312 -6.082031 2.5625 -6 C 2.425781 -5.914062 2.316406 -5.800781 2.234375 -5.65625 C 2.160156 -5.507812 2.109375 -5.328125 2.078125 -5.109375 L 0.875 -5.21875 C 0.914062 -5.5 0.992188 -5.753906 1.109375 -5.984375 C 1.234375 -6.210938 1.40625 -6.410156 1.625 -6.578125 C 1.84375 -6.742188 2.117188 -6.875 2.453125 -6.96875 C 2.785156 -7.0625 3.191406 -7.109375 3.671875 -7.109375 C 4.546875 -7.109375 5.203125 -6.90625 5.640625 -6.5 C 6.085938 -6.101562 6.3125 -5.519531 6.3125 -4.75 L 6.3125 -1.75 C 6.3125 -1.40625 6.351562 -1.144531 6.4375 -0.96875 C 6.53125 -0.800781 6.707031 -0.71875 6.96875 -0.71875 C 7.03125 -0.71875 7.09375 -0.71875 7.15625 -0.71875 C 7.21875 -0.726562 7.28125 -0.742188 7.34375 -0.765625 L 7.34375 -0.03125 C 7.195312 0 7.050781 0.0195312 6.90625 0.03125 C 6.757812 0.0507812 6.609375 0.0625 6.453125 0.0625 C 6.234375 0.0625 6.039062 0.0351562 5.875 -0.015625 C 5.71875 -0.078125 5.585938 -0.164062 5.484375 -0.28125 C 5.390625 -0.40625 5.316406 -0.550781 5.265625 -0.71875 C 5.222656 -0.894531 5.191406 -1.097656 5.171875 -1.328125 L 5.140625 -1.328125 C 5.015625 -1.109375 4.875 -0.90625 4.71875 -0.71875 C 4.570312 -0.539062 4.398438 -0.390625 4.203125 -0.265625 C 4.003906 -0.140625 3.78125 -0.046875 3.53125 0.015625 C 3.28125 0.0859375 2.992188 0.125 2.671875 0.125 Z M 2.9375 -0.734375 C 3.300781 -0.734375 3.617188 -0.800781 3.890625 -0.9375 C 4.171875 -1.070312 4.40625 -1.242188 4.59375 -1.453125 C 4.78125 -1.671875 4.914062 -1.90625 5 -2.15625 C 5.09375 -2.40625 5.140625 -2.644531 5.140625 -2.875 L 5.140625 -3.4375 L 3.875 -3.421875 C 3.582031 -3.410156 3.304688 -3.382812 3.046875 -3.34375 C 2.796875 -3.3125 2.570312 -3.242188 2.375 -3.140625 C 2.1875 -3.035156 2.035156 -2.882812 1.921875 -2.6875 C 1.804688 -2.488281 1.75 -2.234375 1.75 -1.921875 C 1.75 -1.546875 1.847656 -1.253906 2.046875 -1.046875 C 2.253906 -0.835938 2.550781 -0.734375 2.9375 -0.734375 Z M 2.9375 -0.734375 \"/>\n",
       "</symbol>\n",
       "<symbol overflow=\"visible\" id=\"glyph3-6\">\n",
       "<path style=\"stroke:none;\" d=\"M 5.296875 -1.125 C 5.078125 -0.675781 4.789062 -0.351562 4.4375 -0.15625 C 4.082031 0.03125 3.644531 0.125 3.125 0.125 C 2.238281 0.125 1.585938 -0.171875 1.171875 -0.765625 C 0.753906 -1.359375 0.546875 -2.253906 0.546875 -3.453125 C 0.546875 -5.890625 1.40625 -7.109375 3.125 -7.109375 C 3.644531 -7.109375 4.082031 -7.007812 4.4375 -6.8125 C 4.789062 -6.625 5.078125 -6.316406 5.296875 -5.890625 L 5.3125 -5.890625 C 5.3125 -5.929688 5.304688 -6 5.296875 -6.09375 C 5.296875 -6.1875 5.296875 -6.28125 5.296875 -6.375 C 5.296875 -6.476562 5.296875 -6.578125 5.296875 -6.671875 C 5.296875 -6.765625 5.296875 -6.828125 5.296875 -6.859375 L 5.296875 -9.5625 L 6.453125 -9.5625 L 6.453125 -1.4375 C 6.453125 -1.269531 6.453125 -1.109375 6.453125 -0.953125 C 6.453125 -0.796875 6.453125 -0.648438 6.453125 -0.515625 C 6.460938 -0.390625 6.46875 -0.28125 6.46875 -0.1875 C 6.476562 -0.101562 6.484375 -0.0390625 6.484375 0 L 5.390625 0 C 5.378906 -0.0390625 5.367188 -0.0976562 5.359375 -0.171875 C 5.347656 -0.253906 5.335938 -0.347656 5.328125 -0.453125 C 5.328125 -0.554688 5.320312 -0.664062 5.3125 -0.78125 C 5.3125 -0.894531 5.3125 -1.007812 5.3125 -1.125 Z M 1.765625 -3.5 C 1.765625 -3.007812 1.796875 -2.59375 1.859375 -2.25 C 1.921875 -1.90625 2.019531 -1.625 2.15625 -1.40625 C 2.289062 -1.1875 2.457031 -1.023438 2.65625 -0.921875 C 2.863281 -0.816406 3.117188 -0.765625 3.421875 -0.765625 C 3.722656 -0.765625 3.988281 -0.8125 4.21875 -0.90625 C 4.457031 -1.007812 4.65625 -1.171875 4.8125 -1.390625 C 4.96875 -1.617188 5.085938 -1.910156 5.171875 -2.265625 C 5.253906 -2.617188 5.296875 -3.054688 5.296875 -3.578125 C 5.296875 -4.066406 5.253906 -4.484375 5.171875 -4.828125 C 5.085938 -5.171875 4.96875 -5.445312 4.8125 -5.65625 C 4.65625 -5.863281 4.457031 -6.015625 4.21875 -6.109375 C 3.988281 -6.203125 3.726562 -6.25 3.4375 -6.25 C 3.144531 -6.25 2.894531 -6.195312 2.6875 -6.09375 C 2.488281 -6 2.316406 -5.84375 2.171875 -5.625 C 2.035156 -5.40625 1.929688 -5.117188 1.859375 -4.765625 C 1.796875 -4.410156 1.765625 -3.988281 1.765625 -3.5 Z M 1.765625 -3.5 \"/>\n",
       "</symbol>\n",
       "<symbol overflow=\"visible\" id=\"glyph3-7\">\n",
       "<path style=\"stroke:none;\" d=\"\"/>\n",
       "</symbol>\n",
       "<symbol overflow=\"visible\" id=\"glyph3-8\">\n",
       "<path style=\"stroke:none;\" d=\"M 8.203125 -2.515625 C 8.203125 -2.128906 8.125 -1.773438 7.96875 -1.453125 C 7.820312 -1.128906 7.59375 -0.847656 7.28125 -0.609375 C 6.976562 -0.378906 6.59375 -0.195312 6.125 -0.0625 C 5.65625 0.0625 5.097656 0.125 4.453125 0.125 C 3.316406 0.125 2.429688 -0.0703125 1.796875 -0.46875 C 1.171875 -0.863281 0.769531 -1.429688 0.59375 -2.171875 L 1.796875 -2.421875 C 1.847656 -2.179688 1.9375 -1.960938 2.0625 -1.765625 C 2.1875 -1.578125 2.351562 -1.410156 2.5625 -1.265625 C 2.78125 -1.128906 3.046875 -1.019531 3.359375 -0.9375 C 3.671875 -0.863281 4.050781 -0.828125 4.5 -0.828125 C 4.863281 -0.828125 5.195312 -0.859375 5.5 -0.921875 C 5.800781 -0.984375 6.0625 -1.078125 6.28125 -1.203125 C 6.5 -1.335938 6.671875 -1.503906 6.796875 -1.703125 C 6.921875 -1.910156 6.984375 -2.15625 6.984375 -2.4375 C 6.984375 -2.738281 6.914062 -2.976562 6.78125 -3.15625 C 6.644531 -3.34375 6.453125 -3.492188 6.203125 -3.609375 C 5.960938 -3.734375 5.671875 -3.835938 5.328125 -3.921875 C 4.992188 -4.003906 4.617188 -4.09375 4.203125 -4.1875 C 3.953125 -4.25 3.695312 -4.3125 3.4375 -4.375 C 3.1875 -4.4375 2.941406 -4.515625 2.703125 -4.609375 C 2.472656 -4.703125 2.253906 -4.8125 2.046875 -4.9375 C 1.835938 -5.0625 1.65625 -5.207031 1.5 -5.375 C 1.351562 -5.550781 1.238281 -5.753906 1.15625 -5.984375 C 1.070312 -6.222656 1.03125 -6.488281 1.03125 -6.78125 C 1.03125 -7.21875 1.113281 -7.585938 1.28125 -7.890625 C 1.457031 -8.203125 1.695312 -8.457031 2 -8.65625 C 2.3125 -8.851562 2.675781 -8.992188 3.09375 -9.078125 C 3.519531 -9.171875 3.976562 -9.21875 4.46875 -9.21875 C 5.03125 -9.21875 5.507812 -9.171875 5.90625 -9.078125 C 6.3125 -8.992188 6.648438 -8.863281 6.921875 -8.6875 C 7.203125 -8.507812 7.425781 -8.289062 7.59375 -8.03125 C 7.757812 -7.769531 7.890625 -7.46875 7.984375 -7.125 L 6.78125 -6.921875 C 6.71875 -7.140625 6.628906 -7.332031 6.515625 -7.5 C 6.398438 -7.675781 6.25 -7.820312 6.0625 -7.9375 C 5.882812 -8.050781 5.660156 -8.140625 5.390625 -8.203125 C 5.128906 -8.265625 4.820312 -8.296875 4.46875 -8.296875 C 4.039062 -8.296875 3.679688 -8.253906 3.390625 -8.171875 C 3.109375 -8.097656 2.878906 -7.992188 2.703125 -7.859375 C 2.535156 -7.734375 2.410156 -7.582031 2.328125 -7.40625 C 2.253906 -7.238281 2.21875 -7.054688 2.21875 -6.859375 C 2.21875 -6.585938 2.285156 -6.363281 2.421875 -6.1875 C 2.554688 -6.007812 2.738281 -5.863281 2.96875 -5.75 C 3.207031 -5.632812 3.476562 -5.535156 3.78125 -5.453125 C 4.082031 -5.378906 4.40625 -5.304688 4.75 -5.234375 C 5.03125 -5.160156 5.3125 -5.09375 5.59375 -5.03125 C 5.875 -4.96875 6.140625 -4.890625 6.390625 -4.796875 C 6.640625 -4.703125 6.875 -4.59375 7.09375 -4.46875 C 7.320312 -4.34375 7.515625 -4.1875 7.671875 -4 C 7.835938 -3.820312 7.96875 -3.609375 8.0625 -3.359375 C 8.15625 -3.117188 8.203125 -2.835938 8.203125 -2.515625 Z M 8.203125 -2.515625 \"/>\n",
       "</symbol>\n",
       "<symbol overflow=\"visible\" id=\"glyph3-9\">\n",
       "<path style=\"stroke:none;\" d=\"M 1.78125 -3.25 C 1.78125 -2.875 1.816406 -2.53125 1.890625 -2.21875 C 1.960938 -1.914062 2.078125 -1.65625 2.234375 -1.4375 C 2.390625 -1.21875 2.585938 -1.046875 2.828125 -0.921875 C 3.078125 -0.796875 3.375 -0.734375 3.71875 -0.734375 C 4.226562 -0.734375 4.632812 -0.832031 4.9375 -1.03125 C 5.238281 -1.238281 5.441406 -1.5 5.546875 -1.8125 L 6.5625 -1.515625 C 6.488281 -1.328125 6.382812 -1.132812 6.25 -0.9375 C 6.125 -0.738281 5.953125 -0.5625 5.734375 -0.40625 C 5.515625 -0.25 5.238281 -0.117188 4.90625 -0.015625 C 4.582031 0.078125 4.1875 0.125 3.71875 0.125 C 2.6875 0.125 1.898438 -0.179688 1.359375 -0.796875 C 0.828125 -1.410156 0.5625 -2.320312 0.5625 -3.53125 C 0.5625 -4.1875 0.640625 -4.738281 0.796875 -5.1875 C 0.960938 -5.644531 1.1875 -6.015625 1.46875 -6.296875 C 1.757812 -6.578125 2.09375 -6.78125 2.46875 -6.90625 C 2.84375 -7.039062 3.25 -7.109375 3.6875 -7.109375 C 4.269531 -7.109375 4.753906 -7.007812 5.140625 -6.8125 C 5.535156 -6.625 5.851562 -6.363281 6.09375 -6.03125 C 6.332031 -5.695312 6.5 -5.304688 6.59375 -4.859375 C 6.695312 -4.410156 6.75 -3.921875 6.75 -3.390625 L 6.75 -3.25 Z M 5.5625 -4.125 C 5.488281 -4.863281 5.296875 -5.398438 4.984375 -5.734375 C 4.679688 -6.078125 4.238281 -6.25 3.65625 -6.25 C 3.46875 -6.25 3.265625 -6.21875 3.046875 -6.15625 C 2.835938 -6.09375 2.640625 -5.976562 2.453125 -5.8125 C 2.273438 -5.65625 2.125 -5.441406 2 -5.171875 C 1.875 -4.898438 1.804688 -4.550781 1.796875 -4.125 Z M 5.5625 -4.125 \"/>\n",
       "</symbol>\n",
       "<symbol overflow=\"visible\" id=\"glyph3-10\">\n",
       "<path style=\"stroke:none;\" d=\"M 0.890625 0 L 0.890625 -9.5625 L 2.046875 -9.5625 L 2.046875 0 Z M 0.890625 0 \"/>\n",
       "</symbol>\n",
       "<symbol overflow=\"visible\" id=\"glyph3-11\">\n",
       "<path style=\"stroke:none;\" d=\"M 1.765625 -3.515625 C 1.765625 -3.117188 1.796875 -2.753906 1.859375 -2.421875 C 1.921875 -2.085938 2.019531 -1.796875 2.15625 -1.546875 C 2.289062 -1.304688 2.46875 -1.117188 2.6875 -0.984375 C 2.914062 -0.847656 3.195312 -0.78125 3.53125 -0.78125 C 3.945312 -0.78125 4.289062 -0.890625 4.5625 -1.109375 C 4.84375 -1.335938 5.015625 -1.6875 5.078125 -2.15625 L 6.25 -2.078125 C 6.21875 -1.785156 6.132812 -1.503906 6 -1.234375 C 5.875 -0.972656 5.695312 -0.738281 5.46875 -0.53125 C 5.25 -0.332031 4.976562 -0.171875 4.65625 -0.046875 C 4.34375 0.0664062 3.976562 0.125 3.5625 0.125 C 3.019531 0.125 2.554688 0.0351562 2.171875 -0.140625 C 1.785156 -0.328125 1.472656 -0.582031 1.234375 -0.90625 C 1.003906 -1.238281 0.832031 -1.625 0.71875 -2.0625 C 0.613281 -2.5 0.5625 -2.976562 0.5625 -3.5 C 0.5625 -3.96875 0.597656 -4.378906 0.671875 -4.734375 C 0.753906 -5.097656 0.863281 -5.410156 1 -5.671875 C 1.144531 -5.941406 1.3125 -6.164062 1.5 -6.34375 C 1.6875 -6.53125 1.890625 -6.675781 2.109375 -6.78125 C 2.328125 -6.894531 2.554688 -6.976562 2.796875 -7.03125 C 3.046875 -7.082031 3.296875 -7.109375 3.546875 -7.109375 C 3.941406 -7.109375 4.289062 -7.050781 4.59375 -6.9375 C 4.894531 -6.832031 5.15625 -6.6875 5.375 -6.5 C 5.601562 -6.3125 5.785156 -6.085938 5.921875 -5.828125 C 6.054688 -5.578125 6.15625 -5.304688 6.21875 -5.015625 L 5.015625 -4.9375 C 4.960938 -5.320312 4.8125 -5.628906 4.5625 -5.859375 C 4.320312 -6.085938 3.972656 -6.203125 3.515625 -6.203125 C 3.191406 -6.203125 2.914062 -6.144531 2.6875 -6.03125 C 2.46875 -5.914062 2.289062 -5.75 2.15625 -5.53125 C 2.019531 -5.3125 1.921875 -5.035156 1.859375 -4.703125 C 1.796875 -4.367188 1.765625 -3.972656 1.765625 -3.515625 Z M 1.765625 -3.515625 \"/>\n",
       "</symbol>\n",
       "<symbol overflow=\"visible\" id=\"glyph3-12\">\n",
       "<path style=\"stroke:none;\" d=\"M 3.578125 -0.046875 C 3.398438 -0.00390625 3.21875 0.03125 3.03125 0.0625 C 2.851562 0.09375 2.640625 0.109375 2.390625 0.109375 C 1.460938 0.109375 1 -0.414062 1 -1.46875 L 1 -6.125 L 0.203125 -6.125 L 0.203125 -6.96875 L 1.046875 -6.96875 L 1.390625 -8.53125 L 2.171875 -8.53125 L 2.171875 -6.96875 L 3.453125 -6.96875 L 3.453125 -6.125 L 2.171875 -6.125 L 2.171875 -1.734375 C 2.171875 -1.390625 2.222656 -1.148438 2.328125 -1.015625 C 2.441406 -0.878906 2.632812 -0.8125 2.90625 -0.8125 C 3.007812 -0.8125 3.113281 -0.820312 3.21875 -0.84375 C 3.332031 -0.863281 3.453125 -0.882812 3.578125 -0.90625 Z M 3.578125 -0.046875 \"/>\n",
       "</symbol>\n",
       "<symbol overflow=\"visible\" id=\"glyph3-13\">\n",
       "<path style=\"stroke:none;\" d=\"M 0.890625 -8.453125 L 0.890625 -9.5625 L 2.046875 -9.5625 L 2.046875 -8.453125 Z M 0.890625 0 L 0.890625 -6.96875 L 2.046875 -6.96875 L 2.046875 0 Z M 0.890625 0 \"/>\n",
       "</symbol>\n",
       "<symbol overflow=\"visible\" id=\"glyph3-14\">\n",
       "<path style=\"stroke:none;\" d=\"M 5.3125 0 L 5.3125 -4.421875 C 5.3125 -4.765625 5.285156 -5.046875 5.234375 -5.265625 C 5.191406 -5.492188 5.113281 -5.675781 5 -5.8125 C 4.882812 -5.957031 4.734375 -6.054688 4.546875 -6.109375 C 4.367188 -6.171875 4.144531 -6.203125 3.875 -6.203125 C 3.601562 -6.203125 3.351562 -6.15625 3.125 -6.0625 C 2.90625 -5.96875 2.71875 -5.828125 2.5625 -5.640625 C 2.40625 -5.460938 2.285156 -5.238281 2.203125 -4.96875 C 2.117188 -4.695312 2.078125 -4.390625 2.078125 -4.046875 L 2.078125 0 L 0.921875 0 L 0.921875 -5.484375 C 0.921875 -5.628906 0.914062 -5.78125 0.90625 -5.9375 C 0.90625 -6.101562 0.898438 -6.257812 0.890625 -6.40625 C 0.890625 -6.550781 0.890625 -6.675781 0.890625 -6.78125 C 0.890625 -6.882812 0.882812 -6.945312 0.875 -6.96875 L 1.96875 -6.96875 C 1.976562 -6.945312 1.984375 -6.890625 1.984375 -6.796875 C 1.984375 -6.703125 1.988281 -6.59375 2 -6.46875 C 2.007812 -6.351562 2.015625 -6.226562 2.015625 -6.09375 C 2.023438 -5.96875 2.03125 -5.863281 2.03125 -5.78125 L 2.046875 -5.78125 C 2.160156 -5.976562 2.28125 -6.160156 2.40625 -6.328125 C 2.539062 -6.492188 2.695312 -6.632812 2.875 -6.75 C 3.050781 -6.863281 3.253906 -6.953125 3.484375 -7.015625 C 3.710938 -7.078125 3.976562 -7.109375 4.28125 -7.109375 C 4.664062 -7.109375 4.992188 -7.0625 5.265625 -6.96875 C 5.546875 -6.875 5.773438 -6.726562 5.953125 -6.53125 C 6.140625 -6.332031 6.273438 -6.078125 6.359375 -5.765625 C 6.441406 -5.453125 6.484375 -5.078125 6.484375 -4.640625 L 6.484375 0 Z M 5.3125 0 \"/>\n",
       "</symbol>\n",
       "<symbol overflow=\"visible\" id=\"glyph3-15\">\n",
       "<path style=\"stroke:none;\" d=\"M 6.125 -1.921875 C 6.125 -1.597656 6.0625 -1.304688 5.9375 -1.046875 C 5.8125 -0.796875 5.625 -0.582031 5.375 -0.40625 C 5.132812 -0.226562 4.835938 -0.09375 4.484375 0 C 4.140625 0.0820312 3.742188 0.125 3.296875 0.125 C 2.890625 0.125 2.523438 0.09375 2.203125 0.03125 C 1.878906 -0.03125 1.59375 -0.128906 1.34375 -0.265625 C 1.101562 -0.398438 0.898438 -0.578125 0.734375 -0.796875 C 0.566406 -1.023438 0.445312 -1.304688 0.375 -1.640625 L 1.390625 -1.84375 C 1.492188 -1.46875 1.695312 -1.191406 2 -1.015625 C 2.3125 -0.835938 2.742188 -0.75 3.296875 -0.75 C 3.546875 -0.75 3.773438 -0.765625 3.984375 -0.796875 C 4.191406 -0.835938 4.367188 -0.898438 4.515625 -0.984375 C 4.671875 -1.066406 4.789062 -1.175781 4.875 -1.3125 C 4.957031 -1.457031 5 -1.632812 5 -1.84375 C 5 -2.050781 4.945312 -2.222656 4.84375 -2.359375 C 4.75 -2.492188 4.613281 -2.601562 4.4375 -2.6875 C 4.257812 -2.78125 4.046875 -2.859375 3.796875 -2.921875 C 3.546875 -2.992188 3.269531 -3.070312 2.96875 -3.15625 C 2.6875 -3.226562 2.40625 -3.304688 2.125 -3.390625 C 1.851562 -3.484375 1.609375 -3.601562 1.390625 -3.75 C 1.171875 -3.90625 0.988281 -4.09375 0.84375 -4.3125 C 0.707031 -4.53125 0.640625 -4.800781 0.640625 -5.125 C 0.640625 -5.757812 0.863281 -6.242188 1.3125 -6.578125 C 1.769531 -6.910156 2.4375 -7.078125 3.3125 -7.078125 C 4.082031 -7.078125 4.691406 -6.941406 5.140625 -6.671875 C 5.597656 -6.398438 5.882812 -5.96875 6 -5.375 L 4.953125 -5.25 C 4.921875 -5.425781 4.851562 -5.578125 4.75 -5.703125 C 4.644531 -5.828125 4.519531 -5.925781 4.375 -6 C 4.226562 -6.070312 4.0625 -6.125 3.875 -6.15625 C 3.695312 -6.1875 3.507812 -6.203125 3.3125 -6.203125 C 2.78125 -6.203125 2.390625 -6.125 2.140625 -5.96875 C 1.890625 -5.8125 1.765625 -5.570312 1.765625 -5.25 C 1.765625 -5.0625 1.8125 -4.90625 1.90625 -4.78125 C 2 -4.65625 2.128906 -4.550781 2.296875 -4.46875 C 2.460938 -4.382812 2.660156 -4.3125 2.890625 -4.25 C 3.128906 -4.1875 3.382812 -4.125 3.65625 -4.0625 C 3.84375 -4.007812 4.03125 -3.957031 4.21875 -3.90625 C 4.414062 -3.851562 4.601562 -3.785156 4.78125 -3.703125 C 4.96875 -3.628906 5.140625 -3.539062 5.296875 -3.4375 C 5.460938 -3.34375 5.601562 -3.222656 5.71875 -3.078125 C 5.84375 -2.941406 5.941406 -2.773438 6.015625 -2.578125 C 6.085938 -2.390625 6.125 -2.171875 6.125 -1.921875 Z M 6.125 -1.921875 \"/>\n",
       "</symbol>\n",
       "<symbol overflow=\"visible\" id=\"glyph3-16\">\n",
       "<path style=\"stroke:none;\" d=\"M 7.5 0 L 5.140625 -3.765625 L 2.3125 -3.765625 L 2.3125 0 L 1.078125 0 L 1.078125 -9.078125 L 5.359375 -9.078125 C 5.867188 -9.078125 6.320312 -9.019531 6.71875 -8.90625 C 7.125 -8.789062 7.460938 -8.617188 7.734375 -8.390625 C 8.003906 -8.171875 8.207031 -7.898438 8.34375 -7.578125 C 8.488281 -7.253906 8.5625 -6.890625 8.5625 -6.484375 C 8.5625 -6.191406 8.519531 -5.90625 8.4375 -5.625 C 8.351562 -5.351562 8.21875 -5.097656 8.03125 -4.859375 C 7.851562 -4.628906 7.625 -4.429688 7.34375 -4.265625 C 7.070312 -4.097656 6.738281 -3.976562 6.34375 -3.90625 L 8.921875 0 Z M 7.328125 -6.46875 C 7.328125 -6.75 7.28125 -6.988281 7.1875 -7.1875 C 7.09375 -7.382812 6.953125 -7.550781 6.765625 -7.6875 C 6.585938 -7.820312 6.367188 -7.921875 6.109375 -7.984375 C 5.847656 -8.054688 5.554688 -8.09375 5.234375 -8.09375 L 2.3125 -8.09375 L 2.3125 -4.75 L 5.28125 -4.75 C 5.632812 -4.75 5.941406 -4.789062 6.203125 -4.875 C 6.460938 -4.96875 6.671875 -5.085938 6.828125 -5.234375 C 6.992188 -5.390625 7.117188 -5.570312 7.203125 -5.78125 C 7.285156 -6 7.328125 -6.226562 7.328125 -6.46875 Z M 7.328125 -6.46875 \"/>\n",
       "</symbol>\n",
       "<symbol overflow=\"visible\" id=\"glyph3-17\">\n",
       "<path style=\"stroke:none;\" d=\"M 2.03125 -6.96875 L 2.03125 -2.546875 C 2.03125 -2.210938 2.050781 -1.929688 2.09375 -1.703125 C 2.144531 -1.472656 2.226562 -1.285156 2.34375 -1.140625 C 2.457031 -1.003906 2.601562 -0.90625 2.78125 -0.84375 C 2.96875 -0.789062 3.195312 -0.765625 3.46875 -0.765625 C 3.738281 -0.765625 3.984375 -0.8125 4.203125 -0.90625 C 4.421875 -1.007812 4.609375 -1.148438 4.765625 -1.328125 C 4.929688 -1.515625 5.054688 -1.738281 5.140625 -2 C 5.222656 -2.269531 5.265625 -2.582031 5.265625 -2.9375 L 5.265625 -6.96875 L 6.421875 -6.96875 L 6.421875 -1.484375 C 6.421875 -1.335938 6.421875 -1.179688 6.421875 -1.015625 C 6.429688 -0.859375 6.4375 -0.707031 6.4375 -0.5625 C 6.445312 -0.425781 6.453125 -0.304688 6.453125 -0.203125 C 6.453125 -0.0976562 6.457031 -0.03125 6.46875 0 L 5.375 0 C 5.363281 -0.0195312 5.351562 -0.078125 5.34375 -0.171875 C 5.34375 -0.265625 5.335938 -0.375 5.328125 -0.5 C 5.328125 -0.625 5.320312 -0.75 5.3125 -0.875 C 5.3125 -1 5.3125 -1.101562 5.3125 -1.1875 L 5.296875 -1.1875 C 5.179688 -0.988281 5.054688 -0.804688 4.921875 -0.640625 C 4.796875 -0.484375 4.644531 -0.347656 4.46875 -0.234375 C 4.289062 -0.117188 4.085938 -0.03125 3.859375 0.03125 C 3.628906 0.09375 3.363281 0.125 3.0625 0.125 C 2.675781 0.125 2.34375 0.078125 2.0625 -0.015625 C 1.789062 -0.109375 1.5625 -0.253906 1.375 -0.453125 C 1.195312 -0.648438 1.066406 -0.898438 0.984375 -1.203125 C 0.898438 -1.515625 0.859375 -1.890625 0.859375 -2.328125 L 0.859375 -6.96875 Z M 2.03125 -6.96875 \"/>\n",
       "</symbol>\n",
       "</g>\n",
       "<clipPath id=\"clip1\">\n",
       "  <path d=\"M 40.152344 23.957031 L 498.523438 23.957031 L 498.523438 471.847656 L 40.152344 471.847656 Z M 40.152344 23.957031 \"/>\n",
       "</clipPath>\n",
       "<clipPath id=\"clip2\">\n",
       "  <path d=\"M 40.152344 438 L 498.523438 438 L 498.523438 439 L 40.152344 439 Z M 40.152344 438 \"/>\n",
       "</clipPath>\n",
       "<clipPath id=\"clip3\">\n",
       "  <path d=\"M 40.152344 349 L 498.523438 349 L 498.523438 351 L 40.152344 351 Z M 40.152344 349 \"/>\n",
       "</clipPath>\n",
       "<clipPath id=\"clip4\">\n",
       "  <path d=\"M 40.152344 260 L 498.523438 260 L 498.523438 262 L 40.152344 262 Z M 40.152344 260 \"/>\n",
       "</clipPath>\n",
       "<clipPath id=\"clip5\">\n",
       "  <path d=\"M 40.152344 172 L 498.523438 172 L 498.523438 173 L 40.152344 173 Z M 40.152344 172 \"/>\n",
       "</clipPath>\n",
       "<clipPath id=\"clip6\">\n",
       "  <path d=\"M 40.152344 83 L 498.523438 83 L 498.523438 84 L 40.152344 84 Z M 40.152344 83 \"/>\n",
       "</clipPath>\n",
       "<clipPath id=\"clip7\">\n",
       "  <path d=\"M 60 23.957031 L 62 23.957031 L 62 471.847656 L 60 471.847656 Z M 60 23.957031 \"/>\n",
       "</clipPath>\n",
       "<clipPath id=\"clip8\">\n",
       "  <path d=\"M 227 23.957031 L 228 23.957031 L 228 471.847656 L 227 471.847656 Z M 227 23.957031 \"/>\n",
       "</clipPath>\n",
       "<clipPath id=\"clip9\">\n",
       "  <path d=\"M 394 23.957031 L 395 23.957031 L 395 471.847656 L 394 471.847656 Z M 394 23.957031 \"/>\n",
       "</clipPath>\n",
       "<clipPath id=\"clip10\">\n",
       "  <path d=\"M 40.152344 393 L 498.523438 393 L 498.523438 395 L 40.152344 395 Z M 40.152344 393 \"/>\n",
       "</clipPath>\n",
       "<clipPath id=\"clip11\">\n",
       "  <path d=\"M 40.152344 304 L 498.523438 304 L 498.523438 306 L 40.152344 306 Z M 40.152344 304 \"/>\n",
       "</clipPath>\n",
       "<clipPath id=\"clip12\">\n",
       "  <path d=\"M 40.152344 216 L 498.523438 216 L 498.523438 218 L 40.152344 218 Z M 40.152344 216 \"/>\n",
       "</clipPath>\n",
       "<clipPath id=\"clip13\">\n",
       "  <path d=\"M 40.152344 127 L 498.523438 127 L 498.523438 129 L 40.152344 129 Z M 40.152344 127 \"/>\n",
       "</clipPath>\n",
       "<clipPath id=\"clip14\">\n",
       "  <path d=\"M 40.152344 38 L 498.523438 38 L 498.523438 40 L 40.152344 40 Z M 40.152344 38 \"/>\n",
       "</clipPath>\n",
       "<clipPath id=\"clip15\">\n",
       "  <path d=\"M 143 23.957031 L 145 23.957031 L 145 471.847656 L 143 471.847656 Z M 143 23.957031 \"/>\n",
       "</clipPath>\n",
       "<clipPath id=\"clip16\">\n",
       "  <path d=\"M 310 23.957031 L 312 23.957031 L 312 471.847656 L 310 471.847656 Z M 310 23.957031 \"/>\n",
       "</clipPath>\n",
       "<clipPath id=\"clip17\">\n",
       "  <path d=\"M 477 23.957031 L 479 23.957031 L 479 471.847656 L 477 471.847656 Z M 477 23.957031 \"/>\n",
       "</clipPath>\n",
       "</defs>\n",
       "<g id=\"surface194\">\n",
       "<rect x=\"0\" y=\"0\" width=\"504\" height=\"504\" style=\"fill:rgb(100%,100%,100%);fill-opacity:1;stroke:none;\"/>\n",
       "<rect x=\"0\" y=\"0\" width=\"504\" height=\"504\" style=\"fill:rgb(100%,100%,100%);fill-opacity:1;stroke:none;\"/>\n",
       "<path style=\"fill:none;stroke-width:1.066978;stroke-linecap:round;stroke-linejoin:round;stroke:rgb(100%,100%,100%);stroke-opacity:1;stroke-miterlimit:10;\" d=\"M 0 504 L 504 504 L 504 0 L 0 0 Z M 0 504 \"/>\n",
       "<g clip-path=\"url(#clip1)\" clip-rule=\"nonzero\">\n",
       "<path style=\" stroke:none;fill-rule:nonzero;fill:rgb(92.156863%,92.156863%,92.156863%);fill-opacity:1;\" d=\"M 40.152344 471.847656 L 498.523438 471.847656 L 498.523438 23.957031 L 40.152344 23.957031 Z M 40.152344 471.847656 \"/>\n",
       "</g>\n",
       "<g clip-path=\"url(#clip2)\" clip-rule=\"nonzero\">\n",
       "<path style=\"fill:none;stroke-width:0.533489;stroke-linecap:butt;stroke-linejoin:round;stroke:rgb(100%,100%,100%);stroke-opacity:1;stroke-miterlimit:10;\" d=\"M 40.152344 438.609375 L 498.519531 438.609375 \"/>\n",
       "</g>\n",
       "<g clip-path=\"url(#clip3)\" clip-rule=\"nonzero\">\n",
       "<path style=\"fill:none;stroke-width:0.533489;stroke-linecap:butt;stroke-linejoin:round;stroke:rgb(100%,100%,100%);stroke-opacity:1;stroke-miterlimit:10;\" d=\"M 40.152344 349.835938 L 498.519531 349.835938 \"/>\n",
       "</g>\n",
       "<g clip-path=\"url(#clip4)\" clip-rule=\"nonzero\">\n",
       "<path style=\"fill:none;stroke-width:0.533489;stroke-linecap:butt;stroke-linejoin:round;stroke:rgb(100%,100%,100%);stroke-opacity:1;stroke-miterlimit:10;\" d=\"M 40.152344 261.058594 L 498.519531 261.058594 \"/>\n",
       "</g>\n",
       "<g clip-path=\"url(#clip5)\" clip-rule=\"nonzero\">\n",
       "<path style=\"fill:none;stroke-width:0.533489;stroke-linecap:butt;stroke-linejoin:round;stroke:rgb(100%,100%,100%);stroke-opacity:1;stroke-miterlimit:10;\" d=\"M 40.152344 172.285156 L 498.519531 172.285156 \"/>\n",
       "</g>\n",
       "<g clip-path=\"url(#clip6)\" clip-rule=\"nonzero\">\n",
       "<path style=\"fill:none;stroke-width:0.533489;stroke-linecap:butt;stroke-linejoin:round;stroke:rgb(100%,100%,100%);stroke-opacity:1;stroke-miterlimit:10;\" d=\"M 40.152344 83.507812 L 498.519531 83.507812 \"/>\n",
       "</g>\n",
       "<g clip-path=\"url(#clip7)\" clip-rule=\"nonzero\">\n",
       "<path style=\"fill:none;stroke-width:0.533489;stroke-linecap:butt;stroke-linejoin:round;stroke:rgb(100%,100%,100%);stroke-opacity:1;stroke-miterlimit:10;\" d=\"M 60.984375 471.847656 L 60.984375 23.957031 \"/>\n",
       "</g>\n",
       "<g clip-path=\"url(#clip8)\" clip-rule=\"nonzero\">\n",
       "<path style=\"fill:none;stroke-width:0.533489;stroke-linecap:butt;stroke-linejoin:round;stroke:rgb(100%,100%,100%);stroke-opacity:1;stroke-miterlimit:10;\" d=\"M 227.664062 471.847656 L 227.664062 23.957031 \"/>\n",
       "</g>\n",
       "<g clip-path=\"url(#clip9)\" clip-rule=\"nonzero\">\n",
       "<path style=\"fill:none;stroke-width:0.533489;stroke-linecap:butt;stroke-linejoin:round;stroke:rgb(100%,100%,100%);stroke-opacity:1;stroke-miterlimit:10;\" d=\"M 394.34375 471.847656 L 394.34375 23.957031 \"/>\n",
       "</g>\n",
       "<g clip-path=\"url(#clip10)\" clip-rule=\"nonzero\">\n",
       "<path style=\"fill:none;stroke-width:1.066978;stroke-linecap:butt;stroke-linejoin:round;stroke:rgb(100%,100%,100%);stroke-opacity:1;stroke-miterlimit:10;\" d=\"M 40.152344 394.222656 L 498.519531 394.222656 \"/>\n",
       "</g>\n",
       "<g clip-path=\"url(#clip11)\" clip-rule=\"nonzero\">\n",
       "<path style=\"fill:none;stroke-width:1.066978;stroke-linecap:butt;stroke-linejoin:round;stroke:rgb(100%,100%,100%);stroke-opacity:1;stroke-miterlimit:10;\" d=\"M 40.152344 305.445312 L 498.519531 305.445312 \"/>\n",
       "</g>\n",
       "<g clip-path=\"url(#clip12)\" clip-rule=\"nonzero\">\n",
       "<path style=\"fill:none;stroke-width:1.066978;stroke-linecap:butt;stroke-linejoin:round;stroke:rgb(100%,100%,100%);stroke-opacity:1;stroke-miterlimit:10;\" d=\"M 40.152344 216.671875 L 498.519531 216.671875 \"/>\n",
       "</g>\n",
       "<g clip-path=\"url(#clip13)\" clip-rule=\"nonzero\">\n",
       "<path style=\"fill:none;stroke-width:1.066978;stroke-linecap:butt;stroke-linejoin:round;stroke:rgb(100%,100%,100%);stroke-opacity:1;stroke-miterlimit:10;\" d=\"M 40.152344 127.894531 L 498.519531 127.894531 \"/>\n",
       "</g>\n",
       "<g clip-path=\"url(#clip14)\" clip-rule=\"nonzero\">\n",
       "<path style=\"fill:none;stroke-width:1.066978;stroke-linecap:butt;stroke-linejoin:round;stroke:rgb(100%,100%,100%);stroke-opacity:1;stroke-miterlimit:10;\" d=\"M 40.152344 39.121094 L 498.519531 39.121094 \"/>\n",
       "</g>\n",
       "<g clip-path=\"url(#clip15)\" clip-rule=\"nonzero\">\n",
       "<path style=\"fill:none;stroke-width:1.066978;stroke-linecap:butt;stroke-linejoin:round;stroke:rgb(100%,100%,100%);stroke-opacity:1;stroke-miterlimit:10;\" d=\"M 144.324219 471.847656 L 144.324219 23.957031 \"/>\n",
       "</g>\n",
       "<g clip-path=\"url(#clip16)\" clip-rule=\"nonzero\">\n",
       "<path style=\"fill:none;stroke-width:1.066978;stroke-linecap:butt;stroke-linejoin:round;stroke:rgb(100%,100%,100%);stroke-opacity:1;stroke-miterlimit:10;\" d=\"M 311.003906 471.847656 L 311.003906 23.957031 \"/>\n",
       "</g>\n",
       "<g clip-path=\"url(#clip17)\" clip-rule=\"nonzero\">\n",
       "<path style=\"fill:none;stroke-width:1.066978;stroke-linecap:butt;stroke-linejoin:round;stroke:rgb(100%,100%,100%);stroke-opacity:1;stroke-miterlimit:10;\" d=\"M 477.6875 471.847656 L 477.6875 23.957031 \"/>\n",
       "</g>\n",
       "<path style=\"fill:none;stroke-width:1.066978;stroke-linecap:butt;stroke-linejoin:round;stroke:rgb(0%,0%,0%);stroke-opacity:1;stroke-miterlimit:10;\" d=\"M 60.984375 451.492188 L 144.324219 73.730469 L 227.664062 49.515625 L 311.003906 44.316406 L 394.34375 54.734375 L 477.6875 49.515625 \"/>\n",
       "<path style=\"fill-rule:nonzero;fill:rgb(0%,0%,0%);fill-opacity:1;stroke-width:0.708661;stroke-linecap:round;stroke-linejoin:round;stroke:rgb(0%,0%,0%);stroke-opacity:1;stroke-miterlimit:10;\" d=\"M 62.941406 451.492188 C 62.941406 454.097656 59.03125 454.097656 59.03125 451.492188 C 59.03125 448.882812 62.941406 448.882812 62.941406 451.492188 \"/>\n",
       "<path style=\"fill-rule:nonzero;fill:rgb(0%,0%,0%);fill-opacity:1;stroke-width:0.708661;stroke-linecap:round;stroke-linejoin:round;stroke:rgb(0%,0%,0%);stroke-opacity:1;stroke-miterlimit:10;\" d=\"M 146.28125 73.730469 C 146.28125 76.335938 142.371094 76.335938 142.371094 73.730469 C 142.371094 71.125 146.28125 71.125 146.28125 73.730469 \"/>\n",
       "<path style=\"fill-rule:nonzero;fill:rgb(0%,0%,0%);fill-opacity:1;stroke-width:0.708661;stroke-linecap:round;stroke-linejoin:round;stroke:rgb(0%,0%,0%);stroke-opacity:1;stroke-miterlimit:10;\" d=\"M 229.621094 49.515625 C 229.621094 52.121094 225.710938 52.121094 225.710938 49.515625 C 225.710938 46.90625 229.621094 46.90625 229.621094 49.515625 \"/>\n",
       "<path style=\"fill-rule:nonzero;fill:rgb(0%,0%,0%);fill-opacity:1;stroke-width:0.708661;stroke-linecap:round;stroke-linejoin:round;stroke:rgb(0%,0%,0%);stroke-opacity:1;stroke-miterlimit:10;\" d=\"M 312.960938 44.316406 C 312.960938 46.925781 309.050781 46.925781 309.050781 44.316406 C 309.050781 41.710938 312.960938 41.710938 312.960938 44.316406 \"/>\n",
       "<path style=\"fill-rule:nonzero;fill:rgb(0%,0%,0%);fill-opacity:1;stroke-width:0.708661;stroke-linecap:round;stroke-linejoin:round;stroke:rgb(0%,0%,0%);stroke-opacity:1;stroke-miterlimit:10;\" d=\"M 396.300781 54.734375 C 396.300781 57.34375 392.390625 57.34375 392.390625 54.734375 C 392.390625 52.128906 396.300781 52.128906 396.300781 54.734375 \"/>\n",
       "<path style=\"fill-rule:nonzero;fill:rgb(0%,0%,0%);fill-opacity:1;stroke-width:0.708661;stroke-linecap:round;stroke-linejoin:round;stroke:rgb(0%,0%,0%);stroke-opacity:1;stroke-miterlimit:10;\" d=\"M 479.640625 49.515625 C 479.640625 52.121094 475.730469 52.121094 475.730469 49.515625 C 475.730469 46.90625 479.640625 46.90625 479.640625 49.515625 \"/>\n",
       "<g style=\"fill:rgb(30.196078%,30.196078%,30.196078%);fill-opacity:1;\">\n",
       "  <use xlink:href=\"#glyph0-1\" x=\"18.21875\" y=\"397.688477\"/>\n",
       "  <use xlink:href=\"#glyph0-2\" x=\"23.21875\" y=\"397.688477\"/>\n",
       "  <use xlink:href=\"#glyph0-3\" x=\"25.21875\" y=\"397.688477\"/>\n",
       "  <use xlink:href=\"#glyph0-1\" x=\"30.21875\" y=\"397.688477\"/>\n",
       "</g>\n",
       "<g style=\"fill:rgb(30.196078%,30.196078%,30.196078%);fill-opacity:1;\">\n",
       "  <use xlink:href=\"#glyph0-1\" x=\"18.21875\" y=\"308.911133\"/>\n",
       "  <use xlink:href=\"#glyph0-2\" x=\"23.21875\" y=\"308.911133\"/>\n",
       "  <use xlink:href=\"#glyph0-3\" x=\"25.21875\" y=\"308.911133\"/>\n",
       "  <use xlink:href=\"#glyph0-4\" x=\"30.21875\" y=\"308.911133\"/>\n",
       "</g>\n",
       "<g style=\"fill:rgb(30.196078%,30.196078%,30.196078%);fill-opacity:1;\">\n",
       "  <use xlink:href=\"#glyph0-1\" x=\"18.21875\" y=\"220.137695\"/>\n",
       "  <use xlink:href=\"#glyph0-2\" x=\"23.21875\" y=\"220.137695\"/>\n",
       "  <use xlink:href=\"#glyph0-5\" x=\"25.21875\" y=\"220.137695\"/>\n",
       "  <use xlink:href=\"#glyph0-1\" x=\"30.21875\" y=\"220.137695\"/>\n",
       "</g>\n",
       "<g style=\"fill:rgb(30.196078%,30.196078%,30.196078%);fill-opacity:1;\">\n",
       "  <use xlink:href=\"#glyph0-1\" x=\"18.21875\" y=\"131.360352\"/>\n",
       "  <use xlink:href=\"#glyph0-2\" x=\"23.21875\" y=\"131.360352\"/>\n",
       "  <use xlink:href=\"#glyph0-5\" x=\"25.21875\" y=\"131.360352\"/>\n",
       "  <use xlink:href=\"#glyph0-4\" x=\"30.21875\" y=\"131.360352\"/>\n",
       "</g>\n",
       "<g style=\"fill:rgb(30.196078%,30.196078%,30.196078%);fill-opacity:1;\">\n",
       "  <use xlink:href=\"#glyph0-6\" x=\"18.21875\" y=\"42.586914\"/>\n",
       "  <use xlink:href=\"#glyph0-2\" x=\"23.21875\" y=\"42.586914\"/>\n",
       "  <use xlink:href=\"#glyph0-1\" x=\"25.21875\" y=\"42.586914\"/>\n",
       "  <use xlink:href=\"#glyph0-1\" x=\"30.21875\" y=\"42.586914\"/>\n",
       "</g>\n",
       "<path style=\"fill:none;stroke-width:1.066978;stroke-linecap:butt;stroke-linejoin:round;stroke:rgb(20%,20%,20%);stroke-opacity:1;stroke-miterlimit:10;\" d=\"M 37.410156 394.222656 L 40.152344 394.222656 \"/>\n",
       "<path style=\"fill:none;stroke-width:1.066978;stroke-linecap:butt;stroke-linejoin:round;stroke:rgb(20%,20%,20%);stroke-opacity:1;stroke-miterlimit:10;\" d=\"M 37.410156 305.445312 L 40.152344 305.445312 \"/>\n",
       "<path style=\"fill:none;stroke-width:1.066978;stroke-linecap:butt;stroke-linejoin:round;stroke:rgb(20%,20%,20%);stroke-opacity:1;stroke-miterlimit:10;\" d=\"M 37.410156 216.671875 L 40.152344 216.671875 \"/>\n",
       "<path style=\"fill:none;stroke-width:1.066978;stroke-linecap:butt;stroke-linejoin:round;stroke:rgb(20%,20%,20%);stroke-opacity:1;stroke-miterlimit:10;\" d=\"M 37.410156 127.894531 L 40.152344 127.894531 \"/>\n",
       "<path style=\"fill:none;stroke-width:1.066978;stroke-linecap:butt;stroke-linejoin:round;stroke:rgb(20%,20%,20%);stroke-opacity:1;stroke-miterlimit:10;\" d=\"M 37.410156 39.121094 L 40.152344 39.121094 \"/>\n",
       "<path style=\"fill:none;stroke-width:1.066978;stroke-linecap:butt;stroke-linejoin:round;stroke:rgb(20%,20%,20%);stroke-opacity:1;stroke-miterlimit:10;\" d=\"M 144.324219 474.589844 L 144.324219 471.847656 \"/>\n",
       "<path style=\"fill:none;stroke-width:1.066978;stroke-linecap:butt;stroke-linejoin:round;stroke:rgb(20%,20%,20%);stroke-opacity:1;stroke-miterlimit:10;\" d=\"M 311.003906 474.589844 L 311.003906 471.847656 \"/>\n",
       "<path style=\"fill:none;stroke-width:1.066978;stroke-linecap:butt;stroke-linejoin:round;stroke:rgb(20%,20%,20%);stroke-opacity:1;stroke-miterlimit:10;\" d=\"M 477.6875 474.589844 L 477.6875 471.847656 \"/>\n",
       "<g style=\"fill:rgb(30.196078%,30.196078%,30.196078%);fill-opacity:1;\">\n",
       "  <use xlink:href=\"#glyph0-7\" x=\"141.824219\" y=\"483.74707\"/>\n",
       "</g>\n",
       "<g style=\"fill:rgb(30.196078%,30.196078%,30.196078%);fill-opacity:1;\">\n",
       "  <use xlink:href=\"#glyph0-8\" x=\"308.503906\" y=\"483.74707\"/>\n",
       "</g>\n",
       "<g style=\"fill:rgb(30.196078%,30.196078%,30.196078%);fill-opacity:1;\">\n",
       "  <use xlink:href=\"#glyph0-9\" x=\"475.1875\" y=\"483.74707\"/>\n",
       "</g>\n",
       "<g style=\"fill:rgb(0%,0%,0%);fill-opacity:1;\">\n",
       "  <use xlink:href=\"#glyph1-1\" x=\"217.335938\" y=\"496.477539\"/>\n",
       "  <use xlink:href=\"#glyph1-2\" x=\"225.335938\" y=\"496.477539\"/>\n",
       "  <use xlink:href=\"#glyph1-3\" x=\"231.335938\" y=\"496.477539\"/>\n",
       "  <use xlink:href=\"#glyph1-4\" x=\"240.335938\" y=\"496.477539\"/>\n",
       "  <use xlink:href=\"#glyph1-5\" x=\"246.335938\" y=\"496.477539\"/>\n",
       "  <use xlink:href=\"#glyph1-6\" x=\"252.335938\" y=\"496.477539\"/>\n",
       "  <use xlink:href=\"#glyph1-7\" x=\"256.335938\" y=\"496.477539\"/>\n",
       "  <use xlink:href=\"#glyph1-8\" x=\"259.335938\" y=\"496.477539\"/>\n",
       "  <use xlink:href=\"#glyph1-9\" x=\"265.335938\" y=\"496.477539\"/>\n",
       "  <use xlink:href=\"#glyph1-7\" x=\"268.335938\" y=\"496.477539\"/>\n",
       "  <use xlink:href=\"#glyph1-10\" x=\"271.335938\" y=\"496.477539\"/>\n",
       "  <use xlink:href=\"#glyph1-6\" x=\"278.335938\" y=\"496.477539\"/>\n",
       "  <use xlink:href=\"#glyph1-5\" x=\"282.335938\" y=\"496.477539\"/>\n",
       "  <use xlink:href=\"#glyph1-11\" x=\"288.335938\" y=\"496.477539\"/>\n",
       "  <use xlink:href=\"#glyph1-12\" x=\"294.335938\" y=\"496.477539\"/>\n",
       "  <use xlink:href=\"#glyph1-13\" x=\"296.335938\" y=\"496.477539\"/>\n",
       "  <use xlink:href=\"#glyph1-14\" x=\"302.335938\" y=\"496.477539\"/>\n",
       "  <use xlink:href=\"#glyph1-8\" x=\"305.335938\" y=\"496.477539\"/>\n",
       "  <use xlink:href=\"#glyph1-6\" x=\"311.335938\" y=\"496.477539\"/>\n",
       "  <use xlink:href=\"#glyph1-15\" x=\"315.335938\" y=\"496.477539\"/>\n",
       "</g>\n",
       "<g style=\"fill:rgb(0%,0%,0%);fill-opacity:1;\">\n",
       "  <use xlink:href=\"#glyph2-1\" x=\"13.438477\" y=\"296.402344\"/>\n",
       "  <use xlink:href=\"#glyph2-2\" x=\"13.438477\" y=\"289.402344\"/>\n",
       "  <use xlink:href=\"#glyph2-3\" x=\"13.438477\" y=\"283.402344\"/>\n",
       "  <use xlink:href=\"#glyph2-4\" x=\"13.438477\" y=\"280.402344\"/>\n",
       "  <use xlink:href=\"#glyph2-5\" x=\"13.438477\" y=\"278.402344\"/>\n",
       "  <use xlink:href=\"#glyph2-6\" x=\"13.438477\" y=\"269.402344\"/>\n",
       "  <use xlink:href=\"#glyph2-3\" x=\"13.438477\" y=\"263.402344\"/>\n",
       "  <use xlink:href=\"#glyph2-7\" x=\"13.438477\" y=\"260.402344\"/>\n",
       "  <use xlink:href=\"#glyph2-8\" x=\"13.438477\" y=\"254.402344\"/>\n",
       "  <use xlink:href=\"#glyph2-9\" x=\"13.438477\" y=\"248.402344\"/>\n",
       "  <use xlink:href=\"#glyph2-10\" x=\"13.438477\" y=\"246.402344\"/>\n",
       "  <use xlink:href=\"#glyph2-11\" x=\"13.438477\" y=\"239.402344\"/>\n",
       "  <use xlink:href=\"#glyph2-11\" x=\"13.438477\" y=\"233.402344\"/>\n",
       "  <use xlink:href=\"#glyph2-12\" x=\"13.438477\" y=\"227.402344\"/>\n",
       "  <use xlink:href=\"#glyph2-13\" x=\"13.438477\" y=\"221.402344\"/>\n",
       "  <use xlink:href=\"#glyph2-6\" x=\"13.438477\" y=\"217.402344\"/>\n",
       "  <use xlink:href=\"#glyph2-11\" x=\"13.438477\" y=\"211.402344\"/>\n",
       "  <use xlink:href=\"#glyph2-14\" x=\"13.438477\" y=\"205.402344\"/>\n",
       "</g>\n",
       "<g style=\"fill:rgb(0%,0%,0%);fill-opacity:1;\">\n",
       "  <use xlink:href=\"#glyph3-1\" x=\"40.152344\" y=\"15.429688\"/>\n",
       "  <use xlink:href=\"#glyph3-2\" x=\"48.152344\" y=\"15.429688\"/>\n",
       "  <use xlink:href=\"#glyph3-3\" x=\"55.152344\" y=\"15.429688\"/>\n",
       "  <use xlink:href=\"#glyph3-4\" x=\"59.152344\" y=\"15.429688\"/>\n",
       "  <use xlink:href=\"#glyph3-5\" x=\"69.152344\" y=\"15.429688\"/>\n",
       "  <use xlink:href=\"#glyph3-3\" x=\"76.152344\" y=\"15.429688\"/>\n",
       "  <use xlink:href=\"#glyph3-6\" x=\"80.152344\" y=\"15.429688\"/>\n",
       "  <use xlink:href=\"#glyph3-7\" x=\"87.152344\" y=\"15.429688\"/>\n",
       "  <use xlink:href=\"#glyph3-8\" x=\"91.152344\" y=\"15.429688\"/>\n",
       "  <use xlink:href=\"#glyph3-9\" x=\"100.152344\" y=\"15.429688\"/>\n",
       "  <use xlink:href=\"#glyph3-10\" x=\"107.152344\" y=\"15.429688\"/>\n",
       "  <use xlink:href=\"#glyph3-9\" x=\"110.152344\" y=\"15.429688\"/>\n",
       "  <use xlink:href=\"#glyph3-11\" x=\"117.152344\" y=\"15.429688\"/>\n",
       "  <use xlink:href=\"#glyph3-12\" x=\"124.152344\" y=\"15.429688\"/>\n",
       "  <use xlink:href=\"#glyph3-13\" x=\"128.152344\" y=\"15.429688\"/>\n",
       "  <use xlink:href=\"#glyph3-2\" x=\"131.152344\" y=\"15.429688\"/>\n",
       "  <use xlink:href=\"#glyph3-14\" x=\"138.152344\" y=\"15.429688\"/>\n",
       "  <use xlink:href=\"#glyph3-15\" x=\"145.152344\" y=\"15.429688\"/>\n",
       "  <use xlink:href=\"#glyph3-7\" x=\"152.152344\" y=\"15.429688\"/>\n",
       "  <use xlink:href=\"#glyph3-16\" x=\"156.152344\" y=\"15.429688\"/>\n",
       "  <use xlink:href=\"#glyph3-9\" x=\"166.152344\" y=\"15.429688\"/>\n",
       "  <use xlink:href=\"#glyph3-15\" x=\"173.152344\" y=\"15.429688\"/>\n",
       "  <use xlink:href=\"#glyph3-17\" x=\"180.152344\" y=\"15.429688\"/>\n",
       "  <use xlink:href=\"#glyph3-10\" x=\"187.152344\" y=\"15.429688\"/>\n",
       "  <use xlink:href=\"#glyph3-12\" x=\"190.152344\" y=\"15.429688\"/>\n",
       "  <use xlink:href=\"#glyph3-15\" x=\"194.152344\" y=\"15.429688\"/>\n",
       "</g>\n",
       "</g>\n",
       "</svg>\n"
      ],
      "text/plain": [
       "plot without title"
      ]
     },
     "metadata": {
      "application/pdf": {
       "height": 420,
       "width": 420
      },
      "image/jpeg": {
       "height": 420,
       "width": 420
      },
      "image/png": {
       "height": 420,
       "width": 420
      },
      "image/svg+xml": {
       "height": 420,
       "isolated": true,
       "width": 420
      }
     },
     "output_type": "display_data"
    }
   ],
   "source": [
    "accuracy_plot <- accuracies |>\n",
    "ggplot(aes(x = size, y = accuracy)) +\n",
    "geom_line() +\n",
    "geom_point() +\n",
    "labs(x = \"Number of Predictors\", y = \"Estimated Accuracy\") +\n",
    "ggtitle(\"Forward Selections Results\") \n",
    "\n",
    "accuracy_plot"
   ]
  },
  {
   "cell_type": "markdown",
   "id": "6c447310-b893-49f4-8253-74de12d7f5bd",
   "metadata": {},
   "source": [
    "From the forward selection, we can see that the six predictors we chose result in a very high accuracy, and we do not need to remove any of them. "
   ]
  },
  {
   "cell_type": "markdown",
   "id": "e9648cb1-be83-49fb-befd-f55c352b98dc",
   "metadata": {
    "tags": []
   },
   "source": [
    "## References ##"
   ]
  },
  {
   "cell_type": "markdown",
   "id": "619d2280-8301-4cea-b1f2-398f99c147ef",
   "metadata": {
    "tags": []
   },
   "source": [
    "Janosi, Andras, William Steinbrunn, Matthias Pfisterer, and Robert Detrano. “Heart Disease.” UCI Machine Learning Repository, June 30, 1988. Kaggle. https://doi.org/10.24432/C52P4X.\n"
   ]
  },
  {
   "cell_type": "code",
   "execution_count": null,
   "id": "ebd21e59-9239-467e-9071-5e1403d77381",
   "metadata": {},
   "outputs": [],
   "source": []
  }
 ],
 "metadata": {
  "kernelspec": {
   "display_name": "R",
   "language": "R",
   "name": "ir"
  },
  "language_info": {
   "codemirror_mode": "r",
   "file_extension": ".r",
   "mimetype": "text/x-r-source",
   "name": "R",
   "pygments_lexer": "r",
   "version": "4.2.2"
  }
 },
 "nbformat": 4,
 "nbformat_minor": 5
}
