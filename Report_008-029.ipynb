{
 "cells": [
  {
   "cell_type": "markdown",
   "id": "a958167a-b520-481d-817a-9de6d6f7b02f",
   "metadata": {},
   "source": [
    "# Predicting Thalassemia (Heart Disease) #"
   ]
  },
  {
   "cell_type": "markdown",
   "id": "5c9daba5-ead3-4694-9154-f99fe69c5c14",
   "metadata": {},
   "source": [
    "**[Github Repo](https://github.com/AnishkaFP/dsci-100-2023w1-group-029)**"
   ]
  },
  {
   "cell_type": "markdown",
   "id": "ea7a5c4b-7130-4b92-8266-318b53f6d1fc",
   "metadata": {},
   "source": [
    "### Goup Details ###\n",
    "Group Number: 008-29\n",
    "### Members: \n",
    "- Ishaan Chakrabarty\n",
    "- Anishka Fernandopulle\n",
    "- Milan Wiertz\n",
    "- Molly Jiang"
   ]
  },
  {
   "cell_type": "markdown",
   "id": "8f9770db-7f9c-452e-981c-9c0b44007e0c",
   "metadata": {
    "tags": []
   },
   "source": [
    "## Introduction ## \n",
    "The topic aims to show the presence of heart disease in individuals, depending on various factors. The study specifically focuses on the Thalassemia heart disease, which is a blood disorder that causes your body to have too little hemoglobin, which is what enables red blood cells to carry oxygen."
   ]
  },
  {
   "cell_type": "markdown",
   "id": "edca1dab-01bb-4096-9e2b-db80ff81cd52",
   "metadata": {},
   "source": [
    "### Goal: ###\n",
    "Our project will seek to predict heart disease in patients based on their performance in a series of easily accessible metrics with the intent of identifying patients that are likely to be affected early for further testing. "
   ]
  },
  {
   "cell_type": "markdown",
   "id": "730145e4-f345-4ac6-a5e0-ecab29f7d92c",
   "metadata": {
    "tags": []
   },
   "source": [
    "## Methodology ##"
   ]
  },
  {
   "cell_type": "markdown",
   "id": "3af1941c-c05a-473b-94c1-65e8fd47e3e2",
   "metadata": {},
   "source": [
    "### Describing the Data ###\n",
    "\n",
    "To do so, we will make use of a [simplified version](https://www.kaggle.com/datasets/johnsmith88/heart-disease-dataset) of a [dataset by UC Irvine](https://archive.ics.uci.edu/dataset/45/heart+disease).\n",
    "\n",
    "The dataset contains 12 metrics regarding patients that were diagnosed (or not) with Thalassemia, as well as an indication of whether they developed the disease (target) and whether such development was reversible or fixed (thal). The data includes biographical information such as the sex and age of the patient, results of medical tests as well as analysis of test results (eg. whether the electrocardiogram presented any abnormalities).\n",
    "\n",
    "Hereby each variable as well as their coding in the dataset, a description and variable types:\n"
   ]
  },
  {
   "cell_type": "markdown",
   "id": "a986b745-1d4a-4657-bd2d-01761c99472c",
   "metadata": {
    "tags": []
   },
   "source": [
    "| Variable                           | Coding   | Description                                                 | Type          |\n",
    "|------------------------------------|----------|-------------------------------------------------------------|---------------|\n",
    "| Age                                | age      | Age of the patient                                         | Integer       |\n",
    "| Sex                                | sex      | Sex of the patient  (0=female, 1=male)                     | Categorical, 0-1 |\n",
    "| Chest pain type                    | cp       | Type of patient pain (0=typical angina, 1=atypical angina, 2=non-anginal pain, 3=asymptomatic)         | Categorical, 0-3 |\n",
    "| Resting blood pressure (mmHg)      | trestbps | Blood pressure of the patient at rest                       | Integer       |\n",
    "| Serum cholesterol in mg/dl         | chol     | Cholesterol level in the patient                            | Integer       |\n",
    "| Fasting blood sugar > 120 mg/dl    | fbs      | Is the blood sugar level of the patient above 120 mg/dl? (0=no, 1=yes)  | Categorical, 0-1 |\n",
    "| Resting electrocardiographic results | restecg  | EC result (0=regular, 1=abnormal, 2=hypertrophy)             | Categorical, 0-2 |\n",
    "| Maximum heart rate achieved (bpm)  | thalach  | Heart rate achieved during exercise                          | Integer       |\n",
    "| Exercise induced angina             | exang    | Did the patient suffer from angina due to exercise? (0=no, 1=yes)        | Categorical, 0-1 |\n",
    "| ST depression                      | oldpeak  | ST depression induced by exercise relative to rest on the electrocardiogram | Numeric |\n",
    "| ST Slope                           | slope    | The slope of the peak exercise ST segment (0=upsloping, 1=flat 2=downsloping)| Categorical, 0-2 |\n",
    "| Major vessels                      | ca       | Number of major vessels colored by fluoroscopy              | Integer       |\n",
    "| Thalassemia                        | thal     | Type of Thalassemia (0=not affected, 1=fixed, 2=reversible)   |Categorical, 0-2 |\n",
    "| Target                             | target   | Presence of Thalassemia (0=no, 1=yes)                | Categorical, 0-1 |\n"
   ]
  },
  {
   "cell_type": "markdown",
   "id": "db0bafc1-5f79-4df7-aba1-e5adf29cab23",
   "metadata": {},
   "source": [
    "## Discussion ##"
   ]
  },
  {
   "cell_type": "code",
   "execution_count": null,
   "id": "d0d39aeb-601e-42ad-9795-ba48656dcaca",
   "metadata": {},
   "outputs": [],
   "source": []
  },
  {
   "cell_type": "markdown",
   "id": "e9648cb1-be83-49fb-befd-f55c352b98dc",
   "metadata": {},
   "source": [
    "## References ##"
   ]
  },
  {
   "cell_type": "markdown",
   "id": "619d2280-8301-4cea-b1f2-398f99c147ef",
   "metadata": {
    "tags": []
   },
   "source": [
    "Janosi, Andras, William Steinbrunn, Matthias Pfisterer, and Robert Detrano. “Heart Disease.” UCI Machine Learning Repository, June 30, 1988. Kaggle. https://doi.org/10.24432/C52P4X.\n"
   ]
  }
 ],
 "metadata": {
  "kernelspec": {
   "display_name": "R",
   "language": "R",
   "name": "ir"
  },
  "language_info": {
   "codemirror_mode": "r",
   "file_extension": ".r",
   "mimetype": "text/x-r-source",
   "name": "R",
   "pygments_lexer": "r",
   "version": "4.2.2"
  }
 },
 "nbformat": 4,
 "nbformat_minor": 5
}
